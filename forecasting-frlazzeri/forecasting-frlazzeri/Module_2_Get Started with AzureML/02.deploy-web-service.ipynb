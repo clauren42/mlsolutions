{
 "cells": [
  {
   "cell_type": "markdown",
   "metadata": {},
   "source": [
    "Copyright (c) Microsoft Corporation. All rights reserved.\n",
    "\n",
    "Licensed under the MIT License."
   ]
  },
  {
   "cell_type": "markdown",
   "metadata": {},
   "source": [
    "## Introduction to Azure Machine Learning: Deploy web service\n",
    "\n",
    "In previous example, you ran an experiment to estimate value of pi. In this example, we'll use your estimated value to create a web service that computes the area of a circle in a real time. You'll learn about following concepts:\n",
    "\n",
    "**Model** is simply a file - or a folder of files - that model management service tracks and versions. Typically a model file would contain the coefficients of your trained model, saved to a file.  \n",
    "\n",
    "**Image** is a combination of model, a Python scoring script that tells how to load and invoke the model, and Python libraries used to execute that code. It is a self-contained unit that can be deployed as a service.\n",
    "\n",
    "**Service** is the image running on a compute. The service can be called from your front-end application to get predictions, either using the Azure ML SDK or raw HTTP."
   ]
  },
  {
   "cell_type": "markdown",
   "metadata": {},
   "source": [
    "**Important**: This notebook uses Azure Container Instances (ACI) as the compute for the service. If you haven't registered ACI provider with your Azure subscription, run the following 2 cells first. Note that you must be the administrator of your Azure subscription to register a provider."
   ]
  },
  {
   "cell_type": "code",
   "execution_count": 1,
   "metadata": {},
   "outputs": [
    {
     "name": "stdout",
     "output_type": "stream",
     "text": [
      "\u001b[31mPlease run 'az login' to setup account.\u001b[0m\r\n"
     ]
    }
   ],
   "source": [
    "!az provider show -n Microsoft.ContainerInstance -o table"
   ]
  },
  {
   "cell_type": "code",
   "execution_count": 2,
   "metadata": {},
   "outputs": [
    {
     "name": "stdout",
     "output_type": "stream",
     "text": [
      "\u001b[31mPlease run 'az login' to setup account.\u001b[0m\r\n"
     ]
    }
   ],
   "source": [
    "!az provider register -n Microsoft.ContainerInstance"
   ]
  },
  {
   "cell_type": "markdown",
   "metadata": {},
   "source": [
    "Let's load the workspace, and retrieve the latest run from your experiment using *Experiment.get_runs* method."
   ]
  },
  {
   "cell_type": "code",
   "execution_count": null,
   "metadata": {},
   "outputs": [],
   "source": [
    "from azureml.core import Workspace, Experiment, Run\n",
    "import math, random, pickle, json"
   ]
  },
  {
   "cell_type": "code",
   "execution_count": null,
   "metadata": {},
   "outputs": [],
   "source": [
    "ws = Workspace.from_config()"
   ]
  },
  {
   "cell_type": "code",
   "execution_count": null,
   "metadata": {},
   "outputs": [],
   "source": [
    "experiment_name = \"my-first-experiment\"\n",
    "run = list(Experiment(workspace = ws, name = experiment_name).get_runs())[0]"
   ]
  },
  {
   "cell_type": "markdown",
   "metadata": {},
   "source": [
    "In the previous example you saved a file containing the pi value into run history. Registering the file makes it into a model that is tracked by Azure ML model management."
   ]
  },
  {
   "cell_type": "code",
   "execution_count": null,
   "metadata": {},
   "outputs": [],
   "source": [
    "model = run.register_model(model_name = \"pi_estimate\", model_path = \"outputs/pi_estimate.txt\")"
   ]
  },
  {
   "cell_type": "markdown",
   "metadata": {},
   "source": [
    "Let's create a scoring script that computes an area of a circle, given the estimate within the pi_estimate model. The scoring script consists of two parts: \n",
    "\n",
    " * The *init* method that loads the model. You can retrieve registered model using *Model.get_model_path* method. \n",
    " * The *run* method that gets invoked when you call the web service. It computes the area of a circle using the well-known $area = \\pi*radius^2$ formula. The inputs and outputs are passed as json-formatted strings."
   ]
  },
  {
   "cell_type": "code",
   "execution_count": null,
   "metadata": {},
   "outputs": [],
   "source": [
    "%%writefile score.py\n",
    "import pickle, json\n",
    "from azureml.core.model import Model\n",
    "\n",
    "def init():\n",
    "    global pi_estimate\n",
    "    model_path = Model.get_model_path(model_name = \"pi_estimate\")\n",
    "    with open(model_path, \"rb\") as f:\n",
    "        pi_estimate = float(pickle.load(f))\n",
    "\n",
    "def run(raw_data):\n",
    "    try:\n",
    "        radius = json.loads(raw_data)[\"radius\"]\n",
    "        result = pi_estimate * radius**2\n",
    "        return json.dumps({\"area\": result})\n",
    "    except Exception as e:\n",
    "        result = str(e)\n",
    "        return json.dumps({\"error\": result})"
   ]
  },
  {
   "cell_type": "markdown",
   "metadata": {},
   "source": [
    "You also need to specify the library dependencies of your scoring script as conda yml file. This example doesn't use any special libraries, so let's simply use Azure ML's default dependencies."
   ]
  },
  {
   "cell_type": "code",
   "execution_count": null,
   "metadata": {},
   "outputs": [],
   "source": [
    "from azureml.core.conda_dependencies import CondaDependencies \n",
    "\n",
    "cd = CondaDependencies()\n",
    "cd.save_to_file(\".\", \"myenv.yml\")"
   ]
  },
  {
   "cell_type": "markdown",
   "metadata": {},
   "source": [
    "Then, let's deploy the web service on Azure Container Instance: a serverless compute for running Docker images. Azure ML service takes care of packaging your model, scoring script and dependencies into Docker image and deploying it."
   ]
  },
  {
   "cell_type": "code",
   "execution_count": null,
   "metadata": {},
   "outputs": [],
   "source": [
    "from azureml.core.webservice import AciWebservice, Webservice\n",
    "from azureml.core.image import ContainerImage\n",
    "\n",
    "# Define the configuration of compute: ACI with 1 cpu core and 1 gb of memory.\n",
    "aci_config = AciWebservice.deploy_configuration(cpu_cores = 1, memory_gb = 1)\n",
    "\n",
    "# Specify the configuration of image: scoring script, Python runtime (PySpark is the other option), and conda file of library dependencies.\n",
    "image_config = ContainerImage.image_configuration(execution_script = \"score.py\", \n",
    "                                    runtime = \"python\", \n",
    "                                    conda_file = \"myenv.yml\")\n",
    "\n",
    "# Deploy the web service as an image containing the registered model.\n",
    "service = Webservice.deploy_from_model(name = \"area-calculator\",\n",
    "                                       deployment_config = aci_config,\n",
    "                                       models = [model],\n",
    "                                       image_config = image_config,\n",
    "                                       workspace = ws)\n",
    "\n",
    "# The service deployment can take several minutes: wait for completion.\n",
    "service.wait_for_deployment(show_output = True)"
   ]
  },
  {
   "cell_type": "markdown",
   "metadata": {},
   "source": [
    "You can try out the web service by passing in data as json-formatted request. Run the cell below and move the slider around to see real-time responses."
   ]
  },
  {
   "cell_type": "code",
   "execution_count": null,
   "metadata": {},
   "outputs": [],
   "source": [
    "from ipywidgets import interact\n",
    "\n",
    "def get_area(radius):\n",
    "    request = json.dumps({\"radius\": radius})\n",
    "    response = service.run(input_data = request)\n",
    "    return json.loads(response)[\"area\"]\n",
    "\n",
    "interact(get_area,radius=(0,10))"
   ]
  },
  {
   "cell_type": "markdown",
   "metadata": {},
   "source": [
    "Finally, delete the web service once you're done, so it's not consuming resources."
   ]
  },
  {
   "cell_type": "code",
   "execution_count": null,
   "metadata": {},
   "outputs": [],
   "source": [
    "service.delete()"
   ]
  },
  {
   "cell_type": "markdown",
   "metadata": {},
   "source": [
    "As your next step, take a look at the more detailed tutorial for building an image classification model using Azure Machine Learning service.\n",
    "\n",
    "[tutorials/img-classification-part1-training](./tutorials/img-classification-part1-training.ipynb)"
   ]
  },
  {
   "cell_type": "code",
   "execution_count": null,
   "metadata": {},
   "outputs": [],
   "source": []
  }
 ],
 "metadata": {
  "kernelspec": {
   "display_name": "Python (azureml)",
   "language": "python",
   "name": "azureml"
  },
  "language_info": {
   "codemirror_mode": {
    "name": "ipython",
    "version": 3
   },
   "file_extension": ".py",
   "mimetype": "text/x-python",
   "name": "python",
   "nbconvert_exporter": "python",
   "pygments_lexer": "ipython3",
   "version": "3.6.8"
  }
 },
 "nbformat": 4,
 "nbformat_minor": 2
}
