{
  "cells": [
    {
      "metadata": {},
      "cell_type": "markdown",
      "source": "Copyright (c) Microsoft Corporation. All rights reserved.\n\nLicensed under the MIT License."
    },
    {
      "metadata": {},
      "cell_type": "markdown",
      "source": "# Automated Machine Learning\n_**Energy Demand Forecasting**_\n\n## Contents\n1. [Introduction](#Introduction)\n2. [Setup](#Setup)\n3. [Data](#Data)\n4. [Train](#Train)\n5. [Deploy](#Deploy)"
    },
    {
      "metadata": {},
      "cell_type": "markdown",
      "source": "## Introduction\nIn this example, we show how AutoML can be used for energy demand forecasting.\n\nMake sure you have executed the [configuration](../../../configuration.ipynb) before running this notebook.\n\nIn this notebook you would see\n1. Creating an Experiment in an existing Workspace\n2. Instantiating AutoMLConfig with new task type \"forecasting\" for timeseries data training, and other timeseries related settings: for this dataset we use the basic one: \"time_column_name\" \n3. Training the Model using local compute\n4. Exploring the results\n5. Testing the fitted model"
    },
    {
      "metadata": {},
      "cell_type": "markdown",
      "source": "# Scenario\nThis scenario focuses on energy demand forecasting where the __goal is to predict the future load on an energy grid__. It is a critical business operation for companies in the energy sector as operators need to maintain the fine balance between the energy consumed on a grid and the energy supplied to it. \n\nToo much power supplied to the grid can result in waste of energy or technical faults. However, if too little power is supplied it can lead to blackouts, leaving customers without power. ypically, grid operators can take short-term decisions to manage energy supply to the grid and keep the load in balance. An accurate short-term forecast of energy demand is therefore essential for the operator to make these decisions with confidence.\n\nThis scenario details the construction of a machine learning energy demand forecasting solution. _The solution is trained on a public dataset from the New York Independent System Operator (NYISO)_ , which operates the power grid for New York State. \nThe dataset includes hourly power demand data for New York City over a period of five years. An additional dataset containing hourly weather conditions in New York City over the same time period was taken from darksky.net. \n"
    },
    {
      "metadata": {},
      "cell_type": "markdown",
      "source": "## Setup\n\nAs part of the setup you have already created a <b>Workspace</b>. For AutoML you would need to create an <b>Experiment</b>. An <b>Experiment</b> is a named object in a <b>Workspace</b>, which is used to run experiments."
    },
    {
      "metadata": {
        "trusted": true
      },
      "cell_type": "code",
      "source": "# Import libraries\nimport azureml.core\nimport pandas as pd\nimport numpy as np\nimport logging\nimport warnings\n# Squash warning messages for cleaner output in the notebook\nwarnings.showwarning = lambda *args, **kwargs: None\n\n\nfrom azureml.core.workspace import Workspace\nfrom azureml.core.experiment import Experiment\nfrom azureml.train.automl import AutoMLConfig\nfrom azureml.train.automl.run import AutoMLRun\nfrom matplotlib import pyplot as plt\nfrom sklearn.metrics import mean_absolute_error, mean_squared_error, r2_score",
      "execution_count": 1,
      "outputs": []
    },
    {
      "metadata": {
        "trusted": true
      },
      "cell_type": "code",
      "source": "# Retrieve workspace\nws = Workspace.from_config()\n\n# choose a name for the run history container in the workspace\nexperiment_name = 'automl-energydemandforecasting'\n# project folder\nproject_folder = './sample_projects/automl-local-energydemandforecasting'\n\nexperiment = Experiment(ws, experiment_name)\n\noutput = {}\noutput['SDK version'] = azureml.core.VERSION\noutput['Subscription ID'] = ws.subscription_id\noutput['Workspace'] = ws.name\noutput['Resource Group'] = ws.resource_group\noutput['Location'] = ws.location\noutput['Project Directory'] = project_folder\noutput['Run History Name'] = experiment_name\npd.set_option('display.max_colwidth', -1)\noutputDf = pd.DataFrame(data = output, index = [''])\noutputDf.T",
      "execution_count": 2,
      "outputs": [
        {
          "output_type": "stream",
          "text": "Warning: Falling back to use azure cli login credentials.\nIf you run your code in unattended mode, i.e., where you can't give a user input, then we recommend to use ServicePrincipalAuthentication or MsiAuthentication.\nPlease refer to aka.ms/aml-notebook-auth for different authentication mechanisms in azureml-sdk.\n",
          "name": "stderr"
        },
        {
          "output_type": "stream",
          "text": "Found the config file in: /home/nbuser/library/Module_2_Get Started with AzureML/aml_config/config.json\nPerforming interactive authentication. Please follow the instructions on the terminal.\nTo sign in, use a web browser to open the page https://microsoft.com/devicelogin and enter the code FL9NWJG9U to authenticate.\nInteractive authentication successfully completed.\n",
          "name": "stdout"
        },
        {
          "output_type": "execute_result",
          "execution_count": 2,
          "data": {
            "text/html": "<div>\n<style scoped>\n    .dataframe tbody tr th:only-of-type {\n        vertical-align: middle;\n    }\n\n    .dataframe tbody tr th {\n        vertical-align: top;\n    }\n\n    .dataframe thead th {\n        text-align: right;\n    }\n</style>\n<table border=\"1\" class=\"dataframe\">\n  <thead>\n    <tr style=\"text-align: right;\">\n      <th></th>\n      <th></th>\n    </tr>\n  </thead>\n  <tbody>\n    <tr>\n      <th>Location</th>\n      <td>eastus</td>\n    </tr>\n    <tr>\n      <th>Project Directory</th>\n      <td>./sample_projects/automl-local-energydemandforecasting</td>\n    </tr>\n    <tr>\n      <th>Resource Group</th>\n      <td>aiconfnyc</td>\n    </tr>\n    <tr>\n      <th>Run History Name</th>\n      <td>automl-energydemandforecasting</td>\n    </tr>\n    <tr>\n      <th>SDK version</th>\n      <td>1.0.17</td>\n    </tr>\n    <tr>\n      <th>Subscription ID</th>\n      <td>5d9f0467-1e93-45cb-9531-b2f8e715feb1</td>\n    </tr>\n    <tr>\n      <th>Workspace</th>\n      <td>aiconfnycws</td>\n    </tr>\n  </tbody>\n</table>\n</div>",
            "text/plain": "                                                                         \nLocation           eastus                                                \nProject Directory  ./sample_projects/automl-local-energydemandforecasting\nResource Group     aiconfnyc                                             \nRun History Name   automl-energydemandforecasting                        \nSDK version        1.0.17                                                \nSubscription ID    5d9f0467-1e93-45cb-9531-b2f8e715feb1                  \nWorkspace          aiconfnycws                                           "
          },
          "metadata": {}
        }
      ]
    },
    {
      "metadata": {},
      "cell_type": "markdown",
      "source": "## Data\nRead energy demanding data from file, and preview data."
    },
    {
      "metadata": {
        "trusted": true
      },
      "cell_type": "code",
      "source": "data = pd.read_csv(\"nyc_energy.csv\", parse_dates=['timeStamp'])\ndata.head()",
      "execution_count": 3,
      "outputs": [
        {
          "output_type": "execute_result",
          "execution_count": 3,
          "data": {
            "text/html": "<div>\n<style scoped>\n    .dataframe tbody tr th:only-of-type {\n        vertical-align: middle;\n    }\n\n    .dataframe tbody tr th {\n        vertical-align: top;\n    }\n\n    .dataframe thead th {\n        text-align: right;\n    }\n</style>\n<table border=\"1\" class=\"dataframe\">\n  <thead>\n    <tr style=\"text-align: right;\">\n      <th></th>\n      <th>timeStamp</th>\n      <th>demand</th>\n      <th>precip</th>\n      <th>temp</th>\n    </tr>\n  </thead>\n  <tbody>\n    <tr>\n      <th>0</th>\n      <td>2012-01-01 00:00:00</td>\n      <td>4937.50</td>\n      <td>0.00</td>\n      <td>46.13</td>\n    </tr>\n    <tr>\n      <th>1</th>\n      <td>2012-01-01 01:00:00</td>\n      <td>4752.10</td>\n      <td>0.00</td>\n      <td>45.89</td>\n    </tr>\n    <tr>\n      <th>2</th>\n      <td>2012-01-01 02:00:00</td>\n      <td>4542.60</td>\n      <td>0.00</td>\n      <td>45.04</td>\n    </tr>\n    <tr>\n      <th>3</th>\n      <td>2012-01-01 03:00:00</td>\n      <td>4357.70</td>\n      <td>0.00</td>\n      <td>45.03</td>\n    </tr>\n    <tr>\n      <th>4</th>\n      <td>2012-01-01 04:00:00</td>\n      <td>4275.50</td>\n      <td>0.00</td>\n      <td>42.61</td>\n    </tr>\n  </tbody>\n</table>\n</div>",
            "text/plain": "            timeStamp  demand  precip  temp\n0 2012-01-01 00:00:00 4937.50 0.00    46.13\n1 2012-01-01 01:00:00 4752.10 0.00    45.89\n2 2012-01-01 02:00:00 4542.60 0.00    45.04\n3 2012-01-01 03:00:00 4357.70 0.00    45.03\n4 2012-01-01 04:00:00 4275.50 0.00    42.61"
          },
          "metadata": {}
        }
      ]
    },
    {
      "metadata": {},
      "cell_type": "markdown",
      "source": "### Split the data to train and test\n\n"
    },
    {
      "metadata": {
        "trusted": true
      },
      "cell_type": "code",
      "source": "train = data[data['timeStamp'] < '2017-02-01']\ntest = data[data['timeStamp'] >= '2017-02-01']\n",
      "execution_count": 4,
      "outputs": []
    },
    {
      "metadata": {},
      "cell_type": "markdown",
      "source": "### Prepare the test data, we will feed X_test to the fitted model and get prediction"
    },
    {
      "metadata": {
        "trusted": true
      },
      "cell_type": "code",
      "source": "y_test = test.pop('demand').values\nX_test = test",
      "execution_count": 5,
      "outputs": []
    },
    {
      "metadata": {},
      "cell_type": "markdown",
      "source": "### Split the train data to train and valid\n\nUse one month's data as valid data\n"
    },
    {
      "metadata": {
        "trusted": true
      },
      "cell_type": "code",
      "source": "X_train = train[train['timeStamp'] < '2017-01-01']\nX_valid = train[train['timeStamp'] >= '2017-01-01']\ny_train = X_train.pop('demand').values\ny_valid = X_valid.pop('demand').values\nprint(X_train.shape)\nprint(y_train.shape)\nprint(X_valid.shape)\nprint(y_valid.shape)",
      "execution_count": 6,
      "outputs": [
        {
          "output_type": "stream",
          "text": "(43847, 3)\n(43847,)\n(744, 3)\n(744,)\n",
          "name": "stdout"
        }
      ]
    },
    {
      "metadata": {},
      "cell_type": "markdown",
      "source": "## Train\n\nInstantiate a AutoMLConfig object. This defines the settings and data used to run the experiment.\n\nRead more in the [documentation](https://docs.microsoft.com/en-us/azure/machine-learning/service/how-to-configure-auto-train)"
    },
    {
      "metadata": {
        "trusted": true
      },
      "cell_type": "code",
      "source": "# Set the time series column\ntime_column_name = 'timeStamp'\nautoml_settings = {\n    \"time_column_name\": time_column_name,\n}\n\n# create the configuration object\nautoml_config = AutoMLConfig(task = 'forecasting',\n                             debug_log = 'automl_nyc_energy_errors.log',\n                             primary_metric='normalized_root_mean_squared_error',\n                             iterations = 5,\n                             iteration_timeout_minutes = 10,\n                             X = X_train,\n                             y = y_train,\n                             X_valid = X_valid,\n                             y_valid = y_valid,\n                             path=project_folder,\n                             blacklist_models = ['RandomForest'],\n                             # model_explainability=True,\n                             verbosity = logging.INFO,\n                            **automl_settings)",
      "execution_count": 7,
      "outputs": []
    },
    {
      "metadata": {},
      "cell_type": "markdown",
      "source": "You can call the submit method on the experiment object and pass the run configuration. For Local runs the execution is synchronous. Depending on the data and number of iterations this can run for while.\nYou will see the currently running iterations printing to the console."
    },
    {
      "metadata": {
        "trusted": true
      },
      "cell_type": "code",
      "source": "local_run = experiment.submit(automl_config, show_output=True)",
      "execution_count": 8,
      "outputs": [
        {
          "output_type": "stream",
          "text": "Running on local machine\nParent Run ID: AutoML_4625d0b7-d776-497a-bbed-e5a6b285ddaf\n********************************************************************************************************************\nITERATION: The iteration being evaluated.\nPIPELINE: A summary description of the pipeline being evaluated.\nSAMPLING %: Percent of the training data to sample.\nDURATION: Time taken for the current iteration.\nMETRIC: The result of computing score on the fitted pipeline.\nBEST: The best observed score thus far.\n********************************************************************************************************************\n\n ITERATION   PIPELINE                                       SAMPLING %  DURATION      METRIC      BEST\n         0   StandardScalerWrapper ElasticNet               100.0000    0:00:21       0.0819    0.0819\n         1   StandardScalerWrapper ElasticNet               100.0000    0:00:15       0.0814    0.0814\n         2   StandardScalerWrapper ElasticNet               100.0000    0:00:12       0.0817    0.0814\n         3   StandardScalerWrapper ElasticNet               100.0000    0:00:11       0.0800    0.0800\n         4   Ensemble                                       100.0000    0:00:17       0.0802    0.0800\n",
          "name": "stdout"
        }
      ]
    },
    {
      "metadata": {
        "trusted": true
      },
      "cell_type": "code",
      "source": "# View the run summary\nlocal_run",
      "execution_count": 9,
      "outputs": [
        {
          "output_type": "execute_result",
          "execution_count": 9,
          "data": {
            "text/html": "<table style=\"width:100%\"><tr><th>Experiment</th><th>Id</th><th>Type</th><th>Status</th><th>Details Page</th><th>Docs Page</th></tr><tr><td>automl-energydemandforecasting</td><td>AutoML_4625d0b7-d776-497a-bbed-e5a6b285ddaf</td><td>automl</td><td>Completed</td><td><a href=\"https://mlworkspace.azure.ai/portal/subscriptions/5d9f0467-1e93-45cb-9531-b2f8e715feb1/resourceGroups/aiconfnyc/providers/Microsoft.MachineLearningServices/workspaces/aiconfnycws/experiments/automl-energydemandforecasting/runs/AutoML_4625d0b7-d776-497a-bbed-e5a6b285ddaf\" target=\"_blank\" rel=\"noopener\">Link to Azure Portal</a></td><td><a href=\"https://docs.microsoft.com/en-us/python/api/overview/azure/ml/intro?view=azure-ml-py\" target=\"_blank\" rel=\"noopener\">Link to Documentation</a></td></tr></table>",
            "text/plain": "Run(Experiment: automl-energydemandforecasting,\nId: AutoML_4625d0b7-d776-497a-bbed-e5a6b285ddaf,\nType: automl,\nStatus: Completed)"
          },
          "metadata": {}
        }
      ]
    },
    {
      "metadata": {},
      "cell_type": "markdown",
      "source": "### Retrieve the Best Model\nBelow we select the best pipeline from our iterations. The get_output method on automl_classifier returns the best run and the fitted model for the last fit invocation. There are overloads on get_output that allow you to retrieve the best run and fitted model for any logged metric or a particular iteration."
    },
    {
      "metadata": {
        "trusted": true
      },
      "cell_type": "code",
      "source": "best_run, fitted_model = local_run.get_output()\nfitted_model.steps",
      "execution_count": 10,
      "outputs": [
        {
          "output_type": "execute_result",
          "execution_count": 10,
          "data": {
            "text/plain": "[('timeseriestransformer', TimeSeriesTransformer(logger=None)),\n ('standardscalerwrapper',\n  <automl.client.core.common.model_wrappers.StandardScalerWrapper at 0x7f5f20f39b00>),\n ('elasticnet',\n  ElasticNet(alpha=0.15873684210526315, copy_X=True, fit_intercept=True,\n        l1_ratio=0.6873684210526316, max_iter=1000, normalize=False,\n        positive=False, precompute=False, random_state=None,\n        selection='cyclic', tol=0.0001, warm_start=False))]"
          },
          "metadata": {}
        }
      ]
    },
    {
      "metadata": {},
      "cell_type": "markdown",
      "source": "### Retrieve explanation for best model\n"
    },
    {
      "metadata": {
        "scrolled": false,
        "trusted": true
      },
      "cell_type": "code",
      "source": "from azureml.train.automl.automlexplainer import explain_model\n\n# shap_values, expected_values, overall_summary, overall_imp, per_class_summary, per_class_imp = \\\n#    explain_model(fitted_model, X_train, X_test, best_run)",
      "execution_count": 11,
      "outputs": []
    },
    {
      "metadata": {},
      "cell_type": "markdown",
      "source": "### Widget for monitoring runs"
    },
    {
      "metadata": {
        "trusted": true
      },
      "cell_type": "code",
      "source": "!pip install azureml-widgets",
      "execution_count": 13,
      "outputs": [
        {
          "output_type": "stream",
          "text": "Requirement already satisfied: azureml-widgets in /home/nbuser/anaconda3_501/lib/python3.6/site-packages (1.0.17)\nRequirement already satisfied: azureml-core==1.0.17.* in /home/nbuser/anaconda3_501/lib/python3.6/site-packages (from azureml-widgets) (1.0.17.1)\nRequirement already satisfied: ipywidgets>=7.0.0 in /home/nbuser/anaconda3_501/lib/python3.6/site-packages (from azureml-widgets) (7.4.2)\nRequirement already satisfied: azureml-telemetry==1.0.17.* in /home/nbuser/anaconda3_501/lib/python3.6/site-packages (from azureml-widgets) (1.0.17)\nRequirement already satisfied: PyJWT in /home/nbuser/anaconda3_501/lib/python3.6/site-packages (from azureml-core==1.0.17.*->azureml-widgets) (1.7.1)\nRequirement already satisfied: paramiko>=2.0.8 in /home/nbuser/anaconda3_501/lib/python3.6/site-packages (from azureml-core==1.0.17.*->azureml-widgets) (2.4.2)\nRequirement already satisfied: azure-mgmt-storage>=1.5.0 in /home/nbuser/anaconda3_501/lib/python3.6/site-packages (from azureml-core==1.0.17.*->azureml-widgets) (2.0.0)\nRequirement already satisfied: ndg-httpsclient in /home/nbuser/anaconda3_501/lib/python3.6/site-packages (from azureml-core==1.0.17.*->azureml-widgets) (0.5.1)\nRequirement already satisfied: azure-mgmt-resource>=1.2.1 in /home/nbuser/anaconda3_501/lib/python3.6/site-packages (from azureml-core==1.0.17.*->azureml-widgets) (2.0.0)\nRequirement already satisfied: backports.tempfile in /home/nbuser/anaconda3_501/lib/python3.6/site-packages (from azureml-core==1.0.17.*->azureml-widgets) (1.0)\nRequirement already satisfied: docker in /home/nbuser/anaconda3_501/lib/python3.6/site-packages (from azureml-core==1.0.17.*->azureml-widgets) (3.7.0)\nRequirement already satisfied: urllib3>=1.23 in /home/nbuser/anaconda3_501/lib/python3.6/site-packages (from azureml-core==1.0.17.*->azureml-widgets) (1.23)\nRequirement already satisfied: azure-mgmt-authorization>=0.40.0 in /home/nbuser/anaconda3_501/lib/python3.6/site-packages (from azureml-core==1.0.17.*->azureml-widgets) (0.50.0)\nRequirement already satisfied: msrestazure>=0.4.33 in /home/nbuser/anaconda3_501/lib/python3.6/site-packages (from azureml-core==1.0.17.*->azureml-widgets) (0.6.0)\nRequirement already satisfied: python-dateutil>=2.7.3 in /home/nbuser/anaconda3_501/lib/python3.6/site-packages (from azureml-core==1.0.17.*->azureml-widgets) (2.7.5)\nRequirement already satisfied: pyopenssl in /home/nbuser/anaconda3_501/lib/python3.6/site-packages (from azureml-core==1.0.17.*->azureml-widgets) (18.0.0)\nRequirement already satisfied: azure-graphrbac>=0.40.0 in /home/nbuser/anaconda3_501/lib/python3.6/site-packages (from azureml-core==1.0.17.*->azureml-widgets) (0.40.0)\nRequirement already satisfied: pytz in /home/nbuser/anaconda3_501/lib/python3.6/site-packages (from azureml-core==1.0.17.*->azureml-widgets) (2018.7)\nRequirement already satisfied: azure-mgmt-containerregistry>=2.0.0 in /home/nbuser/anaconda3_501/lib/python3.6/site-packages (from azureml-core==1.0.17.*->azureml-widgets) (2.7.0)\nRequirement already satisfied: azure-common>=1.1.12 in /home/nbuser/anaconda3_501/lib/python3.6/site-packages (from azureml-core==1.0.17.*->azureml-widgets) (1.1.18)\nRequirement already satisfied: ruamel.yaml<=0.15.51,>=0.15.35 in /home/nbuser/anaconda3_501/lib/python3.6/site-packages (from azureml-core==1.0.17.*->azureml-widgets) (0.15.51)\nRequirement already satisfied: six>=1.11.0 in /home/nbuser/anaconda3_501/lib/python3.6/site-packages (from azureml-core==1.0.17.*->azureml-widgets) (1.11.0)\nRequirement already satisfied: SecretStorage in /home/nbuser/anaconda3_501/lib/python3.6/site-packages (from azureml-core==1.0.17.*->azureml-widgets) (3.1.0)\nRequirement already satisfied: jmespath in /home/nbuser/anaconda3_501/lib/python3.6/site-packages (from azureml-core==1.0.17.*->azureml-widgets) (0.9.4)\nRequirement already satisfied: cryptography!=1.9,!=2.0.*,!=2.1.*,!=2.2.*,<2.6 in /home/nbuser/anaconda3_501/lib/python3.6/site-packages (from azureml-core==1.0.17.*->azureml-widgets) (2.3.1)\nRequirement already satisfied: contextlib2 in /home/nbuser/anaconda3_501/lib/python3.6/site-packages (from azureml-core==1.0.17.*->azureml-widgets) (0.5.5)\nRequirement already satisfied: requests>=2.19.1 in /home/nbuser/anaconda3_501/lib/python3.6/site-packages (from azureml-core==1.0.17.*->azureml-widgets) (2.21.0)\nRequirement already satisfied: pathspec in /home/nbuser/anaconda3_501/lib/python3.6/site-packages (from azureml-core==1.0.17.*->azureml-widgets) (0.5.9)\nRequirement already satisfied: adal>=1.2.0 in /home/nbuser/anaconda3_501/lib/python3.6/site-packages (from azureml-core==1.0.17.*->azureml-widgets) (1.2.1)\nRequirement already satisfied: pyyaml>=3.13 in /home/nbuser/anaconda3_501/lib/python3.6/site-packages (from azureml-core==1.0.17.*->azureml-widgets) (3.13)\nRequirement already satisfied: jsonpickle in /home/nbuser/anaconda3_501/lib/python3.6/site-packages (from azureml-core==1.0.17.*->azureml-widgets) (1.1)\nRequirement already satisfied: msrest>=0.5.1 in /home/nbuser/anaconda3_501/lib/python3.6/site-packages (from azureml-core==1.0.17.*->azureml-widgets) (0.6.4)\nRequirement already satisfied: azure-mgmt-keyvault>=0.40.0 in /home/nbuser/anaconda3_501/lib/python3.6/site-packages (from azureml-core==1.0.17.*->azureml-widgets) (1.1.0)\nRequirement already satisfied: ipykernel>=4.5.1 in /home/nbuser/anaconda3_501/lib/python3.6/site-packages (from ipywidgets>=7.0.0->azureml-widgets) (5.1.0)\nRequirement already satisfied: widgetsnbextension~=3.4.0 in /home/nbuser/anaconda3_501/lib/python3.6/site-packages (from ipywidgets>=7.0.0->azureml-widgets) (3.4.2)\nRequirement already satisfied: nbformat>=4.2.0 in /home/nbuser/anaconda3_501/lib/python3.6/site-packages (from ipywidgets>=7.0.0->azureml-widgets) (4.4.0)\nRequirement already satisfied: ipython>=4.0.0; python_version >= \"3.3\" in /home/nbuser/anaconda3_501/lib/python3.6/site-packages (from ipywidgets>=7.0.0->azureml-widgets) (7.1.1)\nRequirement already satisfied: traitlets>=4.3.1 in /home/nbuser/anaconda3_501/lib/python3.6/site-packages (from ipywidgets>=7.0.0->azureml-widgets) (4.3.2)\nRequirement already satisfied: applicationinsights in /home/nbuser/anaconda3_501/lib/python3.6/site-packages (from azureml-telemetry==1.0.17.*->azureml-widgets) (0.11.7)\nRequirement already satisfied: pynacl>=1.0.1 in /home/nbuser/anaconda3_501/lib/python3.6/site-packages (from paramiko>=2.0.8->azureml-core==1.0.17.*->azureml-widgets) (1.3.0)\nRequirement already satisfied: pyasn1>=0.1.7 in /home/nbuser/anaconda3_501/lib/python3.6/site-packages (from paramiko>=2.0.8->azureml-core==1.0.17.*->azureml-widgets) (0.4.4)\nRequirement already satisfied: bcrypt>=3.1.3 in /home/nbuser/anaconda3_501/lib/python3.6/site-packages (from paramiko>=2.0.8->azureml-core==1.0.17.*->azureml-widgets) (3.1.6)\nRequirement already satisfied: azure-mgmt-nspkg>=2.0.0 in /home/nbuser/anaconda3_501/lib/python3.6/site-packages (from azure-mgmt-storage>=1.5.0->azureml-core==1.0.17.*->azureml-widgets) (3.0.2)\nRequirement already satisfied: backports.weakref in /home/nbuser/anaconda3_501/lib/python3.6/site-packages (from backports.tempfile->azureml-core==1.0.17.*->azureml-widgets) (1.0rc1)\nRequirement already satisfied: websocket-client>=0.32.0 in /home/nbuser/anaconda3_501/lib/python3.6/site-packages (from docker->azureml-core==1.0.17.*->azureml-widgets) (0.55.0)\nRequirement already satisfied: docker-pycreds>=0.4.0 in /home/nbuser/anaconda3_501/lib/python3.6/site-packages (from docker->azureml-core==1.0.17.*->azureml-widgets) (0.4.0)\nRequirement already satisfied: azure-nspkg>=2.0.0 in /home/nbuser/anaconda3_501/lib/python3.6/site-packages (from azure-graphrbac>=0.40.0->azureml-core==1.0.17.*->azureml-widgets) (3.0.2)\nRequirement already satisfied: jeepney in /home/nbuser/anaconda3_501/lib/python3.6/site-packages (from SecretStorage->azureml-core==1.0.17.*->azureml-widgets) (0.4)\nRequirement already satisfied: idna>=2.1 in /home/nbuser/anaconda3_501/lib/python3.6/site-packages (from cryptography!=1.9,!=2.0.*,!=2.1.*,!=2.2.*,<2.6->azureml-core==1.0.17.*->azureml-widgets) (2.7)\nRequirement already satisfied: asn1crypto>=0.21.0 in /home/nbuser/anaconda3_501/lib/python3.6/site-packages (from cryptography!=1.9,!=2.0.*,!=2.1.*,!=2.2.*,<2.6->azureml-core==1.0.17.*->azureml-widgets) (0.24.0)\nRequirement already satisfied: cffi!=1.11.3,>=1.7 in /home/nbuser/anaconda3_501/lib/python3.6/site-packages (from cryptography!=1.9,!=2.0.*,!=2.1.*,!=2.2.*,<2.6->azureml-core==1.0.17.*->azureml-widgets) (1.11.5)\nRequirement already satisfied: chardet<3.1.0,>=3.0.2 in /home/nbuser/anaconda3_501/lib/python3.6/site-packages (from requests>=2.19.1->azureml-core==1.0.17.*->azureml-widgets) (3.0.4)\nRequirement already satisfied: certifi>=2017.4.17 in /home/nbuser/anaconda3_501/lib/python3.6/site-packages (from requests>=2.19.1->azureml-core==1.0.17.*->azureml-widgets) (2018.10.15)\nRequirement already satisfied: isodate>=0.6.0 in /home/nbuser/anaconda3_501/lib/python3.6/site-packages (from msrest>=0.5.1->azureml-core==1.0.17.*->azureml-widgets) (0.6.0)\nRequirement already satisfied: requests-oauthlib>=0.5.0 in /home/nbuser/anaconda3_501/lib/python3.6/site-packages (from msrest>=0.5.1->azureml-core==1.0.17.*->azureml-widgets) (1.2.0)\nRequirement already satisfied: jupyter-client in /home/nbuser/anaconda3_501/lib/python3.6/site-packages (from ipykernel>=4.5.1->ipywidgets>=7.0.0->azureml-widgets) (5.2.3)\n",
          "name": "stdout"
        },
        {
          "output_type": "stream",
          "text": "Requirement already satisfied: tornado>=4.2 in /home/nbuser/anaconda3_501/lib/python3.6/site-packages (from ipykernel>=4.5.1->ipywidgets>=7.0.0->azureml-widgets) (4.5.3)\nRequirement already satisfied: notebook>=4.4.1 in /home/nbuser/anaconda3_501/lib/python3.6/site-packages (from widgetsnbextension~=3.4.0->ipywidgets>=7.0.0->azureml-widgets) (5.7.2)\nRequirement already satisfied: jsonschema!=2.5.0,>=2.4 in /home/nbuser/anaconda3_501/lib/python3.6/site-packages (from nbformat>=4.2.0->ipywidgets>=7.0.0->azureml-widgets) (2.6.0)\nRequirement already satisfied: jupyter-core in /home/nbuser/anaconda3_501/lib/python3.6/site-packages (from nbformat>=4.2.0->ipywidgets>=7.0.0->azureml-widgets) (4.4.0)\nRequirement already satisfied: ipython-genutils in /home/nbuser/anaconda3_501/lib/python3.6/site-packages (from nbformat>=4.2.0->ipywidgets>=7.0.0->azureml-widgets) (0.2.0)\nRequirement already satisfied: prompt-toolkit<2.1.0,>=2.0.0 in /home/nbuser/anaconda3_501/lib/python3.6/site-packages (from ipython>=4.0.0; python_version >= \"3.3\"->ipywidgets>=7.0.0->azureml-widgets) (2.0.7)\nRequirement already satisfied: pygments in /home/nbuser/anaconda3_501/lib/python3.6/site-packages (from ipython>=4.0.0; python_version >= \"3.3\"->ipywidgets>=7.0.0->azureml-widgets) (2.2.0)\nRequirement already satisfied: jedi>=0.10 in /home/nbuser/anaconda3_501/lib/python3.6/site-packages (from ipython>=4.0.0; python_version >= \"3.3\"->ipywidgets>=7.0.0->azureml-widgets) (0.13.1)\nRequirement already satisfied: setuptools>=18.5 in /home/nbuser/anaconda3_501/lib/python3.6/site-packages (from ipython>=4.0.0; python_version >= \"3.3\"->ipywidgets>=7.0.0->azureml-widgets) (40.8.0)\nRequirement already satisfied: decorator in /home/nbuser/anaconda3_501/lib/python3.6/site-packages (from ipython>=4.0.0; python_version >= \"3.3\"->ipywidgets>=7.0.0->azureml-widgets) (4.3.0)\nRequirement already satisfied: backcall in /home/nbuser/anaconda3_501/lib/python3.6/site-packages (from ipython>=4.0.0; python_version >= \"3.3\"->ipywidgets>=7.0.0->azureml-widgets) (0.1.0)\nRequirement already satisfied: pexpect; sys_platform != \"win32\" in /home/nbuser/anaconda3_501/lib/python3.6/site-packages (from ipython>=4.0.0; python_version >= \"3.3\"->ipywidgets>=7.0.0->azureml-widgets) (4.6.0)\nRequirement already satisfied: pickleshare in /home/nbuser/anaconda3_501/lib/python3.6/site-packages (from ipython>=4.0.0; python_version >= \"3.3\"->ipywidgets>=7.0.0->azureml-widgets) (0.7.5)\nRequirement already satisfied: pycparser in /home/nbuser/anaconda3_501/lib/python3.6/site-packages (from cffi!=1.11.3,>=1.7->cryptography!=1.9,!=2.0.*,!=2.1.*,!=2.2.*,<2.6->azureml-core==1.0.17.*->azureml-widgets) (2.19)\nRequirement already satisfied: oauthlib>=3.0.0 in /home/nbuser/anaconda3_501/lib/python3.6/site-packages (from requests-oauthlib>=0.5.0->msrest>=0.5.1->azureml-core==1.0.17.*->azureml-widgets) (3.0.1)\nRequirement already satisfied: pyzmq>=13 in /home/nbuser/anaconda3_501/lib/python3.6/site-packages (from jupyter-client->ipykernel>=4.5.1->ipywidgets>=7.0.0->azureml-widgets) (17.1.2)\nRequirement already satisfied: prometheus-client in /home/nbuser/anaconda3_501/lib/python3.6/site-packages (from notebook>=4.4.1->widgetsnbextension~=3.4.0->ipywidgets>=7.0.0->azureml-widgets) (0.4.2)\nRequirement already satisfied: nbconvert in /home/nbuser/anaconda3_501/lib/python3.6/site-packages (from notebook>=4.4.1->widgetsnbextension~=3.4.0->ipywidgets>=7.0.0->azureml-widgets) (5.4.0)\nRequirement already satisfied: terminado>=0.8.1 in /home/nbuser/anaconda3_501/lib/python3.6/site-packages (from notebook>=4.4.1->widgetsnbextension~=3.4.0->ipywidgets>=7.0.0->azureml-widgets) (0.8.1)\nRequirement already satisfied: jinja2 in /home/nbuser/anaconda3_501/lib/python3.6/site-packages (from notebook>=4.4.1->widgetsnbextension~=3.4.0->ipywidgets>=7.0.0->azureml-widgets) (2.10)\nRequirement already satisfied: Send2Trash in /home/nbuser/anaconda3_501/lib/python3.6/site-packages (from notebook>=4.4.1->widgetsnbextension~=3.4.0->ipywidgets>=7.0.0->azureml-widgets) (1.5.0)\nRequirement already satisfied: wcwidth in /home/nbuser/anaconda3_501/lib/python3.6/site-packages (from prompt-toolkit<2.1.0,>=2.0.0->ipython>=4.0.0; python_version >= \"3.3\"->ipywidgets>=7.0.0->azureml-widgets) (0.1.7)\nRequirement already satisfied: parso>=0.3.0 in /home/nbuser/anaconda3_501/lib/python3.6/site-packages (from jedi>=0.10->ipython>=4.0.0; python_version >= \"3.3\"->ipywidgets>=7.0.0->azureml-widgets) (0.3.1)\nRequirement already satisfied: ptyprocess>=0.5 in /home/nbuser/anaconda3_501/lib/python3.6/site-packages (from pexpect; sys_platform != \"win32\"->ipython>=4.0.0; python_version >= \"3.3\"->ipywidgets>=7.0.0->azureml-widgets) (0.6.0)\nRequirement already satisfied: mistune>=0.8.1 in /home/nbuser/anaconda3_501/lib/python3.6/site-packages (from nbconvert->notebook>=4.4.1->widgetsnbextension~=3.4.0->ipywidgets>=7.0.0->azureml-widgets) (0.8.4)\nRequirement already satisfied: entrypoints>=0.2.2 in /home/nbuser/anaconda3_501/lib/python3.6/site-packages (from nbconvert->notebook>=4.4.1->widgetsnbextension~=3.4.0->ipywidgets>=7.0.0->azureml-widgets) (0.2.3)\nRequirement already satisfied: bleach in /home/nbuser/anaconda3_501/lib/python3.6/site-packages (from nbconvert->notebook>=4.4.1->widgetsnbextension~=3.4.0->ipywidgets>=7.0.0->azureml-widgets) (1.5.0)\nRequirement already satisfied: pandocfilters>=1.4.1 in /home/nbuser/anaconda3_501/lib/python3.6/site-packages (from nbconvert->notebook>=4.4.1->widgetsnbextension~=3.4.0->ipywidgets>=7.0.0->azureml-widgets) (1.4.2)\nRequirement already satisfied: testpath in /home/nbuser/anaconda3_501/lib/python3.6/site-packages (from nbconvert->notebook>=4.4.1->widgetsnbextension~=3.4.0->ipywidgets>=7.0.0->azureml-widgets) (0.4.2)\nRequirement already satisfied: defusedxml in /home/nbuser/anaconda3_501/lib/python3.6/site-packages (from nbconvert->notebook>=4.4.1->widgetsnbextension~=3.4.0->ipywidgets>=7.0.0->azureml-widgets) (0.5.0)\nRequirement already satisfied: MarkupSafe>=0.23 in /home/nbuser/anaconda3_501/lib/python3.6/site-packages (from jinja2->notebook>=4.4.1->widgetsnbextension~=3.4.0->ipywidgets>=7.0.0->azureml-widgets) (1.1.0)\nRequirement already satisfied: html5lib!=0.9999,!=0.99999,<0.99999999,>=0.999 in /home/nbuser/anaconda3_501/lib/python3.6/site-packages (from bleach->nbconvert->notebook>=4.4.1->widgetsnbextension~=3.4.0->ipywidgets>=7.0.0->azureml-widgets) (0.9999999)\n",
          "name": "stdout"
        }
      ]
    },
    {
      "metadata": {
        "trusted": true
      },
      "cell_type": "code",
      "source": "from azureml.widgets import RunDetails\nRunDetails(local_run).show()",
      "execution_count": 14,
      "outputs": [
        {
          "output_type": "display_data",
          "data": {
            "application/vnd.jupyter.widget-view+json": {
              "model_id": "34d1542fcd434198b3059f4e71ccef43",
              "version_minor": 0,
              "version_major": 2
            },
            "text/plain": "_AutoMLWidget(widget_settings={'childWidgetDisplay': 'popup', 'send_telemetry': False, 'log_level': 'INFO', 's…"
          },
          "metadata": {}
        }
      ]
    },
    {
      "metadata": {},
      "cell_type": "markdown",
      "source": "### Test the Best Fitted Model\n\nPredict on training and test set, and calculate residual values."
    },
    {
      "metadata": {
        "trusted": true
      },
      "cell_type": "code",
      "source": "y_pred = fitted_model.predict(X_test)\ny_pred",
      "execution_count": 15,
      "outputs": [
        {
          "output_type": "execute_result",
          "execution_count": 15,
          "data": {
            "text/plain": "array([4956.74546589, 5052.91719952, 5141.45221388, ..., 6132.78185879,\n       6156.08656278, 6182.57560686])"
          },
          "metadata": {}
        }
      ]
    },
    {
      "metadata": {},
      "cell_type": "markdown",
      "source": "### Use the Check Data Function to remove the nan values from y_test to avoid error when calculate metrics "
    },
    {
      "metadata": {
        "trusted": true
      },
      "cell_type": "code",
      "source": "if len(y_test) != len(y_pred):\n    raise ValueError(\n        'the true values and prediction values do not have equal length.')\nelif len(y_test) == 0:\n    raise ValueError(\n        'y_true and y_pred are empty.')\n\n# if there is any non-numeric element in the y_true or y_pred,\n# the ValueError exception will be thrown.\ny_test_f = np.array(y_test).astype(float)\ny_pred_f = np.array(y_pred).astype(float)\n\n# remove entries both in y_true and y_pred where at least\n# one element in y_true or y_pred is missing\ny_test = y_test_f[~(np.isnan(y_test_f) | np.isnan(y_pred_f))]\ny_pred = y_pred_f[~(np.isnan(y_test_f) | np.isnan(y_pred_f))]",
      "execution_count": 16,
      "outputs": []
    },
    {
      "metadata": {},
      "cell_type": "markdown",
      "source": "### Plot the predictions to compare to actual data"
    },
    {
      "metadata": {
        "trusted": true
      },
      "cell_type": "code",
      "source": "print(\"[Test Data] \\nRoot Mean squared error: %.2f\" % np.sqrt(mean_squared_error(y_test, y_pred)))\n# Explained variance score: 1 is perfect prediction\nprint('mean_absolute_error score: %.2f' % mean_absolute_error(y_test, y_pred))\nprint('R2 score: %.2f' % r2_score(y_test, y_pred))\n\n# Plot outputs\ntest_pred = plt.scatter(y_test, y_pred, color='b')\ntest_test = plt.scatter(y_test, y_test, color='g')\nplt.legend((test_pred, test_test), ('prediction', 'truth'), loc='upper left', fontsize=8)\nplt.show()",
      "execution_count": 17,
      "outputs": [
        {
          "output_type": "stream",
          "text": "[Test Data] \nRoot Mean squared error: 879.91\nmean_absolute_error score: 708.97\nR2 score: 0.54\n",
          "name": "stdout"
        },
        {
          "output_type": "display_data",
          "data": {
            "image/png": "[encoded data removed]",
            "text/plain": "<Figure size 432x288 with 1 Axes>"
          },
          "metadata": {
            "needs_background": "light"
          }
        }
      ]
    },
    {
      "metadata": {},
      "cell_type": "markdown",
      "source": "## Deploy\nDeploy the model into an Azure Container Instance to enable inferencing on new data"
    },
    {
      "metadata": {},
      "cell_type": "markdown",
      "source": "### Register the model\nRegister the best model to the AML service"
    },
    {
      "metadata": {
        "trusted": true
      },
      "cell_type": "code",
      "source": "model = local_run.register_model(description = 'automated ml model for energy demand forecasting', tags = {'ml': \"Forecasting\", 'type': \"automl\"})\nprint(local_run.model_id) # This will be written to the script file later in the notebook.",
      "execution_count": 18,
      "outputs": [
        {
          "output_type": "stream",
          "text": "Registering model AutoML4625d0b7dbest\nAutoML4625d0b7dbest\n",
          "name": "stdout"
        }
      ]
    },
    {
      "metadata": {},
      "cell_type": "markdown",
      "source": "### Create Scoring Script\nThis will be used to run the model on new data for predictions"
    },
    {
      "metadata": {
        "trusted": true
      },
      "cell_type": "code",
      "source": "%%writefile score_energy_demand.py\nimport pickle\nimport json\nimport numpy as np\nimport azureml.train.automl\nfrom sklearn.externals import joblib\nfrom azureml.core.model import Model\n\n\ndef init():\n    global model\n    model_path = Model.get_model_path(model_name = '<<modelid>>') # this name is model.id of model that we want to deploy\n    # deserialize the model file back into a sklearn model\n    model = joblib.load(model_path)\n\ndef run(timestamp,precip,temp):\n    try:\n        rawdata = json.dumps({timestamp, precip, temp})\n        data = json.loads(rawdata)\n        data_arr = numpy.array(data)\n        result = model.predict(data_arr)\n        # result = json.dumps({'timeStamp':timestamp, 'precip':precip, 'temp':temp})\n    except Exception as e:\n        result = str(e)\n        return json.dumps({\"error\": result})\n    return json.dumps({\"result\":result.tolist()})",
      "execution_count": 19,
      "outputs": [
        {
          "output_type": "stream",
          "text": "Overwriting score_energy_demand.py\n",
          "name": "stdout"
        }
      ]
    },
    {
      "metadata": {},
      "cell_type": "markdown",
      "source": "### Create a YAML File for the Environment\nthe YAML file will be used to setup the conda environment on the deployed image"
    },
    {
      "metadata": {
        "trusted": true
      },
      "cell_type": "code",
      "source": "# Retrieve the dependencies\nexperiment = Experiment(ws, experiment_name)\nml_run = AutoMLRun(experiment = experiment, run_id = local_run.id)\ndependencies = ml_run.get_run_sdk_dependencies(iteration = 0)\nfor p in ['azureml-train-automl', 'azureml-sdk', 'azureml-core']:\n    print('{}\\t{}'.format(p, dependencies[p]))",
      "execution_count": 20,
      "outputs": [
        {
          "output_type": "stream",
          "text": "No issues found in the SDK package versions.\nazureml-train-automl\t1.0.17.1\nazureml-sdk\t1.0.17\nazureml-core\t1.0.17.1\n",
          "name": "stdout"
        }
      ]
    },
    {
      "metadata": {
        "trusted": true
      },
      "cell_type": "code",
      "source": "# Create the environment file\n\nfrom azureml.core.conda_dependencies import CondaDependencies \n\nmyenv = CondaDependencies.create(conda_packages=['numpy','scikit-learn'], pip_packages=[\"azureml-train-automl\"])\nprint(myenv.serialize_to_string())\n\nconda_env_file_name = 'my_conda_env.yml'\nmyenv.save_to_file('.', conda_env_file_name)",
      "execution_count": 21,
      "outputs": [
        {
          "output_type": "stream",
          "text": "# Conda environment specification. The dependencies defined in this file will\r\n# be automatically provisioned for runs with userManagedDependencies=False.\r\n\n# Details about the Conda environment file format:\r\n# https://conda.io/docs/user-guide/tasks/manage-environments.html#create-env-file-manually\r\n\nname: project_environment\ndependencies:\n  # The python interpreter version.\r\n  # Currently Azure ML only supports 3.5.2 and later.\r\n- python=3.6.2\n\n- pip:\n  - azureml-train-automl==1.0.17\n- numpy\n- scikit-learn\n\n",
          "name": "stdout"
        },
        {
          "output_type": "execute_result",
          "execution_count": 21,
          "data": {
            "text/plain": "'my_conda_env.yml'"
          },
          "metadata": {}
        }
      ]
    },
    {
      "metadata": {
        "trusted": true
      },
      "cell_type": "code",
      "source": "# Substitute the actual version number in the environment file.\n# This is not strictly needed in this notebook because the model should have been generated using the current SDK version.\n# However, we include this in case this code is used on an experiment from a previous SDK version.\n\nwith open(conda_env_file_name, 'r') as cefr:\n    content = cefr.read()\n\nwith open(conda_env_file_name, 'w') as cefw:\n    cefw.write(content.replace(azureml.core.VERSION, dependencies['azureml-sdk']))\n\n# Substitute the actual model id in the script file.\n\nscript_file_name = 'score_energy_demand.py'\n\nwith open(script_file_name, 'r') as cefr:\n    content = cefr.read()\n\nwith open(script_file_name, 'w') as cefw:\n    cefw.write(content.replace('<<modelid>>', local_run.model_id))",
      "execution_count": 22,
      "outputs": []
    },
    {
      "metadata": {},
      "cell_type": "markdown",
      "source": "### Generate schema file\n"
    },
    {
      "metadata": {
        "trusted": true
      },
      "cell_type": "code",
      "source": "!pip install --upgrade azureml-sdk[webservice-schema]",
      "execution_count": 23,
      "outputs": [
        {
          "output_type": "stream",
          "text": "Collecting azureml-sdk[webservice-schema]\n  Downloading https://files.pythonhosted.org/packages/b4/1e/c212b6f5b7fc4e8dbc80032c9bb0e0b0653dfb7171fb56d94b4442fb6877/azureml_sdk-1.0.23-py3-none-any.whl\nCollecting azureml-core==1.0.23.* (from azureml-sdk[webservice-schema])\n\u001b[?25l  Downloading https://files.pythonhosted.org/packages/c0/44/422e114516ff2b4bafbaa3e53cd19e0bbbe36bf594981e5817610430e3a7/azureml_core-1.0.23-py2.py3-none-any.whl (811kB)\n\u001b[K    100% |████████████████████████████████| 819kB 11.4MB/s ta 0:00:01\n\u001b[?25hCollecting azureml-train==1.0.23.* (from azureml-sdk[webservice-schema])\n  Downloading https://files.pythonhosted.org/packages/13/2e/502256481598b900d907a9308e3cf7d75a7d53df368e41456a161fe5f7cd/azureml_train-1.0.23-py3-none-any.whl\nCollecting azureml-pipeline==1.0.23.* (from azureml-sdk[webservice-schema])\n  Downloading https://files.pythonhosted.org/packages/6e/cd/0c486837c08043b5585f786361c984204243271aa053d54e0d23f00972d9/azureml_pipeline-1.0.23-py3-none-any.whl\nCollecting azureml-webservice-schema==1.0.23.*; extra == \"webservice-schema\" (from azureml-sdk[webservice-schema])\n  Downloading https://files.pythonhosted.org/packages/21/9f/53643ce5b14b1faeba1f6f1ea87db5ae19e74b4f16490b98a31d2685653a/azureml_webservice_schema-1.0.23-py3-none-any.whl\nRequirement already satisfied, skipping upgrade: pathspec in /home/nbuser/anaconda3_501/lib/python3.6/site-packages (from azureml-core==1.0.23.*->azureml-sdk[webservice-schema]) (0.5.9)\nRequirement already satisfied, skipping upgrade: azure-graphrbac>=0.40.0 in /home/nbuser/anaconda3_501/lib/python3.6/site-packages (from azureml-core==1.0.23.*->azureml-sdk[webservice-schema]) (0.40.0)\nRequirement already satisfied, skipping upgrade: python-dateutil>=2.7.3 in /home/nbuser/anaconda3_501/lib/python3.6/site-packages (from azureml-core==1.0.23.*->azureml-sdk[webservice-schema]) (2.7.5)\nRequirement already satisfied, skipping upgrade: ndg-httpsclient in /home/nbuser/anaconda3_501/lib/python3.6/site-packages (from azureml-core==1.0.23.*->azureml-sdk[webservice-schema]) (0.5.1)\nRequirement already satisfied, skipping upgrade: azure-mgmt-containerregistry>=2.0.0 in /home/nbuser/anaconda3_501/lib/python3.6/site-packages (from azureml-core==1.0.23.*->azureml-sdk[webservice-schema]) (2.7.0)\nRequirement already satisfied, skipping upgrade: azure-mgmt-resource>=1.2.1 in /home/nbuser/anaconda3_501/lib/python3.6/site-packages (from azureml-core==1.0.23.*->azureml-sdk[webservice-schema]) (2.0.0)\nRequirement already satisfied, skipping upgrade: six>=1.11.0 in /home/nbuser/anaconda3_501/lib/python3.6/site-packages (from azureml-core==1.0.23.*->azureml-sdk[webservice-schema]) (1.11.0)\nRequirement already satisfied, skipping upgrade: docker in /home/nbuser/anaconda3_501/lib/python3.6/site-packages (from azureml-core==1.0.23.*->azureml-sdk[webservice-schema]) (3.7.0)\nRequirement already satisfied, skipping upgrade: jmespath in /home/nbuser/anaconda3_501/lib/python3.6/site-packages (from azureml-core==1.0.23.*->azureml-sdk[webservice-schema]) (0.9.4)\nRequirement already satisfied, skipping upgrade: urllib3>=1.23 in /home/nbuser/anaconda3_501/lib/python3.6/site-packages (from azureml-core==1.0.23.*->azureml-sdk[webservice-schema]) (1.23)\nRequirement already satisfied, skipping upgrade: msrest>=0.5.1 in /home/nbuser/anaconda3_501/lib/python3.6/site-packages (from azureml-core==1.0.23.*->azureml-sdk[webservice-schema]) (0.6.4)\nRequirement already satisfied, skipping upgrade: azure-mgmt-authorization>=0.40.0 in /home/nbuser/anaconda3_501/lib/python3.6/site-packages (from azureml-core==1.0.23.*->azureml-sdk[webservice-schema]) (0.50.0)\nRequirement already satisfied, skipping upgrade: azure-common>=1.1.12 in /home/nbuser/anaconda3_501/lib/python3.6/site-packages (from azureml-core==1.0.23.*->azureml-sdk[webservice-schema]) (1.1.18)\nRequirement already satisfied, skipping upgrade: azure-mgmt-storage>=1.5.0 in /home/nbuser/anaconda3_501/lib/python3.6/site-packages (from azureml-core==1.0.23.*->azureml-sdk[webservice-schema]) (2.0.0)\nRequirement already satisfied, skipping upgrade: cryptography!=1.9,!=2.0.*,!=2.1.*,!=2.2.* in /home/nbuser/anaconda3_501/lib/python3.6/site-packages (from azureml-core==1.0.23.*->azureml-sdk[webservice-schema]) (2.3.1)\nRequirement already satisfied, skipping upgrade: ruamel.yaml<=0.15.89,>=0.15.35 in /home/nbuser/anaconda3_501/lib/python3.6/site-packages (from azureml-core==1.0.23.*->azureml-sdk[webservice-schema]) (0.15.51)\nRequirement already satisfied, skipping upgrade: pytz in /home/nbuser/anaconda3_501/lib/python3.6/site-packages (from azureml-core==1.0.23.*->azureml-sdk[webservice-schema]) (2018.7)\nRequirement already satisfied, skipping upgrade: SecretStorage in /home/nbuser/anaconda3_501/lib/python3.6/site-packages (from azureml-core==1.0.23.*->azureml-sdk[webservice-schema]) (3.1.0)\nRequirement already satisfied, skipping upgrade: azure-mgmt-keyvault>=0.40.0 in /home/nbuser/anaconda3_501/lib/python3.6/site-packages (from azureml-core==1.0.23.*->azureml-sdk[webservice-schema]) (1.1.0)\nRequirement already satisfied, skipping upgrade: backports.tempfile in /home/nbuser/anaconda3_501/lib/python3.6/site-packages (from azureml-core==1.0.23.*->azureml-sdk[webservice-schema]) (1.0)\nRequirement already satisfied, skipping upgrade: adal>=1.2.0 in /home/nbuser/anaconda3_501/lib/python3.6/site-packages (from azureml-core==1.0.23.*->azureml-sdk[webservice-schema]) (1.2.1)\nRequirement already satisfied, skipping upgrade: requests>=2.19.1 in /home/nbuser/anaconda3_501/lib/python3.6/site-packages (from azureml-core==1.0.23.*->azureml-sdk[webservice-schema]) (2.21.0)\nRequirement already satisfied, skipping upgrade: msrestazure>=0.4.33 in /home/nbuser/anaconda3_501/lib/python3.6/site-packages (from azureml-core==1.0.23.*->azureml-sdk[webservice-schema]) (0.6.0)\nRequirement already satisfied, skipping upgrade: pyopenssl in /home/nbuser/anaconda3_501/lib/python3.6/site-packages (from azureml-core==1.0.23.*->azureml-sdk[webservice-schema]) (18.0.0)\nRequirement already satisfied, skipping upgrade: PyJWT in /home/nbuser/anaconda3_501/lib/python3.6/site-packages (from azureml-core==1.0.23.*->azureml-sdk[webservice-schema]) (1.7.1)\nRequirement already satisfied, skipping upgrade: jsonpickle in /home/nbuser/anaconda3_501/lib/python3.6/site-packages (from azureml-core==1.0.23.*->azureml-sdk[webservice-schema]) (1.1)\nRequirement already satisfied, skipping upgrade: contextlib2 in /home/nbuser/anaconda3_501/lib/python3.6/site-packages (from azureml-core==1.0.23.*->azureml-sdk[webservice-schema]) (0.5.5)\nRequirement already satisfied, skipping upgrade: paramiko>=2.0.8 in /home/nbuser/anaconda3_501/lib/python3.6/site-packages (from azureml-core==1.0.23.*->azureml-sdk[webservice-schema]) (2.4.2)\nCollecting azureml-train-core==1.0.23.* (from azureml-train==1.0.23.*->azureml-sdk[webservice-schema])\n\u001b[?25l  Downloading https://files.pythonhosted.org/packages/60/1c/9f5765f2b90e3581898bc9e97132542fd74022a9579e446e05db5de6fece/azureml_train_core-1.0.23-py3-none-any.whl (40kB)\n\u001b[K    100% |████████████████████████████████| 51kB 15.6MB/s ta 0:00:01\n\u001b[?25hCollecting azureml-pipeline-core==1.0.23.* (from azureml-pipeline==1.0.23.*->azureml-sdk[webservice-schema])\n\u001b[?25l  Downloading https://files.pythonhosted.org/packages/0c/f3/b1886ae4056c3dc1c4394801bdf2639af2979d449c66b8db1467404f4102/azureml_pipeline_core-1.0.23-py2.py3-none-any.whl (153kB)\n\u001b[K    100% |████████████████████████████████| 153kB 20.7MB/s ta 0:00:01\n\u001b[?25hCollecting azureml-pipeline-steps==1.0.23.* (from azureml-pipeline==1.0.23.*->azureml-sdk[webservice-schema])\n  Downloading https://files.pythonhosted.org/packages/56/40/84ca4c8c060621be9855e24150c165cc952fe33d2a09693336414d585a34/azureml_pipeline_steps-1.0.23-py3-none-any.whl\nCollecting liac-arff>=2.1.1 (from azureml-webservice-schema==1.0.23.*; extra == \"webservice-schema\"->azureml-sdk[webservice-schema])\n  Downloading https://files.pythonhosted.org/packages/e9/35/fbc9217cfa91d98888b43e1a19c03a50d716108c58494c558c65e308f372/liac-arff-2.4.0.tar.gz\nRequirement already satisfied, skipping upgrade: pandas>=0.20.2 in /home/nbuser/anaconda3_501/lib/python3.6/site-packages (from azureml-webservice-schema==1.0.23.*; extra == \"webservice-schema\"->azureml-sdk[webservice-schema]) (0.22.0)\n",
          "name": "stdout"
        },
        {
          "output_type": "stream",
          "text": "Collecting pyspark==2.3.1 (from azureml-webservice-schema==1.0.23.*; extra == \"webservice-schema\"->azureml-sdk[webservice-schema])\n\u001b[?25l  Downloading https://files.pythonhosted.org/packages/ee/2f/709df6e8dc00624689aa0a11c7a4c06061a7d00037e370584b9f011df44c/pyspark-2.3.1.tar.gz (211.9MB)\n\u001b[K    100% |████████████████████████████████| 211.9MB 5.9kB/s eta 0:00:01 3% |█▎                              | 8.3MB 14.6MB/s eta 0:00:14    16% |█████▍                          | 35.4MB 28.7MB/s eta 0:00:07    32% |██████████▍                     | 68.7MB 19.4MB/s eta 0:00:08    40% |████████████▉                   | 85.0MB 1.1MB/s eta 0:01:52    43% |██████████████                  | 92.1MB 13.6MB/s eta 0:00:09    56% |██████████████████              | 119.8MB 12.5MB/s eta 0:00:08███████            | 132.3MB 12.1MB/s eta 0:00:07    66% |█████████████████████▏          | 139.9MB 16.0MB/s eta 0:00:05    73% |███████████████████████▌        | 155.4MB 12.1MB/s eta 0:00:05    76% |████████████████████████▋       | 162.8MB 10.2MB/s eta 0:00:05    91% |█████████████████████████████▍  | 194.6MB 10.2MB/s eta 0:00:02\n\u001b[?25hRequirement already satisfied, skipping upgrade: numpy>=1.13.0 in /home/nbuser/anaconda3_501/lib/python3.6/site-packages (from azureml-webservice-schema==1.0.23.*; extra == \"webservice-schema\"->azureml-sdk[webservice-schema]) (1.14.6)\nRequirement already satisfied, skipping upgrade: dill>=0.2.7.1 in /home/nbuser/anaconda3_501/lib/python3.6/site-packages (from azureml-webservice-schema==1.0.23.*; extra == \"webservice-schema\"->azureml-sdk[webservice-schema]) (0.2.9)\nRequirement already satisfied, skipping upgrade: azure-nspkg>=2.0.0 in /home/nbuser/anaconda3_501/lib/python3.6/site-packages (from azure-graphrbac>=0.40.0->azureml-core==1.0.23.*->azureml-sdk[webservice-schema]) (3.0.2)\nRequirement already satisfied, skipping upgrade: pyasn1>=0.1.1 in /home/nbuser/anaconda3_501/lib/python3.6/site-packages (from ndg-httpsclient->azureml-core==1.0.23.*->azureml-sdk[webservice-schema]) (0.4.4)\nRequirement already satisfied, skipping upgrade: azure-mgmt-nspkg>=2.0.0 in /home/nbuser/anaconda3_501/lib/python3.6/site-packages (from azure-mgmt-resource>=1.2.1->azureml-core==1.0.23.*->azureml-sdk[webservice-schema]) (3.0.2)\nRequirement already satisfied, skipping upgrade: docker-pycreds>=0.4.0 in /home/nbuser/anaconda3_501/lib/python3.6/site-packages (from docker->azureml-core==1.0.23.*->azureml-sdk[webservice-schema]) (0.4.0)\nRequirement already satisfied, skipping upgrade: websocket-client>=0.32.0 in /home/nbuser/anaconda3_501/lib/python3.6/site-packages (from docker->azureml-core==1.0.23.*->azureml-sdk[webservice-schema]) (0.55.0)\nRequirement already satisfied, skipping upgrade: requests-oauthlib>=0.5.0 in /home/nbuser/anaconda3_501/lib/python3.6/site-packages (from msrest>=0.5.1->azureml-core==1.0.23.*->azureml-sdk[webservice-schema]) (1.2.0)\nRequirement already satisfied, skipping upgrade: certifi>=2017.4.17 in /home/nbuser/anaconda3_501/lib/python3.6/site-packages (from msrest>=0.5.1->azureml-core==1.0.23.*->azureml-sdk[webservice-schema]) (2018.10.15)\nRequirement already satisfied, skipping upgrade: isodate>=0.6.0 in /home/nbuser/anaconda3_501/lib/python3.6/site-packages (from msrest>=0.5.1->azureml-core==1.0.23.*->azureml-sdk[webservice-schema]) (0.6.0)\nRequirement already satisfied, skipping upgrade: idna>=2.1 in /home/nbuser/anaconda3_501/lib/python3.6/site-packages (from cryptography!=1.9,!=2.0.*,!=2.1.*,!=2.2.*->azureml-core==1.0.23.*->azureml-sdk[webservice-schema]) (2.7)\nRequirement already satisfied, skipping upgrade: asn1crypto>=0.21.0 in /home/nbuser/anaconda3_501/lib/python3.6/site-packages (from cryptography!=1.9,!=2.0.*,!=2.1.*,!=2.2.*->azureml-core==1.0.23.*->azureml-sdk[webservice-schema]) (0.24.0)\nRequirement already satisfied, skipping upgrade: cffi!=1.11.3,>=1.7 in /home/nbuser/anaconda3_501/lib/python3.6/site-packages (from cryptography!=1.9,!=2.0.*,!=2.1.*,!=2.2.*->azureml-core==1.0.23.*->azureml-sdk[webservice-schema]) (1.11.5)\nRequirement already satisfied, skipping upgrade: jeepney in /home/nbuser/anaconda3_501/lib/python3.6/site-packages (from SecretStorage->azureml-core==1.0.23.*->azureml-sdk[webservice-schema]) (0.4)\nRequirement already satisfied, skipping upgrade: backports.weakref in /home/nbuser/anaconda3_501/lib/python3.6/site-packages (from backports.tempfile->azureml-core==1.0.23.*->azureml-sdk[webservice-schema]) (1.0rc1)\nRequirement already satisfied, skipping upgrade: chardet<3.1.0,>=3.0.2 in /home/nbuser/anaconda3_501/lib/python3.6/site-packages (from requests>=2.19.1->azureml-core==1.0.23.*->azureml-sdk[webservice-schema]) (3.0.4)\nRequirement already satisfied, skipping upgrade: pynacl>=1.0.1 in /home/nbuser/anaconda3_501/lib/python3.6/site-packages (from paramiko>=2.0.8->azureml-core==1.0.23.*->azureml-sdk[webservice-schema]) (1.3.0)\nRequirement already satisfied, skipping upgrade: bcrypt>=3.1.3 in /home/nbuser/anaconda3_501/lib/python3.6/site-packages (from paramiko>=2.0.8->azureml-core==1.0.23.*->azureml-sdk[webservice-schema]) (3.1.6)\nCollecting azureml-train-restclients-hyperdrive==1.0.23.* (from azureml-train-core==1.0.23.*->azureml-train==1.0.23.*->azureml-sdk[webservice-schema])\n  Downloading https://files.pythonhosted.org/packages/be/41/1d498b21df9d17972ce3665f3b98993b8caeb3b9feef49d41be5c70371df/azureml_train_restclients_hyperdrive-1.0.23-py3-none-any.whl\nCollecting azureml-telemetry==1.0.23.* (from azureml-train-core==1.0.23.*->azureml-train==1.0.23.*->azureml-sdk[webservice-schema])\n  Downloading https://files.pythonhosted.org/packages/3b/8f/5618c3535a6ce6aafd7fffd640e03ad7524ab2ca4b3a7258b00eef9acead/azureml_telemetry-1.0.23-py3-none-any.whl\nCollecting py4j==0.10.7 (from pyspark==2.3.1->azureml-webservice-schema==1.0.23.*; extra == \"webservice-schema\"->azureml-sdk[webservice-schema])\n\u001b[?25l  Downloading https://files.pythonhosted.org/packages/e3/53/c737818eb9a7dc32a7cd4f1396e787bd94200c3997c72c1dbe028587bd76/py4j-0.10.7-py2.py3-none-any.whl (197kB)\n\u001b[K    100% |████████████████████████████████| 204kB 20.5MB/s ta 0:00:01\n\u001b[?25hRequirement already satisfied, skipping upgrade: oauthlib>=3.0.0 in /home/nbuser/anaconda3_501/lib/python3.6/site-packages (from requests-oauthlib>=0.5.0->msrest>=0.5.1->azureml-core==1.0.23.*->azureml-sdk[webservice-schema]) (3.0.1)\nRequirement already satisfied, skipping upgrade: pycparser in /home/nbuser/anaconda3_501/lib/python3.6/site-packages (from cffi!=1.11.3,>=1.7->cryptography!=1.9,!=2.0.*,!=2.1.*,!=2.2.*->azureml-core==1.0.23.*->azureml-sdk[webservice-schema]) (2.19)\nRequirement already satisfied, skipping upgrade: applicationinsights in /home/nbuser/anaconda3_501/lib/python3.6/site-packages (from azureml-telemetry==1.0.23.*->azureml-train-core==1.0.23.*->azureml-train==1.0.23.*->azureml-sdk[webservice-schema]) (0.11.7)\nBuilding wheels for collected packages: liac-arff, pyspark\n  Building wheel for liac-arff (setup.py) ... \u001b[?25ldone\n\u001b[?25h  Stored in directory: /home/nbuser/.cache/pip/wheels/d1/6a/e7/529dc54d76ecede4346164a09ae3168df358945612710f5203\n  Building wheel for pyspark (setup.py) ... \u001b[?25ldone\n\u001b[?25h  Stored in directory: /home/nbuser/.cache/pip/wheels/37/48/54/f1b63f0dbb729e20c92f1bbcf1c53c03b300e0b93ca1781526\nSuccessfully built liac-arff pyspark\n\u001b[31mazureml-widgets 1.0.17 has requirement azureml-core==1.0.17.*, but you'll have azureml-core 1.0.23 which is incompatible.\u001b[0m\n\u001b[31mazureml-widgets 1.0.17 has requirement azureml-telemetry==1.0.17.*, but you'll have azureml-telemetry 1.0.23 which is incompatible.\u001b[0m\n\u001b[31mazureml-train-automl 1.0.17.1 has requirement azureml-core==1.0.17.*, but you'll have azureml-core 1.0.23 which is incompatible.\u001b[0m\n\u001b[31mazureml-train-automl 1.0.17.1 has requirement azureml-telemetry==1.0.17.*, but you'll have azureml-telemetry 1.0.23 which is incompatible.\u001b[0m\n\u001b[31mazureml-contrib-notebook 1.0.17 has requirement azureml-core==1.0.17.*, but you'll have azureml-core 1.0.23 which is incompatible.\u001b[0m\nInstalling collected packages: azureml-core, azureml-train-restclients-hyperdrive, azureml-telemetry, azureml-train-core, azureml-train, azureml-pipeline-core, azureml-pipeline-steps, azureml-pipeline, liac-arff, py4j, pyspark, azureml-webservice-schema, azureml-sdk\n  Found existing installation: azureml-core 1.0.17.1\n",
          "name": "stdout"
        },
        {
          "output_type": "stream",
          "text": "    Uninstalling azureml-core-1.0.17.1:\n      Successfully uninstalled azureml-core-1.0.17.1\n  Found existing installation: azureml-train-restclients-hyperdrive 1.0.17\n    Uninstalling azureml-train-restclients-hyperdrive-1.0.17:\n      Successfully uninstalled azureml-train-restclients-hyperdrive-1.0.17\n  Found existing installation: azureml-telemetry 1.0.17\n    Uninstalling azureml-telemetry-1.0.17:\n      Successfully uninstalled azureml-telemetry-1.0.17\n  Found existing installation: azureml-train-core 1.0.17\n    Uninstalling azureml-train-core-1.0.17:\n      Successfully uninstalled azureml-train-core-1.0.17\n  Found existing installation: azureml-train 1.0.17\n    Uninstalling azureml-train-1.0.17:\n      Successfully uninstalled azureml-train-1.0.17\n  Found existing installation: azureml-pipeline-core 1.0.17\n    Uninstalling azureml-pipeline-core-1.0.17:\n      Successfully uninstalled azureml-pipeline-core-1.0.17\n  Found existing installation: azureml-pipeline-steps 1.0.17\n    Uninstalling azureml-pipeline-steps-1.0.17:\n      Successfully uninstalled azureml-pipeline-steps-1.0.17\n  Found existing installation: azureml-pipeline 1.0.17\n    Uninstalling azureml-pipeline-1.0.17:\n      Successfully uninstalled azureml-pipeline-1.0.17\n  Found existing installation: azureml-sdk 1.0.17\n    Uninstalling azureml-sdk-1.0.17:\n      Successfully uninstalled azureml-sdk-1.0.17\nSuccessfully installed azureml-core-1.0.23 azureml-pipeline-1.0.23 azureml-pipeline-core-1.0.23 azureml-pipeline-steps-1.0.23 azureml-sdk-1.0.23 azureml-telemetry-1.0.23 azureml-train-1.0.23 azureml-train-core-1.0.23 azureml-train-restclients-hyperdrive-1.0.23 azureml-webservice-schema-1.0.23 liac-arff-2.4.0 py4j-0.10.7 pyspark-2.3.1\n",
          "name": "stdout"
        }
      ]
    },
    {
      "metadata": {
        "trusted": true
      },
      "cell_type": "code",
      "source": "from azureml.webservice_schema.sample_definition import SampleDefinition\nfrom azureml.webservice_schema.data_types import DataTypes\nfrom azureml.webservice_schema.schema_generation import generate_schema\n\nschema_file_name = './schema.json'\ndef run(timestamp,precip,temp):\n    return \"OK\"\n\nimport numpy as np\ngenerate_schema(run, inputs={\n    \"timestamp\" : SampleDefinition(DataTypes.STANDARD, '2012-01-01 00:00:00'),\n    \"precip\" : SampleDefinition(DataTypes.STANDARD, '0.0'),\n    \"temp\" : SampleDefinition(DataTypes.STANDARD, '0.0')}, \n    filepath=schema_file_name)",
      "execution_count": 24,
      "outputs": [
        {
          "output_type": "execute_result",
          "execution_count": 24,
          "data": {
            "text/plain": "{'input': {'timestamp': {'internal': 'gANjYXp1cmVtbC53ZWJzZXJ2aWNlX3NjaGVtYS5fcHl0aG9uX3V0aWwKUHl0aG9uU2NoZW1hCnEAKYFxAX1xAlgJAAAAZGF0YV90eXBlcQNjYnVpbHRpbnMKc3RyCnEEc2Iu',\n   'swagger': {'type': 'string', 'example': '2012-01-01 00:00:00'},\n   'type': 0,\n   'version': '1.0.23'},\n  'precip': {'internal': 'gANjYXp1cmVtbC53ZWJzZXJ2aWNlX3NjaGVtYS5fcHl0aG9uX3V0aWwKUHl0aG9uU2NoZW1hCnEAKYFxAX1xAlgJAAAAZGF0YV90eXBlcQNjYnVpbHRpbnMKc3RyCnEEc2Iu',\n   'swagger': {'type': 'string', 'example': '0.0'},\n   'type': 0,\n   'version': '1.0.23'},\n  'temp': {'internal': 'gANjYXp1cmVtbC53ZWJzZXJ2aWNlX3NjaGVtYS5fcHl0aG9uX3V0aWwKUHl0aG9uU2NoZW1hCnEAKYFxAX1xAlgJAAAAZGF0YV90eXBlcQNjYnVpbHRpbnMKc3RyCnEEc2Iu',\n   'swagger': {'type': 'string', 'example': '0.0'},\n   'type': 0,\n   'version': '1.0.23'}}}"
          },
          "metadata": {}
        }
      ]
    },
    {
      "metadata": {},
      "cell_type": "markdown",
      "source": "### Create a Docker file to include extra dependencies in the image"
    },
    {
      "metadata": {
        "trusted": true
      },
      "cell_type": "code",
      "source": "%%writefile docker_steps.dockerfile\nRUN apt-get update && \\\n    apt-get upgrade -y && \\\n    apt-get install -y build-essential gcc g++ python-dev unixodbc unixodbc-dev",
      "execution_count": 25,
      "outputs": [
        {
          "output_type": "stream",
          "text": "Overwriting docker_steps.dockerfile\n",
          "name": "stdout"
        }
      ]
    },
    {
      "metadata": {
        "trusted": true
      },
      "cell_type": "code",
      "source": "docker_file_name = \"docker_steps.dockerfile\"",
      "execution_count": 26,
      "outputs": []
    },
    {
      "metadata": {},
      "cell_type": "markdown",
      "source": "### Create a Container Image\nThe container image will be based on the model and is used to deploy the container instance"
    },
    {
      "metadata": {
        "trusted": true
      },
      "cell_type": "code",
      "source": "from azureml.core.image import Image, ContainerImage\n\nimage_config = ContainerImage.image_configuration(runtime= \"python\",\n                                 execution_script = script_file_name,\n                                 docker_file = docker_file_name,\n                                 schema_file = schema_file_name,\n                                 conda_file = conda_env_file_name,\n                                 tags = {'ml': \"Forecasting\", 'type': \"automl\"},\n                                 description = \"Image for automated ml energy demand forecasting predictions\")\n\nimage = Image.create(name = \"automlenergyforecasting\",\n                     models = [model],\n                     image_config = image_config, \n                     workspace = ws)\n\nimage.wait_for_creation(show_output = True)",
      "execution_count": 27,
      "outputs": [
        {
          "output_type": "stream",
          "text": "Creating image\nRunning......................................................................\nSucceededImage creation operation finished for image automlenergyforecasting:2, operation \"Succeeded\"\n",
          "name": "stdout"
        }
      ]
    },
    {
      "metadata": {},
      "cell_type": "markdown",
      "source": "### Deploy the Image as a Web Service on Azure Container Instance"
    },
    {
      "metadata": {
        "trusted": true
      },
      "cell_type": "code",
      "source": "from azureml.core.webservice import AciWebservice\n\naciconfig = AciWebservice.deploy_configuration(cpu_cores = 1, \n                                               memory_gb = 1, \n                                               tags = {'ml': \"Forecasting\", 'type': \"automl\"}, \n                                               description = 'ACI service for automated ml energy demand forecasting predictions')",
      "execution_count": 28,
      "outputs": []
    },
    {
      "metadata": {
        "trusted": true
      },
      "cell_type": "code",
      "source": "from azureml.core.webservice import Webservice\n\naci_service_name = 'automlenergyforecasting'\nprint(aci_service_name)\naci_service = Webservice.deploy_from_image(deployment_config = aciconfig,\n                                           image = image,\n                                           name = aci_service_name,\n                                           workspace = ws)\naci_service.wait_for_deployment(True)\nprint(aci_service.state)",
      "execution_count": 31,
      "outputs": []
    }
  ],
  "metadata": {
    "authors": [
      {
        "name": "xiaga"
      }
    ],
    "kernelspec": {
      "name": "python36",
      "display_name": "Python 3.6",
      "language": "python"
    },
    "language_info": {
      "mimetype": "text/x-python",
      "nbconvert_exporter": "python",
      "name": "python",
      "pygments_lexer": "ipython3",
      "version": "3.6.6",
      "file_extension": ".py",
      "codemirror_mode": {
        "version": 3,
        "name": "ipython"
      }
    }
  },
  "nbformat": 4,
  "nbformat_minor": 2
}