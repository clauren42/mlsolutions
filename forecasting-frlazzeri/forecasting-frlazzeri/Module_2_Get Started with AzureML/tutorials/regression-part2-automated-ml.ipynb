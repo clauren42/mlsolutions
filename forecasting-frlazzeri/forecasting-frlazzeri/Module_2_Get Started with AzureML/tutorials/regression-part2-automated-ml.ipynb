{
  "cells": [
    {
      "metadata": {},
      "cell_type": "markdown",
      "source": "Copyright (c) Microsoft Corporation. All rights reserved."
    },
    {
      "metadata": {},
      "cell_type": "markdown",
      "source": "# Tutorial (part 2): Use automated machine learning to build your regression model \n\nThis tutorial is **part two of a two-part tutorial series**. In the previous tutorial, you [prepared the NYC taxi data for regression modeling](regression-part1-data-prep.ipynb).\n\nNow, you're ready to start building your model with Azure Machine Learning service. In this part of the tutorial, you will use the prepared data and automatically generate a regression model to predict taxi fare prices. Using the automated ML capabilities of the service, you define your machine learning goals and constraints, launch the automated machine learning process and then allow the algorithm selection and hyperparameter-tuning to happen for you. The automated ML technique iterates over many combinations of algorithms and hyperparameters until it finds the best model based on your criterion.\n\nIn this tutorial, you learn how to:\n\n> * Setup a Python environment and import the SDK packages\n> * Configure an Azure Machine Learning service workspace\n> * Auto-train a regression model \n> * Run the model locally with custom parameters\n> * Explore the results\n> * Register the best model\n\nIf you don't have an Azure subscription, create a [free account](https://aka.ms/AMLfree) before you begin. \n\n> Code in this article was tested with Azure Machine Learning SDK version 1.0.0\n\n\n## Prerequisites\n\n> * [Run the data preparation tutorial](regression-part1-data-prep.ipynb)\n\n> * Automated machine learning configured environment e.g. Azure notebooks, Local Python environment or Data Science Virtual Machine. [Setup](https://docs.microsoft.com/azure/machine-learning/service/samples-notebooks) automated machine learning."
    },
    {
      "metadata": {},
      "cell_type": "markdown",
      "source": "### Import packages\nImport Python packages you need in this tutorial."
    },
    {
      "metadata": {
        "trusted": false
      },
      "cell_type": "code",
      "source": "import azureml.core\nimport pandas as pd\nfrom azureml.core.workspace import Workspace\nimport logging",
      "execution_count": null,
      "outputs": []
    },
    {
      "metadata": {},
      "cell_type": "markdown",
      "source": "### Configure workspace\n\nCreate a workspace object from the existing workspace. A `Workspace` is a class that accepts your Azure subscription and resource information, and creates a cloud resource to monitor and track your model runs. `Workspace.from_config()` reads the file **aml_config/config.json** and loads the details into an object named `ws`.  `ws` is used throughout the rest of the code in this tutorial.\n\nOnce you have a workspace object, specify a name for the experiment and create and register a local directory with the workspace. The history of all runs is recorded under the specified experiment."
    },
    {
      "metadata": {
        "trusted": false
      },
      "cell_type": "code",
      "source": "ws = Workspace.from_config()\n# choose a name for the run history container in the workspace\nexperiment_name = 'automated-ml-regression'\n# project folder\nproject_folder = './automated-ml-regression'\n\nimport os\n\noutput = {}\noutput['SDK version'] = azureml.core.VERSION\noutput['Subscription ID'] = ws.subscription_id\noutput['Workspace'] = ws.name\noutput['Resource Group'] = ws.resource_group\noutput['Location'] = ws.location\noutput['Project Directory'] = project_folder\npd.set_option('display.max_colwidth', -1)\noutputDf = pd.DataFrame(data = output, index = [''])\noutputDf.T",
      "execution_count": null,
      "outputs": []
    },
    {
      "metadata": {},
      "cell_type": "markdown",
      "source": "## Explore data\n\nUtilize the data flow object created in the previous tutorial. Open and execute the data flow and review the results."
    },
    {
      "metadata": {
        "trusted": false
      },
      "cell_type": "code",
      "source": "import azureml.dataprep as dprep\n\nfile_path = os.path.join(os.getcwd(), \"dflows.dprep\")\n\npackage_saved = dprep.Package.open(file_path)\ndflow_prepared = package_saved.dataflows[0]\ndflow_prepared.get_profile()",
      "execution_count": null,
      "outputs": []
    },
    {
      "metadata": {},
      "cell_type": "markdown",
      "source": "You prepare the data for the experiment by adding columns to `dflow_X` to be features for our model creation. You define `dflow_y` to be our prediction value; cost.\n"
    },
    {
      "metadata": {
        "trusted": false
      },
      "cell_type": "code",
      "source": "dflow_X = dflow_prepared.keep_columns(['pickup_weekday','pickup_hour', 'distance','passengers', 'vendor'])\ndflow_y = dflow_prepared.keep_columns('cost')",
      "execution_count": null,
      "outputs": []
    },
    {
      "metadata": {},
      "cell_type": "markdown",
      "source": "### Split data into train and test sets\n\nNow you split the data into training and test sets using the `train_test_split` function in the `sklearn` library. This function segregates the data into the x (features) data set for model training and the y (values to predict) data set for testing. The `test_size` parameter determines the percentage of data to allocate to testing. The `random_state` parameter sets a seed to the random generator, so that your train-test splits are always deterministic."
    },
    {
      "metadata": {
        "trusted": false
      },
      "cell_type": "code",
      "source": "from sklearn.model_selection import train_test_split\n\n\nx_df = dflow_X.to_pandas_dataframe()\ny_df = dflow_y.to_pandas_dataframe()\n\nx_train, x_test, y_train, y_test = train_test_split(x_df, y_df, test_size=0.2, random_state=223)\n# flatten y_train to 1d array\ny_train.values.flatten()",
      "execution_count": null,
      "outputs": []
    },
    {
      "metadata": {},
      "cell_type": "markdown",
      "source": "You now have the necessary packages and data ready for auto training for your model. \n\n## Automatically train a model\n\nTo automatically train a model:\n1. Define settings for the experiment run\n1. Submit the experiment for model tuning\n\n\n### Define settings for autogeneration and tuning\n\nDefine the experiment parameters and models settings for autogeneration and tuning. View the full list of [settings](https://docs.microsoft.com/en-us/azure/machine-learning/service/how-to-configure-auto-train).\n\n\n|Property| Value in this tutorial |Description|\n|----|----|---|\n|**iteration_timeout_minutes**|10|Time limit in minutes for each iteration|\n|**iterations**|30|Number of iterations. In each iteration, the model trains with the data with a specific pipeline|\n|**primary_metric**|spearman_correlation | Metric that you want to optimize.|\n|**preprocess**| True | True enables experiment to perform preprocessing on the input.|\n|**verbosity**| logging.INFO | Controls the level of logging.|\n|**n_cross_validationss**|5|Number of cross validation splits\n"
    },
    {
      "metadata": {
        "trusted": false
      },
      "cell_type": "code",
      "source": "automl_settings = {\n    \"iteration_timeout_minutes\" : 10,\n    \"iterations\" : 30,\n    \"primary_metric\" : 'spearman_correlation',\n    \"preprocess\" : True,\n    \"verbosity\" : logging.INFO,\n    \"n_cross_validations\": 5\n}",
      "execution_count": null,
      "outputs": []
    },
    {
      "metadata": {
        "tags": [
          "configure automl"
        ],
        "trusted": false
      },
      "cell_type": "code",
      "source": "from azureml.train.automl import AutoMLConfig\n\n# local compute \nautomated_ml_config = AutoMLConfig(task = 'regression',\n                             debug_log = 'automated_ml_errors.log',\n                             path = project_folder,\n                             X = x_train.values,\n                             y = y_train.values.flatten(),\n                             **automl_settings)",
      "execution_count": null,
      "outputs": []
    },
    {
      "metadata": {},
      "cell_type": "markdown",
      "source": "### Train the automatic regression model\n\nStart the experiment to run locally. Pass the defined `automated_ml_config` object to the experiment, and set the output to `true` to view progress during the experiment."
    },
    {
      "metadata": {
        "tags": [
          "local submitted run",
          "automl"
        ],
        "trusted": false
      },
      "cell_type": "code",
      "source": "from azureml.core.experiment import Experiment\nexperiment=Experiment(ws, experiment_name)\nlocal_run = experiment.submit(automated_ml_config, show_output=True)",
      "execution_count": null,
      "outputs": []
    },
    {
      "metadata": {},
      "cell_type": "markdown",
      "source": "## Explore the results\n\nExplore the results of automatic training with a Jupyter widget or by examining the experiment history.\n\n### Option 1: Add a Jupyter widget to see results\n\nUse the Jupyter notebook widget to see a graph and a table of all results."
    },
    {
      "metadata": {
        "tags": [
          "use notebook widget"
        ],
        "trusted": false
      },
      "cell_type": "code",
      "source": "from azureml.widgets import RunDetails\nRunDetails(local_run).show()",
      "execution_count": null,
      "outputs": []
    },
    {
      "metadata": {},
      "cell_type": "markdown",
      "source": "### Option 2: Get and examine all run iterations in Python\n\nAlternatively, you can retrieve the history of each experiment and explore the individual metrics for each iteration run."
    },
    {
      "metadata": {
        "tags": [
          "get metrics",
          "query history"
        ],
        "trusted": false
      },
      "cell_type": "code",
      "source": "children = list(local_run.get_children())\nmetricslist = {}\nfor run in children:\n    properties = run.get_properties()\n    metrics = {k: v for k, v in run.get_metrics().items() if isinstance(v, float)}\n    metricslist[int(properties['iteration'])] = metrics\n\nrundata = pd.DataFrame(metricslist).sort_index(1)\nrundata",
      "execution_count": null,
      "outputs": []
    },
    {
      "metadata": {},
      "cell_type": "markdown",
      "source": "## Retrieve the best model\n\nSelect the best pipeline from our iterations. The `get_output` method on `automl_classifier` returns the best run and the fitted model for the last fit invocation. There are overloads on `get_output` that allow you to retrieve the best run and fitted model for any logged metric or a particular iteration."
    },
    {
      "metadata": {
        "trusted": false
      },
      "cell_type": "code",
      "source": "best_run, fitted_model = local_run.get_output()\nprint(best_run)\nprint(fitted_model)",
      "execution_count": null,
      "outputs": []
    },
    {
      "metadata": {},
      "cell_type": "markdown",
      "source": "## Register the model\n\nRegister the model in your Azure Machine Learning Workspace."
    },
    {
      "metadata": {
        "trusted": false
      },
      "cell_type": "code",
      "source": "description = 'Automated Machine Learning Model'\ntags = None\nlocal_run.register_model(description=description, tags=tags)\nprint(local_run.model_id) # Use this id to deploy the model as a web service in Azure",
      "execution_count": null,
      "outputs": []
    },
    {
      "metadata": {},
      "cell_type": "markdown",
      "source": "## Test the best model accuracy\n\nUse the best model to run predictions on the test data set. The function `predict` uses the best model, and predicts the values of y (trip cost) from the `x_test` data set. Print the first 10 predicted cost values from `y_predict`."
    },
    {
      "metadata": {
        "trusted": false
      },
      "cell_type": "code",
      "source": "y_predict = fitted_model.predict(x_test.values) \nprint(y_predict[:10])",
      "execution_count": null,
      "outputs": []
    },
    {
      "metadata": {},
      "cell_type": "markdown",
      "source": "Create a scatter plot to visualize the predicted cost values compared to the actual cost values. The following code uses the `distance` feature as the x-axis, and trip `cost` as the y-axis. The first 100 predicted and actual cost values are created as separate series, in order to compare the variance of predicted cost at each trip distance value. Examining the plot shows that the distance/cost relationship is nearly linear, and the predicted cost values are in most cases very close to the actual cost values for the same trip distance."
    },
    {
      "metadata": {
        "trusted": false
      },
      "cell_type": "code",
      "source": "import matplotlib.pyplot as plt\n\nfig = plt.figure(figsize=(14, 10))\nax1 = fig.add_subplot(111)\n\ndistance_vals = [x[4] for x in x_test.values]\ny_actual = y_test.values.flatten().tolist()\n\nax1.scatter(distance_vals[:100], y_predict[:100], s=18, c='b', marker=\"s\", label='Predicted')\nax1.scatter(distance_vals[:100], y_actual[:100], s=18, c='r', marker=\"o\", label='Actual')\n\nax1.set_xlabel('distance (mi)')\nax1.set_title('Predicted and Actual Cost/Distance')\nax1.set_ylabel('Cost ($)')\n\nplt.legend(loc='upper left', prop={'size': 12})\nplt.rcParams.update({'font.size': 14})\nplt.show()",
      "execution_count": null,
      "outputs": []
    },
    {
      "metadata": {},
      "cell_type": "markdown",
      "source": "Calculate the `root mean squared error` of the results. Use the `y_test` dataframe, and convert it to a list to compare to the predicted values. The function `mean_squared_error` takes two arrays of values, and calculates the average squared error between them. Taking the square root of the result gives an error in the same units as the y variable (cost), and indicates roughly how far your predictions are from the actual value. "
    },
    {
      "metadata": {
        "trusted": false
      },
      "cell_type": "code",
      "source": "from sklearn.metrics import mean_squared_error\nfrom math import sqrt\n\nrmse = sqrt(mean_squared_error(y_actual, y_predict))\nrmse",
      "execution_count": null,
      "outputs": []
    },
    {
      "metadata": {},
      "cell_type": "markdown",
      "source": "Run the following code to calculate MAPE (mean absolute percent error) using the full `y_actual` and `y_predict` data sets. This metric calculates an absolute difference between each predicted and actual value, sums all the differences, and then expresses that sum as a percent of the total of the actual values."
    },
    {
      "metadata": {
        "trusted": false
      },
      "cell_type": "code",
      "source": "sum_actuals = sum_errors = 0\n\nfor actual_val, predict_val in zip(y_actual, y_predict):\n    abs_error = actual_val - predict_val\n    if abs_error < 0:\n        abs_error = abs_error * -1\n    \n    sum_errors = sum_errors + abs_error\n    sum_actuals = sum_actuals + actual_val\n    \nmean_abs_percent_error = sum_errors / sum_actuals\nprint(\"Model MAPE:\")\nprint(mean_abs_percent_error)\nprint()\nprint(\"Model Accuracy:\")\nprint(1 - mean_abs_percent_error)",
      "execution_count": null,
      "outputs": []
    },
    {
      "metadata": {},
      "cell_type": "markdown",
      "source": "## Next steps\n\nIn this automated machine learning tutorial, you:\n\n\n> * Configured a workspace and prepared data for an experiment\n> * Trained using an automated regression model locally with custom parameters\n> * Explored and reviewed training results\n> * Registered the best model\n\n[Deploy your model](02.deploy-models.ipynb) with Azure Machine Learning."
    }
  ],
  "metadata": {
    "authors": [
      {
        "name": "jeffshep"
      }
    ],
    "kernelspec": {
      "name": "python36",
      "display_name": "Python 3.6",
      "language": "python"
    },
    "language_info": {
      "mimetype": "text/x-python",
      "nbconvert_exporter": "python",
      "name": "python",
      "pygments_lexer": "ipython3",
      "version": "3.6.6",
      "file_extension": ".py",
      "codemirror_mode": {
        "version": 3,
        "name": "ipython"
      }
    },
    "msauthor": "sgilley"
  },
  "nbformat": 4,
  "nbformat_minor": 2
}