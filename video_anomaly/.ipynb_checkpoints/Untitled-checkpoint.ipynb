{
 "cells": [
  {
   "cell_type": "markdown",
   "metadata": {},
   "source": [
    "# Video Anomaly detection\n",
    "\n",
    "The automation of detecting anomalous events in videos is a challenging problem that currently attracts a lot of attention by researchers, but also has broad applications across industry verticals.  \n",
    "\n",
    "The approach involves training deep neural networks to develop an in-depth understanding of the physical and causal rules in the observed scenes. The model effectively learns to predict future frames in the video. By calculating the error in this prediction, it is then possible to detect if something unusual, an anomalous event, occurred, if there is a large prediction error.  \n",
    "\n",
    "The approach can be used both in a supervised and unsupervised fashion, thus enabling the detection of pre-defined anomalies, but also of anomalous events that have never occurred in the past. \n",
    "\n",
    "> Post on [LinkedIn](https://www.linkedin.com/feed/update/urn:li:activity:6512538611181846528) (includes video demonstration)\n",
    "\n",
    "# Learning Goals\n",
    "\n",
    "You will learn:\n",
    "1. How to adapt an existing neural network architecture to your use-case.\n",
    "1. How to prepare video data for deep learning. \n",
    "1. How to perform hyperparameter tuning with [HyperDrive](https://azure.microsoft.com/en-us/blog/experimentation-using-azure-machine-learning/) to improve the performance of you model.\n",
    "1. How to deploy a deep neural network as a webservice for video processing. \n",
    "1. How to post-process the output of a Keras model for secondary tasks (here, anomaly detection)\n",
    "2. How to define a build pipeline for DevOps.\n"
   ]
  },
  {
   "cell_type": "code",
   "execution_count": 3,
   "metadata": {},
   "outputs": [
    {
     "data": {
      "text/html": [
       "<video width=\"800\" controls>\n",
       "  <source src=\"anomaly.mp4\" type=\"video/mp4\">\n",
       "</video>"
      ],
      "text/plain": [
       "<IPython.core.display.HTML object>"
      ]
     },
     "metadata": {},
     "output_type": "display_data"
    }
   ],
   "source": [
    "%%HTML\n",
    "<video width=\"800\" controls>\n",
    "  <source src=\"anomaly.mp4\" type=\"video/mp4\">\n",
    "</video>"
   ]
  },
  {
   "cell_type": "markdown",
   "metadata": {},
   "source": [
    "## Connect to Azure Machine Learning workspace and prepare compute"
   ]
  },
  {
   "cell_type": "code",
   "execution_count": null,
   "metadata": {},
   "outputs": [],
   "source": [
    "ws = Workspace.from_config(path=config_json, auth=svc_pr)\n",
    "\n",
    "\n",
    "# choose a name for your cluster\n",
    "gpu_compute_name = config['gpu_compute']\n",
    "\n",
    "try:\n",
    "    gpu_compute_target = AmlCompute(workspace=ws, name=gpu_compute_name)\n",
    "    print(\"found existing compute target: %s\" % gpu_compute_name)\n",
    "except ComputeTargetException:\n",
    "    print('Creating a new compute target...')\n",
    "    provisioning_config = AmlCompute.provisioning_configuration(vm_size='STANDARD_NC6', \n",
    "                                                                max_nodes=5,\n",
    "                                                                idle_seconds_before_scaledown=1800)\n",
    "\n",
    "    # create the cluster\n",
    "    gpu_compute_target = ComputeTarget.create(ws, gpu_compute_name, provisioning_config)\n",
    "\n",
    "    # can poll for a minimum number of nodes and for a specific timeout. \n",
    "    # if no min node count is provided it uses the scale settings for the cluster\n",
    "    gpu_compute_target.wait_for_completion(show_output=True, min_node_count=None, timeout_in_minutes=20)"
   ]
  },
  {
   "cell_type": "markdown",
   "metadata": {},
   "source": [
    "## Train Tensorflow model"
   ]
  },
  {
   "cell_type": "code",
   "execution_count": null,
   "metadata": {},
   "outputs": [],
   "source": [
    "est = TensorFlow(source_directory=script_folder,\n",
    "                compute_target=gpu_compute_target,\n",
    "                pip_packages=['keras==2.0.8', 'theano', 'tensorflow==1.8.0', 'tensorflow-gpu==1.8.0', 'matplotlib', 'horovod', 'hickle'],\n",
    "                entry_script='train.py', \n",
    "                use_gpu=True,\n",
    "                node_count=1,\n",
    "                script_params={\"--remote_execution\": None, \"--data-folder\": \"https://coursematerial.blob.core.windows.net/ucsd-ad/\"}\n",
    "                )\n",
    "                \n",
    "experiment_name = \"prednet_train\"\n",
    "\n",
    "exp = Experiment(ws, experiment_name)\n",
    "\n",
    "run = exp.submit(est)\n",
    "\n",
    "run.wait_for_completion(show_output=True)"
   ]
  }
 ],
 "metadata": {
  "kernelspec": {
   "display_name": "Python [conda env:myenv]",
   "language": "python",
   "name": "conda-env-myenv-py"
  },
  "language_info": {
   "codemirror_mode": {
    "name": "ipython",
    "version": 3
   },
   "file_extension": ".py",
   "mimetype": "text/x-python",
   "name": "python",
   "nbconvert_exporter": "python",
   "pygments_lexer": "ipython3",
   "version": "3.6.6"
  }
 },
 "nbformat": 4,
 "nbformat_minor": 2
}
