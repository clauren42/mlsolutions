{
 "cells": [
  {
   "cell_type": "code",
   "execution_count": 95,
   "metadata": {},
   "outputs": [],
   "source": [
    "import sys\n",
    "from azureml.core import Workspace, Experiment\n",
    "from azureml.train.estimator import Estimator\n",
    "from azureml.widgets import RunDetails\n",
    "from azureml.core.runconfig import DataReferenceConfiguration"
   ]
  },
  {
   "cell_type": "code",
   "execution_count": null,
   "metadata": {
    "scrolled": false
   },
   "outputs": [],
   "source": [
    "!{sys.executable[:-6]}/pip install --upgrade azureml-sdk[notebooks,contrib]"
   ]
  },
  {
   "cell_type": "code",
   "execution_count": 103,
   "metadata": {},
   "outputs": [],
   "source": [
    "import sys\n",
    "!conda env export --no-builds --prefix {sys.executable[:-10]} > environment.yml"
   ]
  },
  {
   "cell_type": "code",
   "execution_count": 104,
   "metadata": {},
   "outputs": [
    {
     "name": "stdout",
     "output_type": "stream",
     "text": [
      "name: null\r\n",
      "channels:\r\n",
      "  - pytorch\r\n",
      "  - conda-forge\r\n",
      "  - defaults\r\n",
      "dependencies:\r\n",
      "  - appnope=0.1.0\r\n",
      "  - attrs=18.2.0\r\n",
      "  - backcall=0.1.0\r\n",
      "  - bleach=3.1.0\r\n",
      "  - ca-certificates=2018.11.29\r\n",
      "  - certifi=2018.11.29\r\n",
      "  - cffi=1.11.5\r\n",
      "  - decorator=4.3.2\r\n",
      "  - entrypoints=0.3\r\n",
      "  - freetype=2.9.1\r\n",
      "  - ipykernel=5.1.0\r\n",
      "  - ipython=7.2.0\r\n",
      "  - ipython_genutils=0.2.0\r\n",
      "  - ipywidgets=7.4.2\r\n",
      "  - jedi=0.13.2\r\n",
      "  - jinja2=2.10\r\n",
      "  - jpeg=9c\r\n",
      "  - jsonschema=3.0.0a3\r\n",
      "  - jupyter_client=5.2.4\r\n",
      "  - jupyter_core=4.4.0\r\n",
      "  - jupyterlab=0.35.4\r\n",
      "  - jupyterlab_server=0.2.0\r\n",
      "  - libcxx=7.0.0\r\n",
      "  - libffi=3.2.1\r\n",
      "  - libpng=1.6.36\r\n",
      "  - libsodium=1.0.16\r\n",
      "  - libtiff=4.0.10\r\n",
      "  - llvm-meta=7.0.0\r\n",
      "  - markupsafe=1.1.0\r\n",
      "  - mistune=0.8.4\r\n",
      "  - mkl_fft=1.0.10\r\n",
      "  - mkl_random=1.0.2\r\n",
      "  - nb_conda=2.2.1\r\n",
      "  - nb_conda_kernels=2.2.0\r\n",
      "  - nbconvert=5.3.1\r\n",
      "  - nbformat=4.4.0\r\n",
      "  - ncurses=6.1\r\n",
      "  - ninja=1.8.2\r\n",
      "  - notebook=5.7.4\r\n",
      "  - olefile=0.46\r\n",
      "  - openssl=1.1.1a\r\n",
      "  - pandoc=2.5\r\n",
      "  - pandocfilters=1.4.2\r\n",
      "  - parso=0.3.2\r\n",
      "  - pexpect=4.6.0\r\n",
      "  - pickleshare=0.7.5\r\n",
      "  - pillow=5.4.1\r\n",
      "  - pip=18.1\r\n",
      "  - prometheus_client=0.5.0\r\n",
      "  - prompt_toolkit=2.0.7\r\n",
      "  - ptyprocess=0.6.0\r\n",
      "  - pycparser=2.19\r\n",
      "  - pygments=2.3.1\r\n",
      "  - pyrsistent=0.14.9\r\n",
      "  - python-dateutil=2.7.5\r\n",
      "  - pyzmq=17.1.2\r\n",
      "  - readline=7.0\r\n",
      "  - send2trash=1.5.0\r\n",
      "  - setuptools=40.6.3\r\n",
      "  - six=1.12.0\r\n",
      "  - sqlite=3.26.0\r\n",
      "  - terminado=0.8.1\r\n",
      "  - testpath=0.4.2\r\n",
      "  - tk=8.6.9\r\n",
      "  - tornado=5.1.1\r\n",
      "  - traitlets=4.3.2\r\n",
      "  - wcwidth=0.1.7\r\n",
      "  - webencodings=0.5.1\r\n",
      "  - wheel=0.32.3\r\n",
      "  - widgetsnbextension=3.4.2\r\n",
      "  - xz=5.2.4\r\n",
      "  - zeromq=4.2.5\r\n",
      "  - zlib=1.2.11\r\n",
      "  - zstd=1.3.3\r\n",
      "  - blas=1.0\r\n",
      "  - intel-openmp=2019.1\r\n",
      "  - libgfortran=3.0.1\r\n",
      "  - mkl=2019.1\r\n",
      "  - numpy=1.15.4\r\n",
      "  - numpy-base=1.15.4\r\n",
      "  - python=3.6.8\r\n",
      "  - pytorch=1.0.0\r\n",
      "  - torchvision=0.2.1\r\n",
      "  - pip:\r\n",
      "    - absl-py==0.7.0\r\n",
      "    - adal==1.2.1\r\n",
      "    - ansiwrap==0.8.4\r\n",
      "    - antlr4-python3-runtime==4.7.2\r\n",
      "    - applicationinsights==0.11.7\r\n",
      "    - argcomplete==1.9.4\r\n",
      "    - asn1crypto==0.24.0\r\n",
      "    - astor==0.7.1\r\n",
      "    - atomicwrites==1.3.0\r\n",
      "    - azure-batch==6.0.0\r\n",
      "    - azure-cli==2.0.61\r\n",
      "    - azure-cli-acr==2.2.3\r\n",
      "    - azure-cli-acs==2.3.20\r\n",
      "    - azure-cli-advisor==2.0.0\r\n",
      "    - azure-cli-ams==0.4.3\r\n",
      "    - azure-cli-appservice==0.2.16\r\n",
      "    - azure-cli-backup==1.2.2\r\n",
      "    - azure-cli-batch==4.0.0\r\n",
      "    - azure-cli-batchai==0.4.8\r\n",
      "    - azure-cli-billing==0.2.1\r\n",
      "    - azure-cli-botservice==0.1.9\r\n",
      "    - azure-cli-cdn==0.2.1\r\n",
      "    - azure-cli-cloud==2.1.1\r\n",
      "    - azure-cli-cognitiveservices==0.2.5\r\n",
      "    - azure-cli-command-modules-nspkg==2.0.2\r\n",
      "    - azure-cli-configure==2.0.20\r\n",
      "    - azure-cli-consumption==0.4.2\r\n",
      "    - azure-cli-container==0.3.15\r\n",
      "    - azure-cli-core==2.0.55\r\n",
      "    - azure-cli-cosmosdb==0.2.9\r\n",
      "    - azure-cli-dla==0.2.5\r\n",
      "    - azure-cli-dls==0.1.8\r\n",
      "    - azure-cli-dms==0.1.3\r\n",
      "    - azure-cli-eventgrid==0.2.2\r\n",
      "    - azure-cli-eventhubs==0.3.4\r\n",
      "    - azure-cli-extension==0.2.4\r\n",
      "    - azure-cli-feedback==2.1.4\r\n",
      "    - azure-cli-find==0.3.1\r\n",
      "    - azure-cli-hdinsight==0.3.2\r\n",
      "    - azure-cli-interactive==0.4.2\r\n",
      "    - azure-cli-iot==0.3.7\r\n",
      "    - azure-cli-iotcentral==0.1.6\r\n",
      "    - azure-cli-keyvault==2.2.13\r\n",
      "    - azure-cli-kusto==0.2.1\r\n",
      "    - azure-cli-lab==0.1.6\r\n",
      "    - azure-cli-maps==0.3.4\r\n",
      "    - azure-cli-monitor==0.2.11\r\n",
      "    - azure-cli-network==2.3.5\r\n",
      "    - azure-cli-nspkg==3.0.3\r\n",
      "    - azure-cli-policyinsights==0.1.2\r\n",
      "    - azure-cli-profile==2.1.2\r\n",
      "    - azure-cli-rdbms==0.3.9\r\n",
      "    - azure-cli-redis==0.4.2\r\n",
      "    - azure-cli-relay==0.1.4\r\n",
      "    - azure-cli-reservations==0.4.2\r\n",
      "    - azure-cli-resource==2.1.12\r\n",
      "    - azure-cli-role==2.4.3\r\n",
      "    - azure-cli-search==0.1.1\r\n",
      "    - azure-cli-security==0.1.1\r\n",
      "    - azure-cli-servicebus==0.3.4\r\n",
      "    - azure-cli-servicefabric==0.1.15\r\n",
      "    - azure-cli-signalr==1.0.0\r\n",
      "    - azure-cli-sql==2.2.0\r\n",
      "    - azure-cli-sqlvm==0.1.1\r\n",
      "    - azure-cli-storage==2.3.2\r\n",
      "    - azure-cli-telemetry==1.0.0\r\n",
      "    - azure-cli-vm==2.2.17\r\n",
      "    - azure-common==1.1.17\r\n",
      "    - azure-datalake-store==0.0.39\r\n",
      "    - azure-functions-devops-build==0.0.11\r\n",
      "    - azure-graphrbac==0.60.0\r\n",
      "    - azure-keyvault==1.1.0\r\n",
      "    - azure-mgmt-advisor==2.0.1\r\n",
      "    - azure-mgmt-applicationinsights==0.1.1\r\n",
      "    - azure-mgmt-authorization==0.50.0\r\n",
      "    - azure-mgmt-batch==6.0.0\r\n",
      "    - azure-mgmt-batchai==2.0.0\r\n",
      "    - azure-mgmt-billing==0.2.0\r\n",
      "    - azure-mgmt-botservice==0.1.0\r\n",
      "    - azure-mgmt-cdn==3.0.0\r\n",
      "    - azure-mgmt-cognitiveservices==3.0.0\r\n",
      "    - azure-mgmt-compute==4.4.0\r\n",
      "    - azure-mgmt-consumption==2.0.0\r\n",
      "    - azure-mgmt-containerinstance==1.4.0\r\n",
      "    - azure-mgmt-containerregistry==2.7.0\r\n",
      "    - azure-mgmt-containerservice==4.4.0\r\n",
      "    - azure-mgmt-cosmosdb==0.5.2\r\n",
      "    - azure-mgmt-datalake-analytics==0.2.1\r\n",
      "    - azure-mgmt-datalake-nspkg==3.0.1\r\n",
      "    - azure-mgmt-datalake-store==0.5.0\r\n",
      "    - azure-mgmt-datamigration==0.1.0\r\n",
      "    - azure-mgmt-devtestlabs==2.2.0\r\n",
      "    - azure-mgmt-dns==2.1.0\r\n",
      "    - azure-mgmt-eventgrid==2.0.0\r\n",
      "    - azure-mgmt-eventhub==2.3.0\r\n",
      "    - azure-mgmt-hdinsight==0.2.1\r\n",
      "    - azure-mgmt-iotcentral==1.0.0\r\n",
      "    - azure-mgmt-iothub==0.7.0\r\n",
      "    - azure-mgmt-iothubprovisioningservices==0.2.0\r\n",
      "    - azure-mgmt-keyvault==1.1.0\r\n",
      "    - azure-mgmt-kusto==0.2.0\r\n",
      "    - azure-mgmt-loganalytics==0.2.0\r\n",
      "    - azure-mgmt-managementgroups==0.1.0\r\n",
      "    - azure-mgmt-maps==0.1.0\r\n",
      "    - azure-mgmt-marketplaceordering==0.1.0\r\n",
      "    - azure-mgmt-media==1.0.1\r\n",
      "    - azure-mgmt-monitor==0.5.2\r\n",
      "    - azure-mgmt-msi==0.2.0\r\n",
      "    - azure-mgmt-network==2.6.0rc1\r\n",
      "    - azure-mgmt-nspkg==3.0.2\r\n",
      "    - azure-mgmt-policyinsights==0.2.0\r\n",
      "    - azure-mgmt-rdbms==1.7.1\r\n",
      "    - azure-mgmt-recoveryservices==0.1.1\r\n",
      "    - azure-mgmt-recoveryservicesbackup==0.1.2\r\n",
      "    - azure-mgmt-redis==6.0.0\r\n",
      "    - azure-mgmt-relay==0.1.0\r\n",
      "    - azure-mgmt-reservations==0.3.1\r\n",
      "    - azure-mgmt-resource==2.0.0\r\n",
      "    - azure-mgmt-search==2.0.0\r\n",
      "    - azure-mgmt-security==0.1.0\r\n",
      "    - azure-mgmt-servicebus==0.5.3\r\n",
      "    - azure-mgmt-servicefabric==0.2.0\r\n",
      "    - azure-mgmt-signalr==0.1.1\r\n",
      "    - azure-mgmt-sql==0.11.0\r\n",
      "    - azure-mgmt-sqlvirtualmachine==0.2.0\r\n",
      "    - azure-mgmt-storage==3.1.1\r\n",
      "    - azure-mgmt-trafficmanager==0.51.0\r\n",
      "    - azure-mgmt-web==0.40.0\r\n",
      "    - azure-multiapi-storage==0.2.2\r\n",
      "    - azure-nspkg==3.0.2\r\n",
      "    - azure-storage-blob==1.3.1\r\n",
      "    - azure-storage-common==1.4.0\r\n",
      "    - azure-storage-nspkg==3.1.0\r\n",
      "    - azureml-contrib-brainwave==1.0.23\r\n",
      "    - azureml-contrib-explain-model==1.0.23\r\n",
      "    - azureml-contrib-notebook==1.0.23\r\n",
      "    - azureml-contrib-server==1.0.23\r\n",
      "    - azureml-contrib-services==1.0.23\r\n",
      "    - azureml-contrib-tensorboard==1.0.15\r\n",
      "    - azureml-core==1.0.23\r\n",
      "    - azureml-dataprep==1.0.12\r\n",
      "    - azureml-dataprep-native==11.2.1\r\n",
      "    - azureml-explain-model==1.0.23\r\n",
      "    - azureml-pipeline==1.0.23\r\n",
      "    - azureml-pipeline-core==1.0.23\r\n",
      "    - azureml-pipeline-steps==1.0.23\r\n",
      "    - azureml-sdk==1.0.23\r\n",
      "    - azureml-telemetry==1.0.23\r\n",
      "    - azureml-tensorboard==1.0.23\r\n",
      "    - azureml-train==1.0.23\r\n",
      "    - azureml-train-automl==1.0.15\r\n",
      "    - azureml-train-core==1.0.23\r\n",
      "    - azureml-train-restclients-hyperdrive==1.0.23\r\n",
      "    - azureml-widgets==1.0.23\r\n",
      "    - backports.tempfile==1.0\r\n",
      "    - backports.weakref==1.0.post1\r\n",
      "    - bcrypt==3.1.6\r\n",
      "    - boto3==1.9.130\r\n",
      "    - botocore==1.12.130\r\n",
      "    - chardet==3.0.4\r\n",
      "    - click==7.0\r\n",
      "    - cloudpickle==0.6.1\r\n",
      "    - colorama==0.4.1\r\n",
      "    - configparser==3.7.4\r\n",
      "    - contextlib2==0.5.5\r\n",
      "    - cryptography==2.4.2\r\n",
      "    - cycler==0.10.0\r\n",
      "    - dask==1.1.0\r\n",
      "    - databricks-cli==0.8.6\r\n",
      "    - defusedxml==0.5.0\r\n",
      "    - dill==0.2.9\r\n",
      "    - distro==1.4.0\r\n",
      "    - docker==3.7.0\r\n",
      "    - docker-pycreds==0.4.0\r\n",
      "    - docutils==0.14\r\n",
      "    - dotnetcore2==2.1.7\r\n",
      "    - fabric==2.4.0\r\n",
      "    - flask==1.0.2\r\n",
      "    - future==0.17.1\r\n",
      "    - futures==3.1.1\r\n",
      "    - gast==0.2.2\r\n",
      "    - gitdb2==2.0.5\r\n",
      "    - gitpython==2.1.11\r\n",
      "    - gputil==1.4.0\r\n",
      "    - grpcio==1.18.0\r\n",
      "    - gunicorn==19.9.0\r\n",
      "    - h5py==2.9.0\r\n",
      "    - humanfriendly==4.17\r\n",
      "    - idna==2.8\r\n",
      "    - invoke==1.2.0\r\n",
      "    - isodate==0.6.0\r\n",
      "    - itsdangerous==1.1.0\r\n",
      "    - jmespath==0.9.3\r\n",
      "    - jsonform==0.0.2\r\n",
      "    - jsonpickle==1.1\r\n",
      "    - jsonsir==0.0.2\r\n",
      "    - jupyter-console==6.0.0\r\n",
      "    - jupyter-contrib-core==0.3.3\r\n",
      "    - jupyter-contrib-nbextensions==0.5.1\r\n",
      "    - jupyter-highlight-selected-word==0.2.0\r\n",
      "    - jupyter-latex-envs==1.4.6\r\n",
      "    - jupyter-nbextensions-configurator==0.4.1\r\n",
      "    - jupyter-tensorboard==0.1.9\r\n",
      "    - keras==2.1.5\r\n",
      "    - keras-applications==1.0.6\r\n",
      "    - keras-preprocessing==1.0.5\r\n",
      "    - kiwisolver==1.0.1\r\n",
      "    - knack==0.5.1\r\n",
      "    - lightgbm==2.2.1\r\n",
      "    - lxml==4.3.3\r\n",
      "    - markdown==3.0.1\r\n",
      "    - matplotlib==3.0.2\r\n",
      "    - mleap==0.8.1\r\n",
      "    - mlflow==0.9.0.1\r\n",
      "    - mock==2.0.0\r\n",
      "    - more-itertools==6.0.0\r\n",
      "    - msrest==0.6.4\r\n",
      "    - msrestazure==0.6.0\r\n",
      "    - ndg-httpsclient==0.5.1\r\n",
      "    - networkx==2.2\r\n",
      "    - nose==1.3.7\r\n",
      "    - nose-exclude==0.5.0\r\n",
      "    - oauthlib==3.0.1\r\n",
      "    - pandas==0.24.1\r\n",
      "    - papermill==0.18.1\r\n",
      "    - paramiko==2.4.2\r\n",
      "    - pathspec==0.5.9\r\n",
      "    - patsy==0.5.1\r\n",
      "    - pbr==5.1.3\r\n",
      "    - pluggy==0.8.1\r\n",
      "    - portalocker==1.2.1\r\n",
      "    - protobuf==3.6.1\r\n",
      "    - py==1.7.0\r\n",
      "    - pyasn1==0.4.5\r\n",
      "    - pydocumentdb==2.3.3\r\n",
      "    - pyjwt==1.7.1\r\n",
      "    - pynacl==1.3.0\r\n",
      "    - pyopenssl==19.0.0\r\n",
      "    - pyparsing==2.3.1\r\n",
      "    - pytest==4.3.0\r\n",
      "    - python-easyconfig==0.1.7\r\n",
      "    - pytz==2018.9\r\n",
      "    - pywavelets==1.0.1\r\n",
      "    - pyyaml==4.2b4\r\n",
      "    - querystring-parser==1.2.3\r\n",
      "    - requests==2.21.0\r\n",
      "    - requests-oauthlib==1.2.0\r\n",
      "    - resource==0.2.1\r\n",
      "    - retry==0.9.2\r\n",
      "    - ruamel.yaml==0.15.51\r\n",
      "    - s3transfer==0.2.0\r\n",
      "    - scikit-image==0.14.2\r\n",
      "    - scikit-learn==0.20.3\r\n",
      "    - scipy==1.1.0\r\n",
      "    - scp==0.13.2\r\n",
      "    - secretstorage==2.3.1\r\n",
      "    - shap==0.28.5\r\n",
      "    - simplejson==3.16.0\r\n",
      "    - sklearn==0.0\r\n",
      "    - sklearn-pandas==1.7.0\r\n",
      "    - smmap2==2.0.5\r\n",
      "    - sqlparse==0.3.0\r\n",
      "    - sshtunnel==0.1.4\r\n",
      "    - statsmodels==0.9.0\r\n",
      "    - tabulate==0.8.2\r\n",
      "    - tensorboard==1.12.2\r\n",
      "    - tensorboardx==1.6\r\n",
      "    - tensorflow==1.12.0\r\n",
      "    - termcolor==1.1.0\r\n",
      "    - textwrap3==0.9.2\r\n",
      "    - toolz==0.9.0\r\n",
      "    - torch==1.0.0\r\n",
      "    - tqdm==4.31.1\r\n",
      "    - urllib3==1.23\r\n",
      "    - vsts==0.1.25\r\n",
      "    - vsts-cd-manager==1.0.2\r\n",
      "    - websocket-client==0.54.0\r\n",
      "    - werkzeug==0.14.1\r\n",
      "    - xmltodict==0.12.0\r\n",
      "prefix: /Users/danielsc/miniconda3/envs/azureml\r\n",
      "\r\n"
     ]
    }
   ],
   "source": [
    "cat environment.yml"
   ]
  },
  {
   "cell_type": "code",
   "execution_count": null,
   "metadata": {},
   "outputs": [],
   "source": [
    "ws = Workspace.from_config()"
   ]
  },
  {
   "cell_type": "code",
   "execution_count": null,
   "metadata": {},
   "outputs": [],
   "source": [
    "ds = ws.get_default_datastore()"
   ]
  },
  {
   "cell_type": "code",
   "execution_count": null,
   "metadata": {},
   "outputs": [],
   "source": [
    "data = ds.upload('data', 'forecasting/data')"
   ]
  },
  {
   "cell_type": "code",
   "execution_count": null,
   "metadata": {},
   "outputs": [],
   "source": [
    "experiment = Experiment(ws,\"forecasting\")"
   ]
  },
  {
   "cell_type": "code",
   "execution_count": null,
   "metadata": {},
   "outputs": [],
   "source": []
  },
  {
   "cell_type": "code",
   "execution_count": null,
   "metadata": {
    "scrolled": true
   },
   "outputs": [],
   "source": [
    "cluster = ws.compute_targets['newcluster']\n",
    "cluster.get_status().serialize()"
   ]
  },
  {
   "cell_type": "code",
   "execution_count": null,
   "metadata": {},
   "outputs": [],
   "source": [
    "from azureml.core.runconfig import RunConfiguration\n",
    "from azureml.core.conda_dependencies import CondaDependencies\n",
    "#from azureml.core.runconfig import DEFAULT_CPU_IMAGE\n",
    "#from azureml.core.script_run_config import ScriptRunConfig\n",
    "\n",
    "run_config = RunConfiguration()\n",
    "#run_config.environment.docker.enabled = True\n",
    "#run_config.environment.docker.base_image = DEFAULT_CPU_IMAGE\n",
    "#run_config.environment.python.user_managed_dependencies = False\n",
    "#run_config.auto_prepare_environment = True\n",
    "run_config.environment.python.conda_dependencies = CondaDependencies(conda_dependencies_file_path='environment.yml')\n",
    "\n",
    "#script_run_config = ScriptRunConfig(source_directory='../../',\\n\",\n",
    "#                                    script='scripts/notebook_launcher.py',\\n\",\n",
    "#                                    arguments=['--notebook_path', 'notebooks/00_quick_start/fastai_movielens.ipynb', 'MOVIELENS_DATA_SIZE', '100k'],\\n\",\n",
    "#                                    run_config=run_config)\\n\",\n",
    "\n",
    "est = Estimator(source_directory='.', \n",
    "                compute_target=cluster, \n",
    "                entry_script='1_time_series_arima.ipynb',\n",
    "                pip_packages=['numpy', 'pandas', 'sklearn'])\n",
    "\n",
    "run = experiment.submit(est)\n",
    "run\n"
   ]
  },
  {
   "cell_type": "code",
   "execution_count": 55,
   "metadata": {},
   "outputs": [
    {
     "data": {
      "application/vnd.jupyter.widget-view+json": {
       "model_id": "ca49dc644c984b4dbf731d504a291e85",
       "version_major": 2,
       "version_minor": 0
      },
      "text/plain": [
       "_UserRunWidget(widget_settings={'childWidgetDisplay': 'popup', 'send_telemetry': True, 'log_level': 'INFO', 's…"
      ]
     },
     "metadata": {},
     "output_type": "display_data"
    }
   ],
   "source": [
    "RunDetails(run).show()"
   ]
  },
  {
   "cell_type": "code",
   "execution_count": 59,
   "metadata": {},
   "outputs": [],
   "source": [
    "from azureml.contrib.notebook.notebook_run_config import NotebookRunConfig"
   ]
  },
  {
   "cell_type": "code",
   "execution_count": 107,
   "metadata": {},
   "outputs": [],
   "source": [
    "from azureml.core.runconfig import RunConfiguration\n",
    "from azureml.core.conda_dependencies import CondaDependencies\n",
    "from azureml.core.runconfig import DEFAULT_CPU_IMAGE\n",
    "\n",
    "# Create a new runconfig object\n",
    "rc = RunConfiguration()\n",
    "\n",
    "# Use the cpu_cluster you created above. \n",
    "rc.target = cluster\n",
    "\n",
    "# Enable Docker\n",
    "rc.environment.docker.enabled = True\n",
    "\n",
    "# Set Docker base image to the default CPU-based image\n",
    "rc.environment.docker.base_image = DEFAULT_CPU_IMAGE\n",
    "\n",
    "# Use conda_dependencies.yml to create a conda environment in the Docker image for execution\n",
    "rc.environment.python.user_managed_dependencies = False\n",
    "\n",
    "# Auto-prepare the Docker image when used for execution (if it is not already prepared)\n",
    "rc.auto_prepare_environment = True\n",
    "\n",
    "# Specify CondaDependencies obj, add necessary packages\n",
    "rc.environment.python.conda_dependencies = \\\n",
    "    CondaDependencies.create(conda_packages=['scikit-learn','numpy','pandas', 'matplotlib'], pip_packages=['statsmodels'])\n",
    "\n",
    "#rc.environment.python.conda_dependencies = CondaDependencies(conda_dependencies_file_path='environment.yml')\n",
    "\n",
    "rc.data_references = {'data':DataReferenceConfiguration(datastore_name='workspaceblobstore', path_on_datastore=data.path_on_datastore)}"
   ]
  },
  {
   "cell_type": "code",
   "execution_count": 110,
   "metadata": {},
   "outputs": [],
   "source": [
    "nbrc = NotebookRunConfig(source_directory='.', parameters=['data_path','$AZ_DATASTORE_data'], notebook='1_time_series_arima.ipynb', run_config=rc)"
   ]
  },
  {
   "cell_type": "code",
   "execution_count": 111,
   "metadata": {},
   "outputs": [
    {
     "data": {
      "text/html": [
       "<table style=\"width:100%\"><tr><th>Experiment</th><th>Id</th><th>Type</th><th>Status</th><th>Details Page</th><th>Docs Page</th></tr><tr><td>forecasting</td><td>forecasting_1555820850_0c061cf1</td><td>azureml.scriptrun</td><td>Running</td><td><a href=\"https://mlworkspace.azure.ai/portal/subscriptions/4feb84f6-2c10-4536-9c8a-0a2360eabfc5/resourceGroups/azureml/providers/Microsoft.MachineLearningServices/workspaces/DanielSc/experiments/forecasting/runs/forecasting_1555820850_0c061cf1\" target=\"_blank\" rel=\"noopener\">Link to Azure Portal</a></td><td><a href=\"https://docs.microsoft.com/en-us/python/api/azureml-core/azureml.core.script_run.ScriptRun?view=azure-ml-py\" target=\"_blank\" rel=\"noopener\">Link to Documentation</a></td></tr></table>"
      ],
      "text/plain": [
       "Run(Experiment: forecasting,\n",
       "Id: forecasting_1555820850_0c061cf1,\n",
       "Type: azureml.scriptrun,\n",
       "Status: Running)"
      ]
     },
     "execution_count": 111,
     "metadata": {},
     "output_type": "execute_result"
    }
   ],
   "source": [
    "run = experiment.submit(nbrc)\n",
    "run"
   ]
  },
  {
   "cell_type": "code",
   "execution_count": 102,
   "metadata": {},
   "outputs": [
    {
     "data": {
      "application/vnd.jupyter.widget-view+json": {
       "model_id": "a7ee91878902469a8be956ba39f4ac84",
       "version_major": 2,
       "version_minor": 0
      },
      "text/plain": [
       "_UserRunWidget(widget_settings={'childWidgetDisplay': 'popup', 'send_telemetry': True, 'log_level': 'INFO', 's…"
      ]
     },
     "metadata": {},
     "output_type": "display_data"
    }
   ],
   "source": [
    "RunDetails(run).show()"
   ]
  },
  {
   "cell_type": "raw",
   "metadata": {},
   "source": [
    "run.get_details()"
   ]
  },
  {
   "cell_type": "code",
   "execution_count": 82,
   "metadata": {},
   "outputs": [
    {
     "name": "stdout",
     "output_type": "stream",
     "text": [
      "# Conda environment specification. The dependencies defined in this file will\r\n",
      "# be automatically provisioned for runs with userManagedDependencies=False.\r\n",
      "\n",
      "# Details about the Conda environment file format:\r\n",
      "# https://conda.io/docs/user-guide/tasks/manage-environments.html#create-env-file-manually\r\n",
      "\n",
      "name: project_environment\n",
      "dependencies:\n",
      "  # The python interpreter version.\r\n",
      "  # Currently Azure ML only supports 3.5.2 and later.\r\n",
      "- python=3.6.2\n",
      "\n",
      "- pip:\n",
      "  - azureml-defaults==1.0.23.*\n",
      "  - papermill<1.0\n",
      "  - ipykernel\n",
      "- sklearn\n",
      "- numpy\n",
      "- pandas\n",
      "- matplotlib\n",
      "\n"
     ]
    }
   ],
   "source": [
    "print(rc.environment.python.conda_dependencies.serialize_to_string())"
   ]
  },
  {
   "cell_type": "code",
   "execution_count": 98,
   "metadata": {},
   "outputs": [
    {
     "data": {
      "text/plain": [
       "'workspaceblobstore'"
      ]
     },
     "execution_count": 98,
     "metadata": {},
     "output_type": "execute_result"
    }
   ],
   "source": [
    "ws.get_default_datastore().name"
   ]
  },
  {
   "cell_type": "code",
   "execution_count": 122,
   "metadata": {},
   "outputs": [],
   "source": [
    "\n",
    "from azureml.core.compute import ComputeTarget, AmlCompute\n",
    "from azureml.core.compute_target import ComputeTargetException"
   ]
  },
  {
   "cell_type": "code",
   "execution_count": 119,
   "metadata": {},
   "outputs": [],
   "source": [
    "??AmlComputeConfiguration"
   ]
  },
  {
   "cell_type": "code",
   "execution_count": 121,
   "metadata": {},
   "outputs": [],
   "source": [
    "from azureml.core import ComputeTarget"
   ]
  },
  {
   "cell_type": "code",
   "execution_count": 123,
   "metadata": {},
   "outputs": [],
   "source": [
    "foo = AmlCompute.provisioning_configuration(vm_size=\"STANDARD_D2_V2\",\n",
    "                                                           min_nodes=0,\n",
    "                                                           max_nodes=4)"
   ]
  },
  {
   "cell_type": "code",
   "execution_count": 124,
   "metadata": {},
   "outputs": [
    {
     "data": {
      "text/plain": [
       "azureml.core.compute.amlcompute.AmlComputeProvisioningConfiguration"
      ]
     },
     "execution_count": 124,
     "metadata": {},
     "output_type": "execute_result"
    }
   ],
   "source": [
    "foo.__class__"
   ]
  },
  {
   "cell_type": "code",
   "execution_count": null,
   "metadata": {},
   "outputs": [],
   "source": []
  }
 ],
 "metadata": {
  "kernelspec": {
   "display_name": "Python (azureml)",
   "language": "python",
   "name": "azureml"
  },
  "language_info": {
   "codemirror_mode": {
    "name": "ipython",
    "version": 3
   },
   "file_extension": ".py",
   "mimetype": "text/x-python",
   "name": "python",
   "nbconvert_exporter": "python",
   "pygments_lexer": "ipython3",
   "version": "3.6.8"
  }
 },
 "nbformat": 4,
 "nbformat_minor": 2
}
