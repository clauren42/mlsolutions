{
  "cells": [
    {
      "metadata": {},
      "cell_type": "markdown",
      "source": "# ARIMA Model for Forecasting\n\nA popular statistical method for time series forecasting is the ARIMA model. ARIMA is an acronym that stands for AutoRegressive Integrated Moving Average. It is a class of model that captures a suite of different standard temporal structures in time series data. In this notebook, you will discover how to develop an ARIMA model for time series data with Python.\n\nWe will use the Shampoo Sales dataset as an example. This dataset describes the monthly number of sales of shampoo over a 3 year period. The units are a sales count and there are 36 observations. The original dataset is credited to Makridakis, Wheelwright and Hyndman (1998)."
    },
    {
      "metadata": {
        "trusted": true
      },
      "cell_type": "code",
      "source": "data_path = './data/shampoo-sales.csv'",
      "execution_count": null,
      "outputs": []
    },
    {
      "metadata": {
        "trusted": true
      },
      "cell_type": "code",
      "source": "# load and plot dataset\nfrom pandas import read_csv\nfrom pandas import datetime\nfrom matplotlib import pyplot\n\n# load dataset\ndef parser(x):\n    return datetime.strptime('190'+x, '%Y-%m')\nseries = read_csv(data_path, header=0, index_col=0, parse_dates=True, squeeze=True, date_parser=parser)\n\n# summarize first few rows\nprint(series.head())",
      "execution_count": null,
      "outputs": []
    },
    {
      "metadata": {
        "trusted": true
      },
      "cell_type": "code",
      "source": "# line plot\nseries.plot()\npyplot.show()",
      "execution_count": null,
      "outputs": []
    },
    {
      "metadata": {
        "trusted": true
      },
      "cell_type": "code",
      "source": "# autocorrelation plot of time series\nfrom pandas import read_csv\nfrom pandas import datetime\nfrom matplotlib import pyplot\nfrom pandas.plotting import autocorrelation_plot\n\n# load dataset\ndef parser(x):\n    return datetime.strptime('190'+x, '%Y-%m')\nseries = read_csv(data_path, header=0, index_col=0, parse_dates=True, squeeze=True, date_parser=parser)",
      "execution_count": null,
      "outputs": []
    },
    {
      "metadata": {
        "trusted": true
      },
      "cell_type": "code",
      "source": "# autocorrelation plot\nautocorrelation_plot(series)\npyplot.show()",
      "execution_count": null,
      "outputs": []
    },
    {
      "metadata": {
        "trusted": true
      },
      "cell_type": "code",
      "source": "# fit an ARIMA model and plot residual errors\nfrom pandas import read_csv\nfrom pandas import datetime\nfrom pandas import DataFrame\nfrom statsmodels.tsa.arima_model import ARIMA\nfrom matplotlib import pyplot\n\n# load dataset\ndef parser(x):\n    return datetime.strptime('190'+x, '%Y-%m')\nseries = read_csv(data_path, header=0, index_col=0, parse_dates=True, squeeze=True, date_parser=parser)\n\n# fit model\nmodel = ARIMA(series, order=(5,1,0))\nmodel_fit = model.fit(disp=0)\n\n# summary of fit model\nprint(model_fit.summary())",
      "execution_count": null,
      "outputs": []
    },
    {
      "metadata": {
        "trusted": true
      },
      "cell_type": "code",
      "source": "# line plot of residuals\nresiduals = DataFrame(model_fit.resid)\nresiduals.plot()\npyplot.show()",
      "execution_count": null,
      "outputs": []
    },
    {
      "metadata": {
        "trusted": true
      },
      "cell_type": "code",
      "source": "# density plot of residuals\nresiduals.plot(kind='kde')\npyplot.show()",
      "execution_count": null,
      "outputs": []
    },
    {
      "metadata": {
        "trusted": true
      },
      "cell_type": "code",
      "source": "# summary stats of residuals\nprint(residuals.describe())",
      "execution_count": null,
      "outputs": []
    },
    {
      "metadata": {
        "trusted": true
      },
      "cell_type": "code",
      "source": "# evaluate an ARIMA model using a walk-forward validation\nfrom pandas import read_csv\nfrom pandas import datetime\nfrom matplotlib import pyplot\nfrom statsmodels.tsa.arima_model import ARIMA\nfrom sklearn.metrics import mean_squared_error\nfrom math import sqrt\n# load dataset\ndef parser(x):\n    return datetime.strptime('190'+x, '%Y-%m')\nseries = read_csv(data_path, header=0, index_col=0, parse_dates=True, squeeze=True, date_parser=parser)\n\n# split into train and test sets\nX = series.values\nsize = int(len(X) * 0.66)\ntrain, test = X[0:size], X[size:len(X)]\nhistory = [x for x in train]\npredictions = list()\n\n# walk-forward validation\nfor t in range(len(test)):\n    model = ARIMA(history, order=(5,1,0))\n    model_fit = model.fit(disp=0)\n    output = model_fit.forecast()\n    yhat = output[0]\n    predictions.append(yhat)\n    obs = test[t]\n    history.append(obs)\n    print('predicted=%f, expected=%f' % (yhat, obs))\n\n# evaluate forecasts\nrmse = sqrt(mean_squared_error(test, predictions))\nprint('Test RMSE: %.3f' % rmse)",
      "execution_count": null,
      "outputs": []
    },
    {
      "metadata": {
        "trusted": true
      },
      "cell_type": "code",
      "source": "# plot forecasts against actual outcomes\npyplot.plot(test, label='Test')\npyplot.plot(predictions, color='red', label='Prediction')\npyplot.legend()\npyplot.show()",
      "execution_count": null,
      "outputs": []
    },
    {
      "metadata": {
        "trusted": true
      },
      "cell_type": "markdown",
      "source": "### References:\nThe website Data Market provides access to a large number of time series datasets. Specically, the Time Series Data Library (https://datamarket.com/data/list/?q=provider:tsdl) created by Rob Hyndman, Professor of Statistics at Monash University, Australia."
    }
  ],
  "metadata": {
    "kernelspec": {
      "name": "python36",
      "display_name": "Python 3.6",
      "language": "python"
    },
    "language_info": {
      "mimetype": "text/x-python",
      "nbconvert_exporter": "python",
      "name": "python",
      "pygments_lexer": "ipython3",
      "version": "3.6.6",
      "file_extension": ".py",
      "codemirror_mode": {
        "version": 3,
        "name": "ipython"
      }
    }
  },
  "nbformat": 4,
  "nbformat_minor": 2
}