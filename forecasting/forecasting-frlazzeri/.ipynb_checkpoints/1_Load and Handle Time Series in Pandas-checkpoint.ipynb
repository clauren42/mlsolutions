{
  "cells": [
    {
      "metadata": {
        "trusted": true
      },
      "cell_type": "markdown",
      "source": "# Load and Handle Time Series in Pandas\n\n## Daily Female Births Dataset\nThis dataset describes the number of daily female births in California in 1959. The units are a count and there are 365 observations. The source of the dataset is credited to Newton (1988).\n\nDownload the dataset and place it in your current working directory with the name daily-total-female-births.csv"
    },
    {
      "metadata": {
        "trusted": true
      },
      "cell_type": "code",
      "source": "# load dataset using read_csv()\nfrom pandas import read_csv\ndata_path = './data/daily-total-female-births.csv'\nseries = read_csv(data_path, header=0, index_col=0, parse_dates=True, squeeze=True)\nprint(type(series))\nprint(series.head())",
      "execution_count": 1,
      "outputs": [
        {
          "output_type": "stream",
          "text": "<class 'pandas.core.series.Series'>\nDate\n1959-01-01    35\n1959-01-02    32\n1959-01-03    30\n1959-01-04    31\n1959-01-05    44\nName: Births, dtype: int64\n",
          "name": "stdout"
        }
      ]
    },
    {
      "metadata": {
        "trusted": true
      },
      "cell_type": "code",
      "source": "# summarize first few lines of a file\nfrom pandas import read_csv\nseries = read_csv(data_path, header=0, index_col=0, parse_dates=True, squeeze=True)\nprint(series.head(10))",
      "execution_count": 2,
      "outputs": [
        {
          "output_type": "stream",
          "text": "Date\n1959-01-01    35\n1959-01-02    32\n1959-01-03    30\n1959-01-04    31\n1959-01-05    44\n1959-01-06    29\n1959-01-07    45\n1959-01-08    43\n1959-01-09    38\n1959-01-10    27\nName: Births, dtype: int64\n",
          "name": "stdout"
        }
      ]
    },
    {
      "metadata": {
        "trusted": true
      },
      "cell_type": "code",
      "source": "# summarize the dimensions of a time series\nfrom pandas import read_csv\nseries = read_csv(data_path, header=0, index_col=0, parse_dates=True,\nsqueeze=True)\nprint(series.size)",
      "execution_count": 5,
      "outputs": [
        {
          "output_type": "stream",
          "text": "365\n",
          "name": "stdout"
        }
      ]
    },
    {
      "metadata": {
        "trusted": true
      },
      "cell_type": "code",
      "source": "# query a dataset using a date-time index\nfrom pandas import read_csv\nseries = read_csv(data_path, header=0, index_col=0, parse_dates=True,\nsqueeze=True)\nprint(series['1959-01'])",
      "execution_count": 6,
      "outputs": [
        {
          "output_type": "stream",
          "text": "Date\n1959-01-01    35\n1959-01-02    32\n1959-01-03    30\n1959-01-04    31\n1959-01-05    44\n1959-01-06    29\n1959-01-07    45\n1959-01-08    43\n1959-01-09    38\n1959-01-10    27\n1959-01-11    38\n1959-01-12    33\n1959-01-13    55\n1959-01-14    47\n1959-01-15    45\n1959-01-16    37\n1959-01-17    50\n1959-01-18    43\n1959-01-19    41\n1959-01-20    52\n1959-01-21    34\n1959-01-22    53\n1959-01-23    39\n1959-01-24    32\n1959-01-25    37\n1959-01-26    43\n1959-01-27    39\n1959-01-28    35\n1959-01-29    44\n1959-01-30    38\n1959-01-31    24\nName: Births, dtype: int64\n",
          "name": "stdout"
        }
      ]
    },
    {
      "metadata": {
        "trusted": true
      },
      "cell_type": "code",
      "source": "# calculate descriptive statistics\nfrom pandas import read_csv\nseries = read_csv(data_path, header=0, index_col=0, parse_dates=True,\nsqueeze=True)\nprint(series.describe())",
      "execution_count": 7,
      "outputs": [
        {
          "output_type": "stream",
          "text": "count    365.000000\nmean      41.980822\nstd        7.348257\nmin       23.000000\n25%       37.000000\n50%       42.000000\n75%       46.000000\nmax       73.000000\nName: Births, dtype: float64\n",
          "name": "stdout"
        }
      ]
    },
    {
      "metadata": {
        "trusted": true
      },
      "cell_type": "markdown",
      "source": "### References:\nThe website Data Market provides access to a large number of time series datasets. Specically, the Time Series Data Library (https://datamarket.com/data/list/?q=provider:tsdl) created by Rob Hyndman, Professor of Statistics at Monash University, Australia."
    }
  ],
  "metadata": {
    "kernelspec": {
      "name": "python36",
      "display_name": "Python 3.6",
      "language": "python"
    },
    "language_info": {
      "mimetype": "text/x-python",
      "nbconvert_exporter": "python",
      "name": "python",
      "pygments_lexer": "ipython3",
      "version": "3.6.6",
      "file_extension": ".py",
      "codemirror_mode": {
        "version": 3,
        "name": "ipython"
      }
    }
  },
  "nbformat": 4,
  "nbformat_minor": 2
}