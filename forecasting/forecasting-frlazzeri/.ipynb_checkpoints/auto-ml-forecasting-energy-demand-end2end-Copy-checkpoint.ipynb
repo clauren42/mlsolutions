{
  "cells": [
    {
      "metadata": {},
      "cell_type": "markdown",
      "source": "Copyright (c) Microsoft Corporation. All rights reserved.\n\nLicensed under the MIT License."
    },
    {
      "metadata": {},
      "cell_type": "markdown",
      "source": "# Automated Machine Learning\n_**Energy Demand Forecasting**_\n\n## Contents\n1. [Introduction](#Introduction)\n2. [Setup](#Setup)\n3. [Data](#Data)\n4. [Train](#Train)\n5. [Deploy](#Deploy)"
    },
    {
      "metadata": {},
      "cell_type": "markdown",
      "source": "## Introduction\nIn this example, we show how AutoML can be used for energy demand forecasting.\n\nMake sure you have executed the [configuration](../../../configuration.ipynb) before running this notebook.\n\nIn this notebook you would see\n1. Creating an Experiment in an existing Workspace\n2. Instantiating AutoMLConfig with new task type \"forecasting\" for timeseries data training, and other timeseries related settings: for this dataset we use the basic one: \"time_column_name\" \n3. Training the Model using local compute\n4. Exploring the results\n5. Testing the fitted model"
    },
    {
      "metadata": {},
      "cell_type": "markdown",
      "source": "# Scenario\nThis scenario focuses on energy demand forecasting where the __goal is to predict the future load on an energy grid__. It is a critical business operation for companies in the energy sector as operators need to maintain the fine balance between the energy consumed on a grid and the energy supplied to it. \n\nToo much power supplied to the grid can result in waste of energy or technical faults. However, if too little power is supplied it can lead to blackouts, leaving customers without power. ypically, grid operators can take short-term decisions to manage energy supply to the grid and keep the load in balance. An accurate short-term forecast of energy demand is therefore essential for the operator to make these decisions with confidence.\n\nThis scenario details the construction of a machine learning energy demand forecasting solution. _The solution is trained on a public dataset from the New York Independent System Operator (NYISO)_ , which operates the power grid for New York State. \nThe dataset includes hourly power demand data for New York City over a period of five years. An additional dataset containing hourly weather conditions in New York City over the same time period was taken from darksky.net. \n"
    },
    {
      "metadata": {},
      "cell_type": "markdown",
      "source": "## Setup\n\nAs part of the setup you have already created a <b>Workspace</b>. For AutoML you would need to create an <b>Experiment</b>. An <b>Experiment</b> is a named object in a <b>Workspace</b>, which is used to run experiments."
    },
    {
      "metadata": {
        "trusted": true
      },
      "cell_type": "code",
      "source": "# Import libraries\nimport azureml.core\nimport pandas as pd\nimport numpy as np\nimport logging\nimport warnings\n# Squash warning messages for cleaner output in the notebook\nwarnings.showwarning = lambda *args, **kwargs: None\n\n\nfrom azureml.core.workspace import Workspace\nfrom azureml.core.experiment import Experiment\nfrom azureml.train.automl import AutoMLConfig\nfrom azureml.train.automl.run import AutoMLRun\nfrom matplotlib import pyplot as plt\nfrom sklearn.metrics import mean_absolute_error, mean_squared_error, r2_score",
      "execution_count": 1,
      "outputs": []
    },
    {
      "metadata": {
        "trusted": true
      },
      "cell_type": "code",
      "source": "# Retrieve workspace\nws = Workspace.from_config()\n\n# choose a name for the run history container in the workspace\nexperiment_name = 'automl-energydemandforecasting'\n# project folder\nproject_folder = './sample_projects/automl-local-energydemandforecasting'\n\nexperiment = Experiment(ws, experiment_name)\n\noutput = {}\noutput['SDK version'] = azureml.core.VERSION\noutput['Subscription ID'] = ws.subscription_id\noutput['Workspace'] = ws.name\noutput['Resource Group'] = ws.resource_group\noutput['Location'] = ws.location\noutput['Project Directory'] = project_folder\noutput['Run History Name'] = experiment_name\npd.set_option('display.max_colwidth', -1)\noutputDf = pd.DataFrame(data = output, index = [''])\noutputDf.T",
      "execution_count": 2,
      "outputs": [
        {
          "output_type": "stream",
          "text": "Found the config file in: /home/nbuser/library/Module_2_Get Started with AzureML/aml_config/config.json\n",
          "name": "stdout"
        },
        {
          "output_type": "execute_result",
          "execution_count": 2,
          "data": {
            "text/html": "<div>\n<style scoped>\n    .dataframe tbody tr th:only-of-type {\n        vertical-align: middle;\n    }\n\n    .dataframe tbody tr th {\n        vertical-align: top;\n    }\n\n    .dataframe thead th {\n        text-align: right;\n    }\n</style>\n<table border=\"1\" class=\"dataframe\">\n  <thead>\n    <tr style=\"text-align: right;\">\n      <th></th>\n      <th></th>\n    </tr>\n  </thead>\n  <tbody>\n    <tr>\n      <th>Location</th>\n      <td>eastus</td>\n    </tr>\n    <tr>\n      <th>Project Directory</th>\n      <td>./sample_projects/automl-local-energydemandforecasting</td>\n    </tr>\n    <tr>\n      <th>Resource Group</th>\n      <td>aiconfnyc</td>\n    </tr>\n    <tr>\n      <th>Run History Name</th>\n      <td>automl-energydemandforecasting</td>\n    </tr>\n    <tr>\n      <th>SDK version</th>\n      <td>1.0.17</td>\n    </tr>\n    <tr>\n      <th>Subscription ID</th>\n      <td>5d9f0467-1e93-45cb-9531-b2f8e715feb1</td>\n    </tr>\n    <tr>\n      <th>Workspace</th>\n      <td>aiconfnycws</td>\n    </tr>\n  </tbody>\n</table>\n</div>",
            "text/plain": "                                                                         \nLocation           eastus                                                \nProject Directory  ./sample_projects/automl-local-energydemandforecasting\nResource Group     aiconfnyc                                             \nRun History Name   automl-energydemandforecasting                        \nSDK version        1.0.17                                                \nSubscription ID    5d9f0467-1e93-45cb-9531-b2f8e715feb1                  \nWorkspace          aiconfnycws                                           "
          },
          "metadata": {}
        }
      ]
    },
    {
      "metadata": {},
      "cell_type": "markdown",
      "source": "## Data\nRead energy demanding data from file, and preview data."
    },
    {
      "metadata": {
        "trusted": true
      },
      "cell_type": "code",
      "source": "data = pd.read_csv(\"nyc_energy.csv\", parse_dates=['timeStamp'])\ndata.head()",
      "execution_count": 3,
      "outputs": [
        {
          "output_type": "execute_result",
          "execution_count": 3,
          "data": {
            "text/html": "<div>\n<style scoped>\n    .dataframe tbody tr th:only-of-type {\n        vertical-align: middle;\n    }\n\n    .dataframe tbody tr th {\n        vertical-align: top;\n    }\n\n    .dataframe thead th {\n        text-align: right;\n    }\n</style>\n<table border=\"1\" class=\"dataframe\">\n  <thead>\n    <tr style=\"text-align: right;\">\n      <th></th>\n      <th>timeStamp</th>\n      <th>demand</th>\n      <th>precip</th>\n      <th>temp</th>\n    </tr>\n  </thead>\n  <tbody>\n    <tr>\n      <th>0</th>\n      <td>2012-01-01 00:00:00</td>\n      <td>4937.50</td>\n      <td>0.00</td>\n      <td>46.13</td>\n    </tr>\n    <tr>\n      <th>1</th>\n      <td>2012-01-01 01:00:00</td>\n      <td>4752.10</td>\n      <td>0.00</td>\n      <td>45.89</td>\n    </tr>\n    <tr>\n      <th>2</th>\n      <td>2012-01-01 02:00:00</td>\n      <td>4542.60</td>\n      <td>0.00</td>\n      <td>45.04</td>\n    </tr>\n    <tr>\n      <th>3</th>\n      <td>2012-01-01 03:00:00</td>\n      <td>4357.70</td>\n      <td>0.00</td>\n      <td>45.03</td>\n    </tr>\n    <tr>\n      <th>4</th>\n      <td>2012-01-01 04:00:00</td>\n      <td>4275.50</td>\n      <td>0.00</td>\n      <td>42.61</td>\n    </tr>\n  </tbody>\n</table>\n</div>",
            "text/plain": "            timeStamp  demand  precip  temp\n0 2012-01-01 00:00:00 4937.50 0.00    46.13\n1 2012-01-01 01:00:00 4752.10 0.00    45.89\n2 2012-01-01 02:00:00 4542.60 0.00    45.04\n3 2012-01-01 03:00:00 4357.70 0.00    45.03\n4 2012-01-01 04:00:00 4275.50 0.00    42.61"
          },
          "metadata": {}
        }
      ]
    },
    {
      "metadata": {},
      "cell_type": "markdown",
      "source": "### Split the data to train and test\n\n"
    },
    {
      "metadata": {
        "trusted": true
      },
      "cell_type": "code",
      "source": "train = data[data['timeStamp'] < '2017-02-01']\ntest = data[data['timeStamp'] >= '2017-02-01']\n",
      "execution_count": 4,
      "outputs": []
    },
    {
      "metadata": {},
      "cell_type": "markdown",
      "source": "### Prepare the test data, we will feed X_test to the fitted model and get prediction"
    },
    {
      "metadata": {
        "trusted": true
      },
      "cell_type": "code",
      "source": "y_test = test.pop('demand').values\nX_test = test",
      "execution_count": 5,
      "outputs": []
    },
    {
      "metadata": {},
      "cell_type": "markdown",
      "source": "### Split the train data to train and valid\n\nUse one month's data as valid data\n"
    },
    {
      "metadata": {
        "trusted": true
      },
      "cell_type": "code",
      "source": "X_train = train[train['timeStamp'] < '2017-01-01']\nX_valid = train[train['timeStamp'] >= '2017-01-01']\ny_train = X_train.pop('demand').values\ny_valid = X_valid.pop('demand').values\nprint(X_train.shape)\nprint(y_train.shape)\nprint(X_valid.shape)\nprint(y_valid.shape)",
      "execution_count": 6,
      "outputs": [
        {
          "output_type": "stream",
          "text": "(43847, 3)\n(43847,)\n(744, 3)\n(744,)\n",
          "name": "stdout"
        }
      ]
    },
    {
      "metadata": {},
      "cell_type": "markdown",
      "source": "## Train\n\nInstantiate a AutoMLConfig object. This defines the settings and data used to run the experiment.\n\nRead more in the [documentation](https://docs.microsoft.com/en-us/azure/machine-learning/service/how-to-configure-auto-train)"
    },
    {
      "metadata": {
        "trusted": true
      },
      "cell_type": "code",
      "source": "# Set the time series column\ntime_column_name = 'timeStamp'\nautoml_settings = {\n    \"time_column_name\": time_column_name,\n}\n\n# create the configuration object\nautoml_config = AutoMLConfig(task = 'forecasting',\n                             debug_log = 'automl_nyc_energy_errors.log',\n                             primary_metric='normalized_root_mean_squared_error',\n                             iterations = 5,\n                             iteration_timeout_minutes = 10,\n                             X = X_train,\n                             y = y_train,\n                             X_valid = X_valid,\n                             y_valid = y_valid,\n                             path=project_folder,\n                             blacklist_models = ['RandomForest'],\n                             # model_explainability=True,\n                             verbosity = logging.INFO,\n                            **automl_settings)",
      "execution_count": 7,
      "outputs": []
    },
    {
      "metadata": {},
      "cell_type": "markdown",
      "source": "You can call the submit method on the experiment object and pass the run configuration. For Local runs the execution is synchronous. Depending on the data and number of iterations this can run for while.\nYou will see the currently running iterations printing to the console."
    },
    {
      "metadata": {
        "trusted": true
      },
      "cell_type": "code",
      "source": "local_run = experiment.submit(automl_config, show_output=True)",
      "execution_count": 8,
      "outputs": [
        {
          "output_type": "stream",
          "text": "Running on local machine\nParent Run ID: AutoML_72200f73-a91a-417b-9461-c2909db7e3f0\n********************************************************************************************************************\nITERATION: The iteration being evaluated.\nPIPELINE: A summary description of the pipeline being evaluated.\nSAMPLING %: Percent of the training data to sample.\nDURATION: Time taken for the current iteration.\nMETRIC: The result of computing score on the fitted pipeline.\nBEST: The best observed score thus far.\n********************************************************************************************************************\n\n ITERATION   PIPELINE                                       SAMPLING %  DURATION      METRIC      BEST\n         0   StandardScalerWrapper ElasticNet               100.0000    0:00:26       0.0819    0.0819\n         1   StandardScalerWrapper ElasticNet               100.0000    0:00:15       0.0814    0.0814\n         2   StandardScalerWrapper ElasticNet               100.0000    0:00:13       0.0817    0.0814\n         3   StandardScalerWrapper ElasticNet               100.0000    0:00:12       0.0800    0.0800\n         4   Ensemble                                       100.0000    0:00:20       0.0801    0.0800\n",
          "name": "stdout"
        }
      ]
    },
    {
      "metadata": {
        "trusted": true
      },
      "cell_type": "code",
      "source": "# View the run summary\nlocal_run",
      "execution_count": 9,
      "outputs": [
        {
          "output_type": "execute_result",
          "execution_count": 9,
          "data": {
            "text/html": "<table style=\"width:100%\"><tr><th>Experiment</th><th>Id</th><th>Type</th><th>Status</th><th>Details Page</th><th>Docs Page</th></tr><tr><td>automl-energydemandforecasting</td><td>AutoML_72200f73-a91a-417b-9461-c2909db7e3f0</td><td>automl</td><td>Completed</td><td><a href=\"https://mlworkspace.azure.ai/portal/subscriptions/5d9f0467-1e93-45cb-9531-b2f8e715feb1/resourceGroups/aiconfnyc/providers/Microsoft.MachineLearningServices/workspaces/aiconfnycws/experiments/automl-energydemandforecasting/runs/AutoML_72200f73-a91a-417b-9461-c2909db7e3f0\" target=\"_blank\" rel=\"noopener\">Link to Azure Portal</a></td><td><a href=\"https://docs.microsoft.com/en-us/python/api/overview/azure/ml/intro?view=azure-ml-py\" target=\"_blank\" rel=\"noopener\">Link to Documentation</a></td></tr></table>",
            "text/plain": "Run(Experiment: automl-energydemandforecasting,\nId: AutoML_72200f73-a91a-417b-9461-c2909db7e3f0,\nType: automl,\nStatus: Completed)"
          },
          "metadata": {}
        }
      ]
    },
    {
      "metadata": {},
      "cell_type": "markdown",
      "source": "### Retrieve the Best Model\nBelow we select the best pipeline from our iterations. The get_output method on automl_classifier returns the best run and the fitted model for the last fit invocation. There are overloads on get_output that allow you to retrieve the best run and fitted model for any logged metric or a particular iteration."
    },
    {
      "metadata": {
        "trusted": true
      },
      "cell_type": "code",
      "source": "best_run, fitted_model = local_run.get_output()\nfitted_model.steps",
      "execution_count": 10,
      "outputs": [
        {
          "output_type": "execute_result",
          "execution_count": 10,
          "data": {
            "text/plain": "[('timeseriestransformer', TimeSeriesTransformer(logger=None)),\n ('standardscalerwrapper',\n  <automl.client.core.common.model_wrappers.StandardScalerWrapper at 0x7f9d9b145748>),\n ('elasticnet',\n  ElasticNet(alpha=0.15873684210526315, copy_X=True, fit_intercept=True,\n        l1_ratio=0.6873684210526316, max_iter=1000, normalize=False,\n        positive=False, precompute=False, random_state=None,\n        selection='cyclic', tol=0.0001, warm_start=False))]"
          },
          "metadata": {}
        }
      ]
    },
    {
      "metadata": {},
      "cell_type": "markdown",
      "source": "### Retrieve explanation for best model\nModel explainability is important to understand the features and their importance. This will retrieve the explainability of the model."
    },
    {
      "metadata": {
        "scrolled": false,
        "trusted": true
      },
      "cell_type": "code",
      "source": "from azureml.train.automl.automlexplainer import explain_model\n\n# shap_values, expected_values, overall_summary, overall_imp, per_class_summary, per_class_imp = \\\n#    explain_model(fitted_model, X_train, X_test, best_run)",
      "execution_count": 11,
      "outputs": []
    },
    {
      "metadata": {},
      "cell_type": "markdown",
      "source": "### Widget for monitoring runs"
    },
    {
      "metadata": {
        "trusted": true
      },
      "cell_type": "code",
      "source": "from azureml.widgets import RunDetails\nRunDetails(local_run).show()",
      "execution_count": 12,
      "outputs": [
        {
          "output_type": "display_data",
          "data": {
            "application/vnd.jupyter.widget-view+json": {
              "model_id": "8019223e8b6e438da86e3228dbaeff37",
              "version_minor": 0,
              "version_major": 2
            },
            "text/plain": "_AutoMLWidget(widget_settings={'childWidgetDisplay': 'popup', 'send_telemetry': False, 'log_level': 'INFO', 's…"
          },
          "metadata": {}
        }
      ]
    },
    {
      "metadata": {},
      "cell_type": "markdown",
      "source": "### Test the Best Fitted Model\n\nPredict on training and test set, and calculate residual values."
    },
    {
      "metadata": {
        "trusted": true
      },
      "cell_type": "code",
      "source": "y_pred = fitted_model.predict(X_test)\ny_pred",
      "execution_count": 13,
      "outputs": [
        {
          "output_type": "execute_result",
          "execution_count": 13,
          "data": {
            "text/plain": "array([4956.74546589, 5052.91719952, 5141.45221388, ..., 6132.78185879,\n       6156.08656278, 6182.57560686])"
          },
          "metadata": {}
        }
      ]
    },
    {
      "metadata": {},
      "cell_type": "markdown",
      "source": "### Use the Check Data Function to remove the nan values from y_test to avoid error when calculate metrics "
    },
    {
      "metadata": {
        "trusted": true
      },
      "cell_type": "code",
      "source": "if len(y_test) != len(y_pred):\n    raise ValueError(\n        'the true values and prediction values do not have equal length.')\nelif len(y_test) == 0:\n    raise ValueError(\n        'y_true and y_pred are empty.')\n\n# if there is any non-numeric element in the y_true or y_pred,\n# the ValueError exception will be thrown.\ny_test_f = np.array(y_test).astype(float)\ny_pred_f = np.array(y_pred).astype(float)\n\n# remove entries both in y_true and y_pred where at least\n# one element in y_true or y_pred is missing\ny_test = y_test_f[~(np.isnan(y_test_f) | np.isnan(y_pred_f))]\ny_pred = y_pred_f[~(np.isnan(y_test_f) | np.isnan(y_pred_f))]",
      "execution_count": 14,
      "outputs": []
    },
    {
      "metadata": {},
      "cell_type": "markdown",
      "source": "### Plot the predictions to compare to actual data"
    },
    {
      "metadata": {
        "trusted": true
      },
      "cell_type": "code",
      "source": "print(\"[Test Data] \\nRoot Mean squared error: %.2f\" % np.sqrt(mean_squared_error(y_test, y_pred)))\n# Explained variance score: 1 is perfect prediction\nprint('mean_absolute_error score: %.2f' % mean_absolute_error(y_test, y_pred))\nprint('R2 score: %.2f' % r2_score(y_test, y_pred))\n\n# Plot outputs\ntest_pred = plt.scatter(y_test, y_pred, color='b')\ntest_test = plt.scatter(y_test, y_test, color='g')\nplt.legend((test_pred, test_test), ('prediction', 'truth'), loc='upper left', fontsize=8)\nplt.show()",
      "execution_count": 15,
      "outputs": [
        {
          "output_type": "stream",
          "text": "[Test Data] \nRoot Mean squared error: 879.91\nmean_absolute_error score: 708.97\nR2 score: 0.54\n",
          "name": "stdout"
        },
        {
          "output_type": "display_data",
          "data": {
            "image/png": "[encoded data removed]",
            "text/plain": "<Figure size 432x288 with 1 Axes>"
          },
          "metadata": {
            "needs_background": "light"
          }
        }
      ]
    }
  ],
  "metadata": {
    "authors": [
      {
        "name": "xiaga"
      }
    ],
    "kernelspec": {
      "name": "python36",
      "display_name": "Python 3.6",
      "language": "python"
    },
    "language_info": {
      "mimetype": "text/x-python",
      "nbconvert_exporter": "python",
      "name": "python",
      "pygments_lexer": "ipython3",
      "version": "3.6.6",
      "file_extension": ".py",
      "codemirror_mode": {
        "version": 3,
        "name": "ipython"
      }
    }
  },
  "nbformat": 4,
  "nbformat_minor": 2
}