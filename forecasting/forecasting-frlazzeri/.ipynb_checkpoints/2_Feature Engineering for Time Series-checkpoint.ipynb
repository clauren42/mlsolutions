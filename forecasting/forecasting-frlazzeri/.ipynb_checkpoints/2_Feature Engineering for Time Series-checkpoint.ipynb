{
  "cells": [
    {
      "metadata": {
        "collapsed": true
      },
      "cell_type": "markdown",
      "source": "# Feature Engineering for Time Series\n\n## Minimum Daily Temperatures Dataset\n\nIn this notebook, we learn how to do Feature Engineering for Time Series with the Minimum Daily Temperatures dataset. This dataset describes the minimum daily temperatures over 10 years (1981-1990) in the city Melbourne, Australia. The units are in degrees Celsius and there are 3650 observations. \n\nThe source of the data is credited as the Australian Bureau of Meteorology. Download the dataset and place it in your current working directory with the name daily-minimum-temperatures.csv"
    },
    {
      "metadata": {
        "trusted": true
      },
      "cell_type": "code",
      "source": "data_path = './data/daily-minimum-temperatures.csv'",
      "execution_count": null,
      "outputs": []
    },
    {
      "metadata": {
        "trusted": true
      },
      "cell_type": "code",
      "source": "# create date time features of a dataset\nfrom pandas import read_csv\nfrom pandas import DataFrame\nseries = read_csv(data_path, header=0, index_col=0, parse_dates=True, squeeze=True)\ndataframe = DataFrame()\ndataframe['month'] = [series.index[i].month for i in range(len(series))]\ndataframe['day'] = [series.index[i].day for i in range(len(series))]\ndataframe['temperature'] = [series[i] for i in range(len(series))]\nprint(dataframe.head(5))",
      "execution_count": null,
      "outputs": []
    },
    {
      "metadata": {},
      "cell_type": "markdown",
      "source": "Using just the month and day information alone to predict temperature is not sophisticated and will likely result in a poor model. Nevertheless, this information coupled with additional engineered features may ultimately result in a better model. You may enumerate all the properties of a time-stamp and consider what might be useful for your problem, such as: \n- Minutes elapsed for the day.\n- Hour of day.\n- Business hours or not.\n- Weekend or not.\n- Season of the year.\n- Business quarter of the year.\n- Daylight savings or not.\n- Public holiday or not.\n- Leap year or not."
    },
    {
      "metadata": {
        "trusted": true
      },
      "cell_type": "code",
      "source": "# create a lag feature\nfrom pandas import read_csv\nfrom pandas import DataFrame\nfrom pandas import concat\nseries = read_csv(data_path, header=0, index_col=0, parse_dates=True, squeeze=True)\ntemps = DataFrame(series.values)\ndataframe = concat([temps.shift(1), temps], axis=1)\ndataframe.columns = ['t', 't+1']\nprint(dataframe.head(5))",
      "execution_count": null,
      "outputs": []
    },
    {
      "metadata": {
        "trusted": true
      },
      "cell_type": "code",
      "source": "# create lag features\nfrom pandas import read_csv\nfrom pandas import DataFrame\nfrom pandas import concat\nseries = read_csv(data_path, header=0, index_col=0, parse_dates=True, squeeze=True)\ntemps = DataFrame(series.values)\ndataframe = concat([temps.shift(3), temps.shift(2), temps.shift(1), temps], axis=1)\ndataframe.columns = ['t-2', 't-1', 't', 't+1']\nprint(dataframe.head(5))",
      "execution_count": null,
      "outputs": []
    },
    {
      "metadata": {
        "trusted": true
      },
      "cell_type": "code",
      "source": "# create a rolling mean feature\nfrom pandas import read_csv\nfrom pandas import DataFrame\nfrom pandas import concat\nseries = read_csv(data_path, header=0, index_col=0, parse_dates=True, squeeze=True)\ntemps = DataFrame(series.values)\nshifted = temps.shift(1)\nwindow = shifted.rolling(window=2)\nmeans = window.mean()\ndataframe = concat([means, temps], axis=1)\ndataframe.columns = ['mean(t-1,t)', 't+1']\nprint(dataframe.head(5))",
      "execution_count": null,
      "outputs": []
    },
    {
      "metadata": {
        "trusted": true
      },
      "cell_type": "code",
      "source": "# create rolling statistics features\nfrom pandas import read_csv\nfrom pandas import DataFrame\nfrom pandas import concat\nseries = read_csv(data_path, header=0, index_col=0, parse_dates=True, squeeze=True)\ntemps = DataFrame(series.values)\nwidth = 3\nshifted = temps.shift(width - 1)\nwindow = shifted.rolling(window=width)\ndataframe = concat([window.min(), window.mean(), window.max(), temps], axis=1)\ndataframe.columns = ['min', 'mean', 'max', 't+1']\nprint(dataframe.head(5))",
      "execution_count": null,
      "outputs": []
    },
    {
      "metadata": {
        "trusted": true
      },
      "cell_type": "code",
      "source": "# create expanding window features\nfrom pandas import read_csv\nfrom pandas import DataFrame\nfrom pandas import concat\nseries = read_csv(data_path, header=0, index_col=0, parse_dates=True, squeeze=True)\ntemps = DataFrame(series.values)\nwindow = temps.expanding()\ndataframe = concat([window.min(), window.mean(), window.max(), temps.shift(-1)], axis=1)\ndataframe.columns = ['min', 'mean', 'max', 't+1']\nprint(dataframe.head(5))",
      "execution_count": null,
      "outputs": []
    },
    {
      "metadata": {},
      "cell_type": "markdown",
      "source": "### References:\nThe website Data Market provides access to a large number of time series datasets. Specically, the Time Series Data Library (https://datamarket.com/data/list/?q=provider:tsdl) created by Rob Hyndman, Professor of Statistics at Monash University, Australia."
    }
  ],
  "metadata": {
    "kernelspec": {
      "name": "python36",
      "display_name": "Python 3.6",
      "language": "python"
    },
    "language_info": {
      "mimetype": "text/x-python",
      "nbconvert_exporter": "python",
      "name": "python",
      "pygments_lexer": "ipython3",
      "version": "3.6.6",
      "file_extension": ".py",
      "codemirror_mode": {
        "version": 3,
        "name": "ipython"
      }
    }
  },
  "nbformat": 4,
  "nbformat_minor": 2
}