{
  "cells": [
    {
      "metadata": {},
      "cell_type": "markdown",
      "source": "Copyright (c) Microsoft Corporation. All rights reserved.\n\nLicensed under the MIT License."
    },
    {
      "metadata": {},
      "cell_type": "markdown",
      "source": "# Tutorial (part 1): Prepare data for regression modeling"
    },
    {
      "metadata": {},
      "cell_type": "markdown",
      "source": "In this tutorial, you learn how to prep data for regression modeling using the Azure Machine Learning Data Prep SDK. Perform various transformations to filter and combine two different NYC Taxi data sets. The end goal of this tutorial set is to predict the cost of a taxi trip by training a model on data features including pickup hour, day of week, number of passengers, and coordinates. This tutorial is part one of a two-part tutorial series.\n\nIn this tutorial, you:\n\n\n> * Setup a Python environment and import packages\n> * Load two datasets with different field names\n> * Cleanse data to remove anomalies\n> * Transform data using intelligent transforms to create new features\n> * Save your dataflow object to use in a regression model\n\nYou can prepare your data in Python using the [Azure Machine Learning Data Prep SDK](https://aka.ms/data-prep-sdk)."
    },
    {
      "metadata": {},
      "cell_type": "markdown",
      "source": "## Import packages\nBegin by importing the SDK."
    },
    {
      "metadata": {
        "trusted": true
      },
      "cell_type": "code",
      "source": "import azureml.dataprep as dprep",
      "execution_count": 1,
      "outputs": []
    },
    {
      "metadata": {},
      "cell_type": "markdown",
      "source": "## Load data\nDownload two different NYC Taxi data sets into dataflow objects. These datasets contain slightly different fields. The method `auto_read_file()` automatically recognizes the input file type."
    },
    {
      "metadata": {
        "trusted": true
      },
      "cell_type": "code",
      "source": "dataset_root = \"https://dprepdata.blob.core.windows.net/demo\"\n\ngreen_path = \"/\".join([dataset_root, \"green-small/*\"])\nyellow_path = \"/\".join([dataset_root, \"yellow-small/*\"])\n\ngreen_df = dprep.read_csv(path=green_path, header=dprep.PromoteHeadersMode.GROUPED)\n# auto_read_file will automatically identify and parse the file type, and is useful if you don't know the file type\nyellow_df = dprep.auto_read_file(path=yellow_path)",
      "execution_count": 2,
      "outputs": []
    },
    {
      "metadata": {
        "trusted": true
      },
      "cell_type": "code",
      "source": "green_df.head(5)",
      "execution_count": 3,
      "outputs": [
        {
          "output_type": "execute_result",
          "execution_count": 3,
          "data": {
            "text/html": "<div>\n<style scoped>\n    .dataframe tbody tr th:only-of-type {\n        vertical-align: middle;\n    }\n\n    .dataframe tbody tr th {\n        vertical-align: top;\n    }\n\n    .dataframe thead th {\n        text-align: right;\n    }\n</style>\n<table border=\"1\" class=\"dataframe\">\n  <thead>\n    <tr style=\"text-align: right;\">\n      <th></th>\n      <th>VendorID</th>\n      <th>lpep_pickup_datetime</th>\n      <th>Lpep_dropoff_datetime</th>\n      <th>Store_and_fwd_flag</th>\n      <th>RateCodeID</th>\n      <th>Pickup_longitude</th>\n      <th>Pickup_latitude</th>\n      <th>Dropoff_longitude</th>\n      <th>Dropoff_latitude</th>\n      <th>Passenger_count</th>\n      <th>...</th>\n      <th>Extra</th>\n      <th>MTA_tax</th>\n      <th>Tip_amount</th>\n      <th>Tolls_amount</th>\n      <th>Ehail_fee</th>\n      <th>Total_amount</th>\n      <th>Payment_type</th>\n      <th>Trip_type</th>\n      <th>Column21</th>\n      <th>Column22</th>\n    </tr>\n  </thead>\n  <tbody>\n    <tr>\n      <th>0</th>\n      <td></td>\n      <td>None</td>\n      <td>None</td>\n      <td>None</td>\n      <td>None</td>\n      <td>None</td>\n      <td>None</td>\n      <td>None</td>\n      <td>None</td>\n      <td>None</td>\n      <td>...</td>\n      <td>None</td>\n      <td>None</td>\n      <td>None</td>\n      <td>None</td>\n      <td>None</td>\n      <td>None</td>\n      <td>None</td>\n      <td>None</td>\n      <td>None</td>\n      <td>None</td>\n    </tr>\n    <tr>\n      <th>1</th>\n      <td>2</td>\n      <td>2013-08-01 08:14:37</td>\n      <td>2013-08-01 09:09:06</td>\n      <td>N</td>\n      <td>1</td>\n      <td>0</td>\n      <td>0</td>\n      <td>0</td>\n      <td>0</td>\n      <td>1</td>\n      <td>...</td>\n      <td>0</td>\n      <td>0</td>\n      <td>0</td>\n      <td>0</td>\n      <td></td>\n      <td>21.25</td>\n      <td>2</td>\n      <td></td>\n      <td></td>\n      <td></td>\n    </tr>\n    <tr>\n      <th>2</th>\n      <td>2</td>\n      <td>2013-08-01 09:13:00</td>\n      <td>2013-08-01 11:38:00</td>\n      <td>N</td>\n      <td>1</td>\n      <td>0</td>\n      <td>0</td>\n      <td>0</td>\n      <td>0</td>\n      <td>2</td>\n      <td>...</td>\n      <td>0</td>\n      <td>0.5</td>\n      <td>0</td>\n      <td>0</td>\n      <td></td>\n      <td>75</td>\n      <td>2</td>\n      <td></td>\n      <td></td>\n      <td></td>\n    </tr>\n    <tr>\n      <th>3</th>\n      <td>2</td>\n      <td>2013-08-01 09:48:00</td>\n      <td>2013-08-01 09:49:00</td>\n      <td>N</td>\n      <td>5</td>\n      <td>0</td>\n      <td>0</td>\n      <td>0</td>\n      <td>0</td>\n      <td>1</td>\n      <td>...</td>\n      <td>0.1</td>\n      <td>0</td>\n      <td>0</td>\n      <td>1</td>\n      <td></td>\n      <td>2.1</td>\n      <td>2</td>\n      <td></td>\n      <td></td>\n      <td></td>\n    </tr>\n    <tr>\n      <th>4</th>\n      <td>2</td>\n      <td>2013-08-01 10:38:35</td>\n      <td>2013-08-01 10:38:51</td>\n      <td>N</td>\n      <td>1</td>\n      <td>0</td>\n      <td>0</td>\n      <td>0</td>\n      <td>0</td>\n      <td>1</td>\n      <td>...</td>\n      <td>0</td>\n      <td>0</td>\n      <td>0</td>\n      <td>0</td>\n      <td></td>\n      <td>3.25</td>\n      <td>2</td>\n      <td></td>\n      <td></td>\n      <td></td>\n    </tr>\n  </tbody>\n</table>\n<p>5 rows × 22 columns</p>\n</div>",
            "text/plain": "  VendorID lpep_pickup_datetime Lpep_dropoff_datetime Store_and_fwd_flag  \\\n0                          None                  None               None   \n1        2  2013-08-01 08:14:37   2013-08-01 09:09:06                  N   \n2        2  2013-08-01 09:13:00   2013-08-01 11:38:00                  N   \n3        2  2013-08-01 09:48:00   2013-08-01 09:49:00                  N   \n4        2  2013-08-01 10:38:35   2013-08-01 10:38:51                  N   \n\n  RateCodeID Pickup_longitude Pickup_latitude Dropoff_longitude  \\\n0       None             None            None              None   \n1          1                0               0                 0   \n2          1                0               0                 0   \n3          5                0               0                 0   \n4          1                0               0                 0   \n\n  Dropoff_latitude Passenger_count   ...    Extra MTA_tax Tip_amount  \\\n0             None            None   ...     None    None       None   \n1                0               1   ...        0       0          0   \n2                0               2   ...        0     0.5          0   \n3                0               1   ...      0.1       0          0   \n4                0               1   ...        0       0          0   \n\n  Tolls_amount Ehail_fee Total_amount Payment_type Trip_type Column21 Column22  \n0         None      None         None         None      None     None     None  \n1            0                  21.25            2                              \n2            0                     75            2                              \n3            1                    2.1            2                              \n4            0                   3.25            2                              \n\n[5 rows x 22 columns]"
          },
          "metadata": {}
        }
      ]
    },
    {
      "metadata": {
        "trusted": true
      },
      "cell_type": "code",
      "source": "yellow_df.head(5)",
      "execution_count": 4,
      "outputs": [
        {
          "output_type": "execute_result",
          "execution_count": 4,
          "data": {
            "text/html": "<div>\n<style scoped>\n    .dataframe tbody tr th:only-of-type {\n        vertical-align: middle;\n    }\n\n    .dataframe tbody tr th {\n        vertical-align: top;\n    }\n\n    .dataframe thead th {\n        text-align: right;\n    }\n</style>\n<table border=\"1\" class=\"dataframe\">\n  <thead>\n    <tr style=\"text-align: right;\">\n      <th></th>\n      <th>vendor_name</th>\n      <th>Trip_Pickup_DateTime</th>\n      <th>Trip_Dropoff_DateTime</th>\n      <th>Passenger_Count</th>\n      <th>Trip_Distance</th>\n      <th>Start_Lon</th>\n      <th>Start_Lat</th>\n      <th>Rate_Code</th>\n      <th>store_and_forward</th>\n      <th>End_Lon</th>\n      <th>End_Lat</th>\n      <th>Payment_Type</th>\n      <th>Fare_Amt</th>\n      <th>surcharge</th>\n      <th>mta_tax</th>\n      <th>Tip_Amt</th>\n      <th>Tolls_Amt</th>\n      <th>Total_Amt</th>\n    </tr>\n  </thead>\n  <tbody>\n    <tr>\n      <th>0</th>\n      <td></td>\n      <td>NA</td>\n      <td>NA</td>\n      <td>NA</td>\n      <td>NA</td>\n      <td>NA</td>\n      <td>NA</td>\n      <td>NA</td>\n      <td>NA</td>\n      <td>NA</td>\n      <td>NA</td>\n      <td>NA</td>\n      <td>NA</td>\n      <td>NA</td>\n      <td>NA</td>\n      <td>NA</td>\n      <td>NA</td>\n      <td>NA</td>\n    </tr>\n    <tr>\n      <th>1</th>\n      <td>VTS</td>\n      <td>2009-01-04 02:52:00</td>\n      <td>2009-01-04 03:02:00</td>\n      <td>1</td>\n      <td>2.6299999999999999</td>\n      <td>-73.991956999999999</td>\n      <td>40.721567</td>\n      <td></td>\n      <td></td>\n      <td>-73.993803</td>\n      <td>40.695922000000003</td>\n      <td>CASH</td>\n      <td>8.9000000000000004</td>\n      <td>0.5</td>\n      <td></td>\n      <td>0</td>\n      <td>0</td>\n      <td>9.4000000000000004</td>\n    </tr>\n    <tr>\n      <th>2</th>\n      <td>VTS</td>\n      <td>2009-01-04 03:31:00</td>\n      <td>2009-01-04 03:38:00</td>\n      <td>3</td>\n      <td>4.5499999999999998</td>\n      <td>-73.982101999999998</td>\n      <td>40.736289999999997</td>\n      <td></td>\n      <td></td>\n      <td>-73.955849999999998</td>\n      <td>40.768030000000003</td>\n      <td>Credit</td>\n      <td>12.1</td>\n      <td>0.5</td>\n      <td></td>\n      <td>2</td>\n      <td>0</td>\n      <td>14.6</td>\n    </tr>\n    <tr>\n      <th>3</th>\n      <td>VTS</td>\n      <td>2009-01-03 15:43:00</td>\n      <td>2009-01-03 15:57:00</td>\n      <td>5</td>\n      <td>10.35</td>\n      <td>-74.002587000000005</td>\n      <td>40.739747999999999</td>\n      <td></td>\n      <td></td>\n      <td>-73.869983000000005</td>\n      <td>40.770225000000003</td>\n      <td>Credit</td>\n      <td>23.699999999999999</td>\n      <td>0</td>\n      <td></td>\n      <td>4.7400000000000002</td>\n      <td>0</td>\n      <td>28.440000000000001</td>\n    </tr>\n    <tr>\n      <th>4</th>\n      <td>DDS</td>\n      <td>2009-01-01 20:52:58</td>\n      <td>2009-01-01 21:14:00</td>\n      <td>1</td>\n      <td>5</td>\n      <td>-73.974266999999998</td>\n      <td>40.790954999999997</td>\n      <td></td>\n      <td></td>\n      <td>-73.996557999999993</td>\n      <td>40.731848999999997</td>\n      <td>CREDIT</td>\n      <td>14.9</td>\n      <td>0.5</td>\n      <td></td>\n      <td>3.0499999999999998</td>\n      <td>0</td>\n      <td>18.449999999999999</td>\n    </tr>\n  </tbody>\n</table>\n</div>",
            "text/plain": "  vendor_name Trip_Pickup_DateTime Trip_Dropoff_DateTime Passenger_Count  \\\n0                               NA                    NA              NA   \n1         VTS  2009-01-04 02:52:00   2009-01-04 03:02:00               1   \n2         VTS  2009-01-04 03:31:00   2009-01-04 03:38:00               3   \n3         VTS  2009-01-03 15:43:00   2009-01-03 15:57:00               5   \n4         DDS  2009-01-01 20:52:58   2009-01-01 21:14:00               1   \n\n        Trip_Distance            Start_Lon           Start_Lat Rate_Code  \\\n0                  NA                   NA                  NA        NA   \n1  2.6299999999999999  -73.991956999999999           40.721567             \n2  4.5499999999999998  -73.982101999999998  40.736289999999997             \n3               10.35  -74.002587000000005  40.739747999999999             \n4                   5  -73.974266999999998  40.790954999999997             \n\n  store_and_forward              End_Lon             End_Lat Payment_Type  \\\n0                NA                   NA                  NA           NA   \n1                             -73.993803  40.695922000000003         CASH   \n2                    -73.955849999999998  40.768030000000003       Credit   \n3                    -73.869983000000005  40.770225000000003       Credit   \n4                    -73.996557999999993  40.731848999999997       CREDIT   \n\n             Fare_Amt surcharge mta_tax             Tip_Amt Tolls_Amt  \\\n0                  NA        NA      NA                  NA        NA   \n1  8.9000000000000004       0.5                           0         0   \n2                12.1       0.5                           2         0   \n3  23.699999999999999         0          4.7400000000000002         0   \n4                14.9       0.5          3.0499999999999998         0   \n\n            Total_Amt  \n0                  NA  \n1  9.4000000000000004  \n2                14.6  \n3  28.440000000000001  \n4  18.449999999999999  "
          },
          "metadata": {}
        }
      ]
    },
    {
      "metadata": {},
      "cell_type": "markdown",
      "source": "## Cleanse data"
    },
    {
      "metadata": {},
      "cell_type": "markdown",
      "source": "Now you populate some variables with shortcut transforms that will apply to all dataflows. The variable `drop_if_all_null` will be used to delete records where all fields are null. The variable `useful_columns` holds an array of column descriptions that are retained in each dataflow."
    },
    {
      "metadata": {
        "trusted": true
      },
      "cell_type": "code",
      "source": "all_columns = dprep.ColumnSelector(term=\".*\", use_regex=True)\ndrop_if_all_null = [all_columns, dprep.ColumnRelationship(dprep.ColumnRelationship.ALL)]\nuseful_columns = [\n    \"cost\", \"distance\", \"dropoff_datetime\", \"dropoff_latitude\", \"dropoff_longitude\",\n    \"passengers\", \"pickup_datetime\", \"pickup_latitude\", \"pickup_longitude\", \"store_forward\", \"vendor\"\n]",
      "execution_count": 5,
      "outputs": []
    },
    {
      "metadata": {},
      "cell_type": "markdown",
      "source": "You first work with the green taxi data and get it into a valid shape that can be combined with the yellow taxi data. Create a temporary dataflow `tmp_df`, and call the `replace_na()`, `drop_nulls()`, and `keep_columns()` functions using the shortcut transform variables you created. Additionally, rename all the columns in the dataframe to match the names in `useful_columns`."
    },
    {
      "metadata": {
        "trusted": true
      },
      "cell_type": "code",
      "source": "tmp_df = (green_df\n    .replace_na(columns=all_columns)\n    .drop_nulls(*drop_if_all_null)\n    .rename_columns(column_pairs={\n        \"VendorID\": \"vendor\",\n        \"lpep_pickup_datetime\": \"pickup_datetime\",\n        \"Lpep_dropoff_datetime\": \"dropoff_datetime\",\n        \"lpep_dropoff_datetime\": \"dropoff_datetime\",\n        \"Store_and_fwd_flag\": \"store_forward\",\n        \"store_and_fwd_flag\": \"store_forward\",\n        \"Pickup_longitude\": \"pickup_longitude\",\n        \"Pickup_latitude\": \"pickup_latitude\",\n        \"Dropoff_longitude\": \"dropoff_longitude\",\n        \"Dropoff_latitude\": \"dropoff_latitude\",\n        \"Passenger_count\": \"passengers\",\n        \"Fare_amount\": \"cost\",\n        \"Trip_distance\": \"distance\"\n     })\n    .keep_columns(columns=useful_columns))\ntmp_df.head(5)",
      "execution_count": 6,
      "outputs": [
        {
          "output_type": "execute_result",
          "execution_count": 6,
          "data": {
            "text/html": "<div>\n<style scoped>\n    .dataframe tbody tr th:only-of-type {\n        vertical-align: middle;\n    }\n\n    .dataframe tbody tr th {\n        vertical-align: top;\n    }\n\n    .dataframe thead th {\n        text-align: right;\n    }\n</style>\n<table border=\"1\" class=\"dataframe\">\n  <thead>\n    <tr style=\"text-align: right;\">\n      <th></th>\n      <th>vendor</th>\n      <th>pickup_datetime</th>\n      <th>dropoff_datetime</th>\n      <th>store_forward</th>\n      <th>pickup_longitude</th>\n      <th>pickup_latitude</th>\n      <th>dropoff_longitude</th>\n      <th>dropoff_latitude</th>\n      <th>passengers</th>\n      <th>distance</th>\n      <th>cost</th>\n    </tr>\n  </thead>\n  <tbody>\n    <tr>\n      <th>0</th>\n      <td>2</td>\n      <td>2013-08-01 08:14:37</td>\n      <td>2013-08-01 09:09:06</td>\n      <td>N</td>\n      <td>0</td>\n      <td>0</td>\n      <td>0</td>\n      <td>0</td>\n      <td>1</td>\n      <td>.00</td>\n      <td>21.25</td>\n    </tr>\n    <tr>\n      <th>1</th>\n      <td>2</td>\n      <td>2013-08-01 09:13:00</td>\n      <td>2013-08-01 11:38:00</td>\n      <td>N</td>\n      <td>0</td>\n      <td>0</td>\n      <td>0</td>\n      <td>0</td>\n      <td>2</td>\n      <td>.00</td>\n      <td>74.5</td>\n    </tr>\n    <tr>\n      <th>2</th>\n      <td>2</td>\n      <td>2013-08-01 09:48:00</td>\n      <td>2013-08-01 09:49:00</td>\n      <td>N</td>\n      <td>0</td>\n      <td>0</td>\n      <td>0</td>\n      <td>0</td>\n      <td>1</td>\n      <td>.00</td>\n      <td>1</td>\n    </tr>\n    <tr>\n      <th>3</th>\n      <td>2</td>\n      <td>2013-08-01 10:38:35</td>\n      <td>2013-08-01 10:38:51</td>\n      <td>N</td>\n      <td>0</td>\n      <td>0</td>\n      <td>0</td>\n      <td>0</td>\n      <td>1</td>\n      <td>.00</td>\n      <td>3.25</td>\n    </tr>\n    <tr>\n      <th>4</th>\n      <td>2</td>\n      <td>2013-08-01 11:51:45</td>\n      <td>2013-08-01 12:03:52</td>\n      <td>N</td>\n      <td>0</td>\n      <td>0</td>\n      <td>0</td>\n      <td>0</td>\n      <td>1</td>\n      <td>.00</td>\n      <td>8.5</td>\n    </tr>\n  </tbody>\n</table>\n</div>",
            "text/plain": "  vendor      pickup_datetime     dropoff_datetime store_forward  \\\n0      2  2013-08-01 08:14:37  2013-08-01 09:09:06             N   \n1      2  2013-08-01 09:13:00  2013-08-01 11:38:00             N   \n2      2  2013-08-01 09:48:00  2013-08-01 09:49:00             N   \n3      2  2013-08-01 10:38:35  2013-08-01 10:38:51             N   \n4      2  2013-08-01 11:51:45  2013-08-01 12:03:52             N   \n\n  pickup_longitude pickup_latitude dropoff_longitude dropoff_latitude  \\\n0                0               0                 0                0   \n1                0               0                 0                0   \n2                0               0                 0                0   \n3                0               0                 0                0   \n4                0               0                 0                0   \n\n  passengers distance   cost  \n0          1      .00  21.25  \n1          2      .00   74.5  \n2          1      .00      1  \n3          1      .00   3.25  \n4          1      .00    8.5  "
          },
          "metadata": {}
        }
      ]
    },
    {
      "metadata": {},
      "cell_type": "markdown",
      "source": "Overwrite the `green_df` variable with the transforms performed on `tmp_df` in the previous step."
    },
    {
      "metadata": {
        "trusted": true
      },
      "cell_type": "code",
      "source": "green_df = tmp_df",
      "execution_count": 7,
      "outputs": []
    },
    {
      "metadata": {},
      "cell_type": "markdown",
      "source": "Perform the same transformation steps to the yellow taxi data."
    },
    {
      "metadata": {
        "trusted": true
      },
      "cell_type": "code",
      "source": "tmp_df = (yellow_df\n    .replace_na(columns=all_columns)\n    .drop_nulls(*drop_if_all_null)\n    .rename_columns(column_pairs={\n        \"vendor_name\": \"vendor\",\n        \"VendorID\": \"vendor\",\n        \"vendor_id\": \"vendor\",\n        \"Trip_Pickup_DateTime\": \"pickup_datetime\",\n        \"tpep_pickup_datetime\": \"pickup_datetime\",\n        \"Trip_Dropoff_DateTime\": \"dropoff_datetime\",\n        \"tpep_dropoff_datetime\": \"dropoff_datetime\",\n        \"store_and_forward\": \"store_forward\",\n        \"store_and_fwd_flag\": \"store_forward\",\n        \"Start_Lon\": \"pickup_longitude\",\n        \"Start_Lat\": \"pickup_latitude\",\n        \"End_Lon\": \"dropoff_longitude\",\n        \"End_Lat\": \"dropoff_latitude\",\n        \"Passenger_Count\": \"passengers\",\n        \"passenger_count\": \"passengers\",\n        \"Fare_Amt\": \"cost\",\n        \"fare_amount\": \"cost\",\n        \"Trip_Distance\": \"distance\",\n        \"trip_distance\": \"distance\"\n    })\n    .keep_columns(columns=useful_columns))\ntmp_df.head(5)",
      "execution_count": 8,
      "outputs": [
        {
          "output_type": "execute_result",
          "execution_count": 8,
          "data": {
            "text/html": "<div>\n<style scoped>\n    .dataframe tbody tr th:only-of-type {\n        vertical-align: middle;\n    }\n\n    .dataframe tbody tr th {\n        vertical-align: top;\n    }\n\n    .dataframe thead th {\n        text-align: right;\n    }\n</style>\n<table border=\"1\" class=\"dataframe\">\n  <thead>\n    <tr style=\"text-align: right;\">\n      <th></th>\n      <th>vendor</th>\n      <th>pickup_datetime</th>\n      <th>dropoff_datetime</th>\n      <th>passengers</th>\n      <th>distance</th>\n      <th>pickup_longitude</th>\n      <th>pickup_latitude</th>\n      <th>store_forward</th>\n      <th>dropoff_longitude</th>\n      <th>dropoff_latitude</th>\n      <th>cost</th>\n    </tr>\n  </thead>\n  <tbody>\n    <tr>\n      <th>0</th>\n      <td>VTS</td>\n      <td>2009-01-04 02:52:00</td>\n      <td>2009-01-04 03:02:00</td>\n      <td>1</td>\n      <td>2.6299999999999999</td>\n      <td>-73.991956999999999</td>\n      <td>40.721567</td>\n      <td>None</td>\n      <td>-73.993803</td>\n      <td>40.695922000000003</td>\n      <td>8.9000000000000004</td>\n    </tr>\n    <tr>\n      <th>1</th>\n      <td>VTS</td>\n      <td>2009-01-04 03:31:00</td>\n      <td>2009-01-04 03:38:00</td>\n      <td>3</td>\n      <td>4.5499999999999998</td>\n      <td>-73.982101999999998</td>\n      <td>40.736289999999997</td>\n      <td>None</td>\n      <td>-73.955849999999998</td>\n      <td>40.768030000000003</td>\n      <td>12.1</td>\n    </tr>\n    <tr>\n      <th>2</th>\n      <td>VTS</td>\n      <td>2009-01-03 15:43:00</td>\n      <td>2009-01-03 15:57:00</td>\n      <td>5</td>\n      <td>10.35</td>\n      <td>-74.002587000000005</td>\n      <td>40.739747999999999</td>\n      <td>None</td>\n      <td>-73.869983000000005</td>\n      <td>40.770225000000003</td>\n      <td>23.699999999999999</td>\n    </tr>\n    <tr>\n      <th>3</th>\n      <td>DDS</td>\n      <td>2009-01-01 20:52:58</td>\n      <td>2009-01-01 21:14:00</td>\n      <td>1</td>\n      <td>5</td>\n      <td>-73.974266999999998</td>\n      <td>40.790954999999997</td>\n      <td>None</td>\n      <td>-73.996557999999993</td>\n      <td>40.731848999999997</td>\n      <td>14.9</td>\n    </tr>\n    <tr>\n      <th>4</th>\n      <td>DDS</td>\n      <td>2009-01-24 16:18:23</td>\n      <td>2009-01-24 16:24:56</td>\n      <td>1</td>\n      <td>0.40000000000000002</td>\n      <td>-74.001580000000004</td>\n      <td>40.719382000000003</td>\n      <td>None</td>\n      <td>-74.008377999999993</td>\n      <td>40.720350000000003</td>\n      <td>3.7000000000000002</td>\n    </tr>\n  </tbody>\n</table>\n</div>",
            "text/plain": "  vendor      pickup_datetime     dropoff_datetime passengers  \\\n0    VTS  2009-01-04 02:52:00  2009-01-04 03:02:00          1   \n1    VTS  2009-01-04 03:31:00  2009-01-04 03:38:00          3   \n2    VTS  2009-01-03 15:43:00  2009-01-03 15:57:00          5   \n3    DDS  2009-01-01 20:52:58  2009-01-01 21:14:00          1   \n4    DDS  2009-01-24 16:18:23  2009-01-24 16:24:56          1   \n\n              distance     pickup_longitude     pickup_latitude store_forward  \\\n0   2.6299999999999999  -73.991956999999999           40.721567          None   \n1   4.5499999999999998  -73.982101999999998  40.736289999999997          None   \n2                10.35  -74.002587000000005  40.739747999999999          None   \n3                    5  -73.974266999999998  40.790954999999997          None   \n4  0.40000000000000002  -74.001580000000004  40.719382000000003          None   \n\n     dropoff_longitude    dropoff_latitude                cost  \n0           -73.993803  40.695922000000003  8.9000000000000004  \n1  -73.955849999999998  40.768030000000003                12.1  \n2  -73.869983000000005  40.770225000000003  23.699999999999999  \n3  -73.996557999999993  40.731848999999997                14.9  \n4  -74.008377999999993  40.720350000000003  3.7000000000000002  "
          },
          "metadata": {}
        }
      ]
    },
    {
      "metadata": {},
      "cell_type": "markdown",
      "source": "Again, overwrite `yellow_df` with `tmp_df`, and then call the `append_rows()` function on the green taxi data to append the yellow taxi data, creating a new combined dataframe."
    },
    {
      "metadata": {
        "trusted": true
      },
      "cell_type": "code",
      "source": "yellow_df = tmp_df\ncombined_df = green_df.append_rows([yellow_df])",
      "execution_count": 9,
      "outputs": []
    },
    {
      "metadata": {},
      "cell_type": "markdown",
      "source": "### Convert types and filter "
    },
    {
      "metadata": {},
      "cell_type": "markdown",
      "source": "Examine the pickup and drop-off coordinates summary statistics to see how the data is distributed. First define a `TypeConverter` object to change the lat/long fields to decimal type. Next, call the `keep_columns()` function to restrict output to only the lat/long fields, and then call `get_profile()`."
    },
    {
      "metadata": {
        "trusted": true
      },
      "cell_type": "code",
      "source": "decimal_type = dprep.TypeConverter(data_type=dprep.FieldType.DECIMAL)\ncombined_df = combined_df.set_column_types(type_conversions={\n    \"pickup_longitude\": decimal_type,\n    \"pickup_latitude\": decimal_type,\n    \"dropoff_longitude\": decimal_type,\n    \"dropoff_latitude\": decimal_type\n})\ncombined_df.keep_columns(columns=[\n    \"pickup_longitude\", \"pickup_latitude\", \n    \"dropoff_longitude\", \"dropoff_latitude\"\n]).get_profile()",
      "execution_count": 10,
      "outputs": [
        {
          "output_type": "execute_result",
          "execution_count": 10,
          "data": {
            "text/html": "<table border=\"1\" class=\"dataframe\">\n  <thead>\n    <tr style=\"text-align: right;\">\n      <th></th>\n      <th>Type</th>\n      <th>Min</th>\n      <th>Max</th>\n      <th>Count</th>\n      <th>Missing Count</th>\n      <th>Not Missing Count</th>\n      <th>Percent missing</th>\n      <th>Error Count</th>\n      <th>Empty count</th>\n      <th>0.1% Quantile</th>\n      <th>1% Quantile</th>\n      <th>5% Quantile</th>\n      <th>25% Quantile</th>\n      <th>50% Quantile</th>\n      <th>75% Quantile</th>\n      <th>95% Quantile</th>\n      <th>99% Quantile</th>\n      <th>99.9% Quantile</th>\n      <th>Mean</th>\n      <th>Standard Deviation</th>\n      <th>Variance</th>\n      <th>Skewness</th>\n      <th>Kurtosis</th>\n    </tr>\n  </thead>\n  <tbody>\n    <tr>\n      <th>pickup_longitude</th>\n      <td>FieldType.DECIMAL</td>\n      <td>-115.179337</td>\n      <td>0.000000</td>\n      <td>7722.0</td>\n      <td>0.0</td>\n      <td>7722.0</td>\n      <td>0.0</td>\n      <td>0.0</td>\n      <td>0.0</td>\n      <td>-80.110658</td>\n      <td>-73.961885</td>\n      <td>-73.962354</td>\n      <td>-73.947823</td>\n      <td>-73.921860</td>\n      <td>-73.846196</td>\n      <td>0.000000</td>\n      <td>0.000000</td>\n      <td>0.000000</td>\n      <td>-68.833579</td>\n      <td>18.792672</td>\n      <td>353.164515</td>\n      <td>3.369970</td>\n      <td>9.475822</td>\n    </tr>\n    <tr>\n      <th>pickup_latitude</th>\n      <td>FieldType.DECIMAL</td>\n      <td>0.000000</td>\n      <td>40.919121</td>\n      <td>7722.0</td>\n      <td>0.0</td>\n      <td>7722.0</td>\n      <td>0.0</td>\n      <td>0.0</td>\n      <td>0.0</td>\n      <td>0.000000</td>\n      <td>40.684513</td>\n      <td>40.683247</td>\n      <td>40.721145</td>\n      <td>40.756218</td>\n      <td>40.804345</td>\n      <td>40.849468</td>\n      <td>40.870242</td>\n      <td>40.892072</td>\n      <td>37.936742</td>\n      <td>10.345967</td>\n      <td>107.039038</td>\n      <td>-3.391034</td>\n      <td>9.507615</td>\n    </tr>\n    <tr>\n      <th>dropoff_longitude</th>\n      <td>FieldType.DECIMAL</td>\n      <td>-115.179337</td>\n      <td>0.000000</td>\n      <td>7722.0</td>\n      <td>0.0</td>\n      <td>7722.0</td>\n      <td>0.0</td>\n      <td>0.0</td>\n      <td>0.0</td>\n      <td>-80.091993</td>\n      <td>-73.984740</td>\n      <td>-73.985831</td>\n      <td>-73.956148</td>\n      <td>-73.928934</td>\n      <td>-73.866010</td>\n      <td>0.000000</td>\n      <td>0.000000</td>\n      <td>0.000000</td>\n      <td>-68.896978</td>\n      <td>18.696526</td>\n      <td>349.560067</td>\n      <td>3.393537</td>\n      <td>9.637675</td>\n    </tr>\n    <tr>\n      <th>dropoff_latitude</th>\n      <td>FieldType.DECIMAL</td>\n      <td>0.000000</td>\n      <td>41.008934</td>\n      <td>7722.0</td>\n      <td>0.0</td>\n      <td>7722.0</td>\n      <td>0.0</td>\n      <td>0.0</td>\n      <td>0.0</td>\n      <td>0.000000</td>\n      <td>40.663088</td>\n      <td>40.661844</td>\n      <td>40.718004</td>\n      <td>40.756568</td>\n      <td>40.784694</td>\n      <td>40.852264</td>\n      <td>40.879800</td>\n      <td>40.925400</td>\n      <td>37.963774</td>\n      <td>10.290780</td>\n      <td>105.900157</td>\n      <td>-3.414918</td>\n      <td>9.670386</td>\n    </tr>\n  </tbody>\n</table>",
            "text/plain": "ColumnProfile:\n    column_name: pickup_longitude\n    type: FieldType.DECIMAL\n\n    min: -115.17933654785156\n    max: 0.0\n    count: 7722.0\n    missing_count: 0.0\n    not_missing_count: 7722.0\n    percent_missing: 0.0\n    error_count: 0.0\n    empty_count: 0.0\n\n\n    Quantiles:\n         0.1%: -80.11065791756766\n           1%: -73.96188491401543\n           5%: -73.96235370740858\n          25%: -73.9478233433977\n          50%: -73.92186039607144\n          75%: -73.84619571606551\n          95%: 0.0\n          99%: 0.0\n        99.9%: 0.0\n\n    mean: -68.83357924322624\n    std: 18.792671842677194\n    variance: 353.1645149865522\n    skewness: 3.3699704814278384\n    kurtosis: 9.475822408116898\n\nColumnProfile:\n    column_name: pickup_latitude\n    type: FieldType.DECIMAL\n\n    min: 0.0\n    max: 40.91912078857422\n    count: 7722.0\n    missing_count: 0.0\n    not_missing_count: 7722.0\n    percent_missing: 0.0\n    error_count: 0.0\n    empty_count: 0.0\n\n\n    Quantiles:\n         0.1%: 0.0\n           1%: 40.68451266738604\n           5%: 40.683247346144455\n          25%: 40.721144662040494\n          50%: 40.75621823177723\n          75%: 40.80434495816379\n          95%: 40.849468341177584\n          99%: 40.87024199366307\n        99.9%: 40.892071805463516\n\n    mean: 37.93674176307772\n    std: 10.345967255309299\n    variance: 107.03903844793221\n    skewness: -3.3910335057674446\n    kurtosis: 9.507614952893944\n\nColumnProfile:\n    column_name: dropoff_longitude\n    type: FieldType.DECIMAL\n\n    min: -115.17933654785156\n    max: 0.0\n    count: 7722.0\n    missing_count: 0.0\n    not_missing_count: 7722.0\n    percent_missing: 0.0\n    error_count: 0.0\n    empty_count: 0.0\n\n\n    Quantiles:\n         0.1%: -80.0919932281494\n           1%: -73.9847401385908\n           5%: -73.98583140877277\n          25%: -73.95614814904995\n          50%: -73.92893429887974\n          75%: -73.86600969035827\n          95%: 0.0\n          99%: 0.0\n        99.9%: 0.0\n\n    mean: -68.89697757926986\n    std: 18.696525543314273\n    variance: 349.5600673918031\n    skewness: 3.393537469556304\n    kurtosis: 9.637674744553701\n\nColumnProfile:\n    column_name: dropoff_latitude\n    type: FieldType.DECIMAL\n\n    min: 0.0\n    max: 41.008934020996094\n    count: 7722.0\n    missing_count: 0.0\n    not_missing_count: 7722.0\n    percent_missing: 0.0\n    error_count: 0.0\n    empty_count: 0.0\n\n\n    Quantiles:\n         0.1%: 0.0\n           1%: 40.66308802176213\n           5%: 40.661843755970835\n          25%: 40.71800415965146\n          50%: 40.756567542919356\n          75%: 40.78469429450894\n          95%: 40.85226407375794\n          99%: 40.87980034086439\n        99.9%: 40.925400069766575\n\n    mean: 37.963773902752784\n    std: 10.290780181747312\n    variance: 105.90015674904323\n    skewness: -3.414918339085695\n    kurtosis: 9.670385703344062"
          },
          "metadata": {}
        }
      ]
    },
    {
      "metadata": {},
      "cell_type": "markdown",
      "source": "From the summary statistics output, you see that there are coordinates that are missing, and coordinates that are not in New York City. Filter out coordinates not in the city border by chaining column filter commands within the `filter()` function, and defining minimum and maximum bounds for each field. Then call `get_profile()` again to verify the transformation."
    },
    {
      "metadata": {
        "trusted": true
      },
      "cell_type": "code",
      "source": "tmp_df = (combined_df\n    .drop_nulls(\n        columns=[\"pickup_longitude\", \"pickup_latitude\", \"dropoff_longitude\", \"dropoff_latitude\"],\n        column_relationship=dprep.ColumnRelationship(dprep.ColumnRelationship.ANY)\n    ) \n    .filter(dprep.f_and(\n        dprep.col(\"pickup_longitude\") <= -73.72,\n        dprep.col(\"pickup_longitude\") >= -74.09,\n        dprep.col(\"pickup_latitude\") <= 40.88,\n        dprep.col(\"pickup_latitude\") >= 40.53,\n        dprep.col(\"dropoff_longitude\") <= -73.72,\n        dprep.col(\"dropoff_longitude\") >= -74.09,\n        dprep.col(\"dropoff_latitude\") <= 40.88,\n        dprep.col(\"dropoff_latitude\") >= 40.53\n    )))\ntmp_df.keep_columns(columns=[\n    \"pickup_longitude\", \"pickup_latitude\", \n    \"dropoff_longitude\", \"dropoff_latitude\"\n]).get_profile()",
      "execution_count": 11,
      "outputs": [
        {
          "output_type": "execute_result",
          "execution_count": 11,
          "data": {
            "text/html": "<table border=\"1\" class=\"dataframe\">\n  <thead>\n    <tr style=\"text-align: right;\">\n      <th></th>\n      <th>Type</th>\n      <th>Min</th>\n      <th>Max</th>\n      <th>Count</th>\n      <th>Missing Count</th>\n      <th>Not Missing Count</th>\n      <th>Percent missing</th>\n      <th>Error Count</th>\n      <th>Empty count</th>\n      <th>0.1% Quantile</th>\n      <th>1% Quantile</th>\n      <th>5% Quantile</th>\n      <th>25% Quantile</th>\n      <th>50% Quantile</th>\n      <th>75% Quantile</th>\n      <th>95% Quantile</th>\n      <th>99% Quantile</th>\n      <th>99.9% Quantile</th>\n      <th>Mean</th>\n      <th>Standard Deviation</th>\n      <th>Variance</th>\n      <th>Skewness</th>\n      <th>Kurtosis</th>\n    </tr>\n  </thead>\n  <tbody>\n    <tr>\n      <th>pickup_longitude</th>\n      <td>FieldType.DECIMAL</td>\n      <td>-74.078156</td>\n      <td>-73.736481</td>\n      <td>7059.0</td>\n      <td>0.0</td>\n      <td>7059.0</td>\n      <td>0.0</td>\n      <td>0.0</td>\n      <td>0.0</td>\n      <td>-74.078006</td>\n      <td>-73.962538</td>\n      <td>-73.962717</td>\n      <td>-73.948994</td>\n      <td>-73.927816</td>\n      <td>-73.865688</td>\n      <td>-73.830361</td>\n      <td>-73.824080</td>\n      <td>-73.769338</td>\n      <td>-73.913865</td>\n      <td>0.048711</td>\n      <td>0.002373</td>\n      <td>0.402697</td>\n      <td>-0.613516</td>\n    </tr>\n    <tr>\n      <th>pickup_latitude</th>\n      <td>FieldType.DECIMAL</td>\n      <td>40.575485</td>\n      <td>40.879852</td>\n      <td>7059.0</td>\n      <td>0.0</td>\n      <td>7059.0</td>\n      <td>0.0</td>\n      <td>0.0</td>\n      <td>0.0</td>\n      <td>40.633259</td>\n      <td>40.713189</td>\n      <td>40.713110</td>\n      <td>40.721369</td>\n      <td>40.758147</td>\n      <td>40.805117</td>\n      <td>40.848848</td>\n      <td>40.867566</td>\n      <td>40.877787</td>\n      <td>40.765226</td>\n      <td>0.048348</td>\n      <td>0.002338</td>\n      <td>0.228088</td>\n      <td>-0.598862</td>\n    </tr>\n    <tr>\n      <th>dropoff_longitude</th>\n      <td>FieldType.DECIMAL</td>\n      <td>-74.085747</td>\n      <td>-73.720871</td>\n      <td>7059.0</td>\n      <td>0.0</td>\n      <td>7059.0</td>\n      <td>0.0</td>\n      <td>0.0</td>\n      <td>0.0</td>\n      <td>-74.078187</td>\n      <td>-73.985679</td>\n      <td>-73.986376</td>\n      <td>-73.959024</td>\n      <td>-73.936762</td>\n      <td>-73.884944</td>\n      <td>-73.815567</td>\n      <td>-73.776707</td>\n      <td>-73.733476</td>\n      <td>-73.920718</td>\n      <td>0.055961</td>\n      <td>0.003132</td>\n      <td>0.648649</td>\n      <td>0.022914</td>\n    </tr>\n    <tr>\n      <th>dropoff_latitude</th>\n      <td>FieldType.DECIMAL</td>\n      <td>40.583530</td>\n      <td>40.879734</td>\n      <td>7059.0</td>\n      <td>0.0</td>\n      <td>7059.0</td>\n      <td>0.0</td>\n      <td>0.0</td>\n      <td>0.0</td>\n      <td>40.600361</td>\n      <td>40.695508</td>\n      <td>40.693780</td>\n      <td>40.727604</td>\n      <td>40.758163</td>\n      <td>40.788390</td>\n      <td>40.850519</td>\n      <td>40.867857</td>\n      <td>40.878703</td>\n      <td>40.759487</td>\n      <td>0.050462</td>\n      <td>0.002546</td>\n      <td>0.048418</td>\n      <td>-0.036880</td>\n    </tr>\n  </tbody>\n</table>",
            "text/plain": "ColumnProfile:\n    column_name: pickup_longitude\n    type: FieldType.DECIMAL\n\n    min: -74.07815551757812\n    max: -73.73648071289062\n    count: 7059.0\n    missing_count: 0.0\n    not_missing_count: 7059.0\n    percent_missing: 0.0\n    error_count: 0.0\n    empty_count: 0.0\n\n\n    Quantiles:\n         0.1%: -74.07800554656983\n           1%: -73.9625381253672\n           5%: -73.96271681648763\n          25%: -73.94899418369535\n          50%: -73.92781608686656\n          75%: -73.86568757556734\n          95%: -73.83036085451191\n          99%: -73.82408028185196\n        99.9%: -73.76933835267566\n\n    mean: -73.91386493958264\n    std: 0.04871109408945094\n    variance: 0.002372770687391343\n    skewness: 0.40269738982876896\n    kurtosis: -0.6135155980288367\n\nColumnProfile:\n    column_name: pickup_latitude\n    type: FieldType.DECIMAL\n\n    min: 40.57548522949219\n    max: 40.879852294921875\n    count: 7059.0\n    missing_count: 0.0\n    not_missing_count: 7059.0\n    percent_missing: 0.0\n    error_count: 0.0\n    empty_count: 0.0\n\n\n    Quantiles:\n         0.1%: 40.63325949859619\n           1%: 40.71318882397242\n           5%: 40.71310997009277\n          25%: 40.72136940522559\n          50%: 40.75814734274077\n          75%: 40.80511719469699\n          95%: 40.84884778760839\n          99%: 40.867565543101385\n        99.9%: 40.8777873061498\n\n    mean: 40.76522599299848\n    std: 0.048348486975952946\n    variance: 0.002337576192863892\n    skewness: 0.22808816936950824\n    kurtosis: -0.5988623711401839\n\nColumnProfile:\n    column_name: dropoff_longitude\n    type: FieldType.DECIMAL\n\n    min: -74.08574676513672\n    max: -73.72087097167969\n    count: 7059.0\n    missing_count: 0.0\n    not_missing_count: 7059.0\n    percent_missing: 0.0\n    error_count: 0.0\n    empty_count: 0.0\n\n\n    Quantiles:\n         0.1%: -74.07818688964844\n           1%: -73.98567926468519\n           5%: -73.9863762488732\n          25%: -73.95902368337272\n          50%: -73.93676169016139\n          75%: -73.88494428725468\n          95%: -73.81556715560116\n          99%: -73.77670712575907\n        99.9%: -73.73347627487183\n\n    mean: -73.92071783817232\n    std: 0.05596095716658376\n    variance: 0.003131628727000222\n    skewness: 0.648648946871952\n    kurtosis: 0.022914068468275595\n\nColumnProfile:\n    column_name: dropoff_latitude\n    type: FieldType.DECIMAL\n\n    min: 40.58353042602539\n    max: 40.87973403930664\n    count: 7059.0\n    missing_count: 0.0\n    not_missing_count: 7059.0\n    percent_missing: 0.0\n    error_count: 0.0\n    empty_count: 0.0\n\n\n    Quantiles:\n         0.1%: 40.600360892308224\n           1%: 40.695507700662404\n           5%: 40.69378039042154\n          25%: 40.72760406115935\n          50%: 40.75816282826525\n          75%: 40.788390210071086\n          95%: 40.85051895320416\n          99%: 40.86785722351075\n        99.9%: 40.87870288767134\n\n    mean: 40.7594872258256\n    std: 0.05046209380939558\n    variance: 0.0025464229116282395\n    skewness: 0.048417933848660985\n    kurtosis: -0.0368799343056212"
          },
          "metadata": {}
        }
      ]
    },
    {
      "metadata": {},
      "cell_type": "markdown",
      "source": "Overwrite `combined_df` with the transformations you made to `tmp_df`."
    },
    {
      "metadata": {
        "trusted": true
      },
      "cell_type": "code",
      "source": "combined_df = tmp_df",
      "execution_count": 12,
      "outputs": []
    },
    {
      "metadata": {},
      "cell_type": "markdown",
      "source": "### Split and rename columns"
    },
    {
      "metadata": {},
      "cell_type": "markdown",
      "source": "Look at the data profile for the `store_forward` column."
    },
    {
      "metadata": {
        "trusted": true
      },
      "cell_type": "code",
      "source": "combined_df.keep_columns(columns='store_forward').get_profile()",
      "execution_count": 13,
      "outputs": [
        {
          "output_type": "execute_result",
          "execution_count": 13,
          "data": {
            "text/html": "<table border=\"1\" class=\"dataframe\">\n  <thead>\n    <tr style=\"text-align: right;\">\n      <th></th>\n      <th>Type</th>\n      <th>Min</th>\n      <th>Max</th>\n      <th>Count</th>\n      <th>Missing Count</th>\n      <th>Not Missing Count</th>\n      <th>Percent missing</th>\n      <th>Error Count</th>\n      <th>Empty count</th>\n      <th>0.1% Quantile</th>\n      <th>1% Quantile</th>\n      <th>5% Quantile</th>\n      <th>25% Quantile</th>\n      <th>50% Quantile</th>\n      <th>75% Quantile</th>\n      <th>95% Quantile</th>\n      <th>99% Quantile</th>\n      <th>99.9% Quantile</th>\n      <th>Mean</th>\n      <th>Standard Deviation</th>\n      <th>Variance</th>\n      <th>Skewness</th>\n      <th>Kurtosis</th>\n    </tr>\n  </thead>\n  <tbody>\n    <tr>\n      <th>store_forward</th>\n      <td>FieldType.STRING</td>\n      <td>N</td>\n      <td>Y</td>\n      <td>7059.0</td>\n      <td>99.0</td>\n      <td>6960.0</td>\n      <td>0.014025</td>\n      <td>0.0</td>\n      <td>0.0</td>\n      <td></td>\n      <td></td>\n      <td></td>\n      <td></td>\n      <td></td>\n      <td></td>\n      <td></td>\n      <td></td>\n      <td></td>\n      <td></td>\n      <td></td>\n      <td></td>\n      <td></td>\n      <td></td>\n    </tr>\n  </tbody>\n</table>",
            "text/plain": "ColumnProfile:\n    column_name: store_forward\n    type: FieldType.STRING\n\n    min: N\n    max: Y\n    count: 7059.0\n    missing_count: 99.0\n    not_missing_count: 6960.0\n    percent_missing: 0.014024649383765405\n    error_count: 0.0\n    empty_count: 0.0\n"
          },
          "metadata": {}
        }
      ]
    },
    {
      "metadata": {},
      "cell_type": "markdown",
      "source": "From the data profile output of `store_forward`, you see that the data is inconsistent and there are missing/null values. Replace these values using the `replace()` and `fill_nulls()` functions, and in both cases change to the string \"N\"."
    },
    {
      "metadata": {
        "trusted": true
      },
      "cell_type": "code",
      "source": "combined_df = combined_df.replace(columns=\"store_forward\", find=\"0\", replace_with=\"N\").fill_nulls(\"store_forward\", \"N\")",
      "execution_count": 14,
      "outputs": []
    },
    {
      "metadata": {},
      "cell_type": "markdown",
      "source": "Execute another `replace` function, this time on the `distance` field. This reformats distance values that are incorrectly labeled as `.00`, and fills any nulls with zeros. Convert the `distance` field to numerical format."
    },
    {
      "metadata": {
        "trusted": true
      },
      "cell_type": "code",
      "source": "combined_df = combined_df.replace(columns=\"distance\", find=\".00\", replace_with=0).fill_nulls(\"distance\", 0)\ncombined_df = combined_df.to_number([\"distance\"])",
      "execution_count": 15,
      "outputs": []
    },
    {
      "metadata": {},
      "cell_type": "markdown",
      "source": "Split the pick up and drop off datetimes into respective date and time columns. Use `split_column_by_example()` to perform the split. In this case, the optional `example` parameter of `split_column_by_example()` is omitted. Therefore the function will automatically determine where to split based on the data."
    },
    {
      "metadata": {
        "trusted": true
      },
      "cell_type": "code",
      "source": "tmp_df = (combined_df\n    .split_column_by_example(source_column=\"pickup_datetime\")\n    .split_column_by_example(source_column=\"dropoff_datetime\"))\ntmp_df.head(5)",
      "execution_count": 16,
      "outputs": [
        {
          "output_type": "execute_result",
          "execution_count": 16,
          "data": {
            "text/html": "<div>\n<style scoped>\n    .dataframe tbody tr th:only-of-type {\n        vertical-align: middle;\n    }\n\n    .dataframe tbody tr th {\n        vertical-align: top;\n    }\n\n    .dataframe thead th {\n        text-align: right;\n    }\n</style>\n<table border=\"1\" class=\"dataframe\">\n  <thead>\n    <tr style=\"text-align: right;\">\n      <th></th>\n      <th>vendor</th>\n      <th>pickup_datetime</th>\n      <th>pickup_datetime_1</th>\n      <th>pickup_datetime_2</th>\n      <th>dropoff_datetime</th>\n      <th>dropoff_datetime_1</th>\n      <th>dropoff_datetime_2</th>\n      <th>store_forward</th>\n      <th>pickup_longitude</th>\n      <th>pickup_latitude</th>\n      <th>dropoff_longitude</th>\n      <th>dropoff_latitude</th>\n      <th>passengers</th>\n      <th>distance</th>\n      <th>cost</th>\n    </tr>\n  </thead>\n  <tbody>\n    <tr>\n      <th>0</th>\n      <td>2</td>\n      <td>2013-08-01 17:22:00</td>\n      <td>2013-08-01</td>\n      <td>17:22:00</td>\n      <td>2013-08-01 17:22:00</td>\n      <td>2013-08-01</td>\n      <td>17:22:00</td>\n      <td>N</td>\n      <td>-73.937767</td>\n      <td>40.758480</td>\n      <td>-73.937767</td>\n      <td>40.758480</td>\n      <td>1</td>\n      <td>0.0</td>\n      <td>2.5</td>\n    </tr>\n    <tr>\n      <th>1</th>\n      <td>2</td>\n      <td>2013-08-01 17:24:00</td>\n      <td>2013-08-01</td>\n      <td>17:24:00</td>\n      <td>2013-08-01 17:25:00</td>\n      <td>2013-08-01</td>\n      <td>17:25:00</td>\n      <td>N</td>\n      <td>-73.937927</td>\n      <td>40.757843</td>\n      <td>-73.937927</td>\n      <td>40.757843</td>\n      <td>1</td>\n      <td>0.0</td>\n      <td>2.5</td>\n    </tr>\n    <tr>\n      <th>2</th>\n      <td>2</td>\n      <td>2013-08-06 06:51:19</td>\n      <td>2013-08-06</td>\n      <td>06:51:19</td>\n      <td>2013-08-06 06:51:36</td>\n      <td>2013-08-06</td>\n      <td>06:51:36</td>\n      <td>N</td>\n      <td>-73.937721</td>\n      <td>40.758404</td>\n      <td>-73.937721</td>\n      <td>40.758369</td>\n      <td>1</td>\n      <td>0.0</td>\n      <td>3.3</td>\n    </tr>\n    <tr>\n      <th>3</th>\n      <td>2</td>\n      <td>2013-08-06 13:26:34</td>\n      <td>2013-08-06</td>\n      <td>13:26:34</td>\n      <td>2013-08-06 13:26:57</td>\n      <td>2013-08-06</td>\n      <td>13:26:57</td>\n      <td>N</td>\n      <td>-73.937691</td>\n      <td>40.758419</td>\n      <td>-73.937790</td>\n      <td>40.758358</td>\n      <td>1</td>\n      <td>0.0</td>\n      <td>3.3</td>\n    </tr>\n    <tr>\n      <th>4</th>\n      <td>2</td>\n      <td>2013-08-06 13:27:53</td>\n      <td>2013-08-06</td>\n      <td>13:27:53</td>\n      <td>2013-08-06 13:28:08</td>\n      <td>2013-08-06</td>\n      <td>13:28:08</td>\n      <td>N</td>\n      <td>-73.937805</td>\n      <td>40.758396</td>\n      <td>-73.937775</td>\n      <td>40.758450</td>\n      <td>1</td>\n      <td>0.0</td>\n      <td>3.3</td>\n    </tr>\n  </tbody>\n</table>\n</div>",
            "text/plain": "  vendor      pickup_datetime pickup_datetime_1 pickup_datetime_2  \\\n0      2  2013-08-01 17:22:00        2013-08-01          17:22:00   \n1      2  2013-08-01 17:24:00        2013-08-01          17:24:00   \n2      2  2013-08-06 06:51:19        2013-08-06          06:51:19   \n3      2  2013-08-06 13:26:34        2013-08-06          13:26:34   \n4      2  2013-08-06 13:27:53        2013-08-06          13:27:53   \n\n      dropoff_datetime dropoff_datetime_1 dropoff_datetime_2 store_forward  \\\n0  2013-08-01 17:22:00         2013-08-01           17:22:00             N   \n1  2013-08-01 17:25:00         2013-08-01           17:25:00             N   \n2  2013-08-06 06:51:36         2013-08-06           06:51:36             N   \n3  2013-08-06 13:26:57         2013-08-06           13:26:57             N   \n4  2013-08-06 13:28:08         2013-08-06           13:28:08             N   \n\n   pickup_longitude  pickup_latitude  dropoff_longitude  dropoff_latitude  \\\n0        -73.937767        40.758480         -73.937767         40.758480   \n1        -73.937927        40.757843         -73.937927         40.757843   \n2        -73.937721        40.758404         -73.937721         40.758369   \n3        -73.937691        40.758419         -73.937790         40.758358   \n4        -73.937805        40.758396         -73.937775         40.758450   \n\n  passengers  distance cost  \n0          1       0.0  2.5  \n1          1       0.0  2.5  \n2          1       0.0  3.3  \n3          1       0.0  3.3  \n4          1       0.0  3.3  "
          },
          "metadata": {}
        }
      ]
    },
    {
      "metadata": {},
      "cell_type": "markdown",
      "source": "Rename the columns generated by `split_column_by_example()` into meaningful names."
    },
    {
      "metadata": {
        "trusted": true
      },
      "cell_type": "code",
      "source": "tmp_df_renamed = (tmp_df\n    .rename_columns(column_pairs={\n        \"pickup_datetime_1\": \"pickup_date\",\n        \"pickup_datetime_2\": \"pickup_time\",\n        \"dropoff_datetime_1\": \"dropoff_date\",\n        \"dropoff_datetime_2\": \"dropoff_time\"\n    }))\ntmp_df_renamed.head(5)",
      "execution_count": 17,
      "outputs": [
        {
          "output_type": "execute_result",
          "execution_count": 17,
          "data": {
            "text/html": "<div>\n<style scoped>\n    .dataframe tbody tr th:only-of-type {\n        vertical-align: middle;\n    }\n\n    .dataframe tbody tr th {\n        vertical-align: top;\n    }\n\n    .dataframe thead th {\n        text-align: right;\n    }\n</style>\n<table border=\"1\" class=\"dataframe\">\n  <thead>\n    <tr style=\"text-align: right;\">\n      <th></th>\n      <th>vendor</th>\n      <th>pickup_datetime</th>\n      <th>pickup_date</th>\n      <th>pickup_time</th>\n      <th>dropoff_datetime</th>\n      <th>dropoff_date</th>\n      <th>dropoff_time</th>\n      <th>store_forward</th>\n      <th>pickup_longitude</th>\n      <th>pickup_latitude</th>\n      <th>dropoff_longitude</th>\n      <th>dropoff_latitude</th>\n      <th>passengers</th>\n      <th>distance</th>\n      <th>cost</th>\n    </tr>\n  </thead>\n  <tbody>\n    <tr>\n      <th>0</th>\n      <td>2</td>\n      <td>2013-08-01 17:22:00</td>\n      <td>2013-08-01</td>\n      <td>17:22:00</td>\n      <td>2013-08-01 17:22:00</td>\n      <td>2013-08-01</td>\n      <td>17:22:00</td>\n      <td>N</td>\n      <td>-73.937767</td>\n      <td>40.758480</td>\n      <td>-73.937767</td>\n      <td>40.758480</td>\n      <td>1</td>\n      <td>0.0</td>\n      <td>2.5</td>\n    </tr>\n    <tr>\n      <th>1</th>\n      <td>2</td>\n      <td>2013-08-01 17:24:00</td>\n      <td>2013-08-01</td>\n      <td>17:24:00</td>\n      <td>2013-08-01 17:25:00</td>\n      <td>2013-08-01</td>\n      <td>17:25:00</td>\n      <td>N</td>\n      <td>-73.937927</td>\n      <td>40.757843</td>\n      <td>-73.937927</td>\n      <td>40.757843</td>\n      <td>1</td>\n      <td>0.0</td>\n      <td>2.5</td>\n    </tr>\n    <tr>\n      <th>2</th>\n      <td>2</td>\n      <td>2013-08-06 06:51:19</td>\n      <td>2013-08-06</td>\n      <td>06:51:19</td>\n      <td>2013-08-06 06:51:36</td>\n      <td>2013-08-06</td>\n      <td>06:51:36</td>\n      <td>N</td>\n      <td>-73.937721</td>\n      <td>40.758404</td>\n      <td>-73.937721</td>\n      <td>40.758369</td>\n      <td>1</td>\n      <td>0.0</td>\n      <td>3.3</td>\n    </tr>\n    <tr>\n      <th>3</th>\n      <td>2</td>\n      <td>2013-08-06 13:26:34</td>\n      <td>2013-08-06</td>\n      <td>13:26:34</td>\n      <td>2013-08-06 13:26:57</td>\n      <td>2013-08-06</td>\n      <td>13:26:57</td>\n      <td>N</td>\n      <td>-73.937691</td>\n      <td>40.758419</td>\n      <td>-73.937790</td>\n      <td>40.758358</td>\n      <td>1</td>\n      <td>0.0</td>\n      <td>3.3</td>\n    </tr>\n    <tr>\n      <th>4</th>\n      <td>2</td>\n      <td>2013-08-06 13:27:53</td>\n      <td>2013-08-06</td>\n      <td>13:27:53</td>\n      <td>2013-08-06 13:28:08</td>\n      <td>2013-08-06</td>\n      <td>13:28:08</td>\n      <td>N</td>\n      <td>-73.937805</td>\n      <td>40.758396</td>\n      <td>-73.937775</td>\n      <td>40.758450</td>\n      <td>1</td>\n      <td>0.0</td>\n      <td>3.3</td>\n    </tr>\n  </tbody>\n</table>\n</div>",
            "text/plain": "  vendor      pickup_datetime pickup_date pickup_time     dropoff_datetime  \\\n0      2  2013-08-01 17:22:00  2013-08-01    17:22:00  2013-08-01 17:22:00   \n1      2  2013-08-01 17:24:00  2013-08-01    17:24:00  2013-08-01 17:25:00   \n2      2  2013-08-06 06:51:19  2013-08-06    06:51:19  2013-08-06 06:51:36   \n3      2  2013-08-06 13:26:34  2013-08-06    13:26:34  2013-08-06 13:26:57   \n4      2  2013-08-06 13:27:53  2013-08-06    13:27:53  2013-08-06 13:28:08   \n\n  dropoff_date dropoff_time store_forward  pickup_longitude  pickup_latitude  \\\n0   2013-08-01     17:22:00             N        -73.937767        40.758480   \n1   2013-08-01     17:25:00             N        -73.937927        40.757843   \n2   2013-08-06     06:51:36             N        -73.937721        40.758404   \n3   2013-08-06     13:26:57             N        -73.937691        40.758419   \n4   2013-08-06     13:28:08             N        -73.937805        40.758396   \n\n   dropoff_longitude  dropoff_latitude passengers  distance cost  \n0         -73.937767         40.758480          1       0.0  2.5  \n1         -73.937927         40.757843          1       0.0  2.5  \n2         -73.937721         40.758369          1       0.0  3.3  \n3         -73.937790         40.758358          1       0.0  3.3  \n4         -73.937775         40.758450          1       0.0  3.3  "
          },
          "metadata": {}
        }
      ]
    },
    {
      "metadata": {},
      "cell_type": "markdown",
      "source": "Overwrite `combined_df` with the executed transformations, and then call `get_profile()` to see full summary statistics after all transformations."
    },
    {
      "metadata": {
        "trusted": true
      },
      "cell_type": "code",
      "source": "combined_df = tmp_df_renamed\ncombined_df.get_profile()",
      "execution_count": 18,
      "outputs": [
        {
          "output_type": "execute_result",
          "execution_count": 18,
          "data": {
            "text/html": "<table border=\"1\" class=\"dataframe\">\n  <thead>\n    <tr style=\"text-align: right;\">\n      <th></th>\n      <th>Type</th>\n      <th>Min</th>\n      <th>Max</th>\n      <th>Count</th>\n      <th>Missing Count</th>\n      <th>Not Missing Count</th>\n      <th>Percent missing</th>\n      <th>Error Count</th>\n      <th>Empty count</th>\n      <th>0.1% Quantile</th>\n      <th>1% Quantile</th>\n      <th>5% Quantile</th>\n      <th>25% Quantile</th>\n      <th>50% Quantile</th>\n      <th>75% Quantile</th>\n      <th>95% Quantile</th>\n      <th>99% Quantile</th>\n      <th>99.9% Quantile</th>\n      <th>Mean</th>\n      <th>Standard Deviation</th>\n      <th>Variance</th>\n      <th>Skewness</th>\n      <th>Kurtosis</th>\n    </tr>\n  </thead>\n  <tbody>\n    <tr>\n      <th>vendor</th>\n      <td>FieldType.STRING</td>\n      <td>1</td>\n      <td>VTS</td>\n      <td>7059.0</td>\n      <td>0.0</td>\n      <td>7059.0</td>\n      <td>0.0</td>\n      <td>0.0</td>\n      <td>0.0</td>\n      <td></td>\n      <td></td>\n      <td></td>\n      <td></td>\n      <td></td>\n      <td></td>\n      <td></td>\n      <td></td>\n      <td></td>\n      <td></td>\n      <td></td>\n      <td></td>\n      <td></td>\n      <td></td>\n    </tr>\n    <tr>\n      <th>pickup_datetime</th>\n      <td>FieldType.STRING</td>\n      <td>2009-01-01 20:52:58</td>\n      <td>2013-08-31 23:59:14</td>\n      <td>7059.0</td>\n      <td>0.0</td>\n      <td>7059.0</td>\n      <td>0.0</td>\n      <td>0.0</td>\n      <td>0.0</td>\n      <td></td>\n      <td></td>\n      <td></td>\n      <td></td>\n      <td></td>\n      <td></td>\n      <td></td>\n      <td></td>\n      <td></td>\n      <td></td>\n      <td></td>\n      <td></td>\n      <td></td>\n      <td></td>\n    </tr>\n    <tr>\n      <th>pickup_date</th>\n      <td>FieldType.STRING</td>\n      <td>2009-01-01</td>\n      <td>2013-08-31</td>\n      <td>7059.0</td>\n      <td>0.0</td>\n      <td>7059.0</td>\n      <td>0.0</td>\n      <td>0.0</td>\n      <td>0.0</td>\n      <td></td>\n      <td></td>\n      <td></td>\n      <td></td>\n      <td></td>\n      <td></td>\n      <td></td>\n      <td></td>\n      <td></td>\n      <td></td>\n      <td></td>\n      <td></td>\n      <td></td>\n      <td></td>\n    </tr>\n    <tr>\n      <th>pickup_time</th>\n      <td>FieldType.STRING</td>\n      <td>00:00:48</td>\n      <td>23:59:48</td>\n      <td>7059.0</td>\n      <td>0.0</td>\n      <td>7059.0</td>\n      <td>0.0</td>\n      <td>0.0</td>\n      <td>0.0</td>\n      <td></td>\n      <td></td>\n      <td></td>\n      <td></td>\n      <td></td>\n      <td></td>\n      <td></td>\n      <td></td>\n      <td></td>\n      <td></td>\n      <td></td>\n      <td></td>\n      <td></td>\n      <td></td>\n    </tr>\n    <tr>\n      <th>dropoff_datetime</th>\n      <td>FieldType.STRING</td>\n      <td>2009-01-01 21:14:00</td>\n      <td>2013-09-01 00:25:07</td>\n      <td>7059.0</td>\n      <td>0.0</td>\n      <td>7059.0</td>\n      <td>0.0</td>\n      <td>0.0</td>\n      <td>0.0</td>\n      <td></td>\n      <td></td>\n      <td></td>\n      <td></td>\n      <td></td>\n      <td></td>\n      <td></td>\n      <td></td>\n      <td></td>\n      <td></td>\n      <td></td>\n      <td></td>\n      <td></td>\n      <td></td>\n    </tr>\n    <tr>\n      <th>dropoff_date</th>\n      <td>FieldType.STRING</td>\n      <td>2009-01-01</td>\n      <td>2013-09-01</td>\n      <td>7059.0</td>\n      <td>0.0</td>\n      <td>7059.0</td>\n      <td>0.0</td>\n      <td>0.0</td>\n      <td>0.0</td>\n      <td></td>\n      <td></td>\n      <td></td>\n      <td></td>\n      <td></td>\n      <td></td>\n      <td></td>\n      <td></td>\n      <td></td>\n      <td></td>\n      <td></td>\n      <td></td>\n      <td></td>\n      <td></td>\n    </tr>\n    <tr>\n      <th>dropoff_time</th>\n      <td>FieldType.STRING</td>\n      <td>00:00:00</td>\n      <td>23:59:45</td>\n      <td>7059.0</td>\n      <td>0.0</td>\n      <td>7059.0</td>\n      <td>0.0</td>\n      <td>0.0</td>\n      <td>0.0</td>\n      <td></td>\n      <td></td>\n      <td></td>\n      <td></td>\n      <td></td>\n      <td></td>\n      <td></td>\n      <td></td>\n      <td></td>\n      <td></td>\n      <td></td>\n      <td></td>\n      <td></td>\n      <td></td>\n    </tr>\n    <tr>\n      <th>store_forward</th>\n      <td>FieldType.STRING</td>\n      <td>N</td>\n      <td>Y</td>\n      <td>7059.0</td>\n      <td>0.0</td>\n      <td>7059.0</td>\n      <td>0.0</td>\n      <td>0.0</td>\n      <td>0.0</td>\n      <td></td>\n      <td></td>\n      <td></td>\n      <td></td>\n      <td></td>\n      <td></td>\n      <td></td>\n      <td></td>\n      <td></td>\n      <td></td>\n      <td></td>\n      <td></td>\n      <td></td>\n      <td></td>\n    </tr>\n    <tr>\n      <th>pickup_longitude</th>\n      <td>FieldType.DECIMAL</td>\n      <td>-74.0782</td>\n      <td>-73.7365</td>\n      <td>7059.0</td>\n      <td>0.0</td>\n      <td>7059.0</td>\n      <td>0.0</td>\n      <td>0.0</td>\n      <td>0.0</td>\n      <td>-74.078</td>\n      <td>-73.9625</td>\n      <td>-73.9627</td>\n      <td>-73.949</td>\n      <td>-73.9278</td>\n      <td>-73.8657</td>\n      <td>-73.8304</td>\n      <td>-73.8241</td>\n      <td>-73.7693</td>\n      <td>-73.9139</td>\n      <td>0.0487111</td>\n      <td>0.00237277</td>\n      <td>0.402697</td>\n      <td>-0.613516</td>\n    </tr>\n    <tr>\n      <th>pickup_latitude</th>\n      <td>FieldType.DECIMAL</td>\n      <td>40.5755</td>\n      <td>40.8799</td>\n      <td>7059.0</td>\n      <td>0.0</td>\n      <td>7059.0</td>\n      <td>0.0</td>\n      <td>0.0</td>\n      <td>0.0</td>\n      <td>40.6333</td>\n      <td>40.7132</td>\n      <td>40.7131</td>\n      <td>40.7214</td>\n      <td>40.7581</td>\n      <td>40.8051</td>\n      <td>40.8488</td>\n      <td>40.8676</td>\n      <td>40.8778</td>\n      <td>40.7652</td>\n      <td>0.0483485</td>\n      <td>0.00233758</td>\n      <td>0.228088</td>\n      <td>-0.598862</td>\n    </tr>\n    <tr>\n      <th>dropoff_longitude</th>\n      <td>FieldType.DECIMAL</td>\n      <td>-74.0857</td>\n      <td>-73.7209</td>\n      <td>7059.0</td>\n      <td>0.0</td>\n      <td>7059.0</td>\n      <td>0.0</td>\n      <td>0.0</td>\n      <td>0.0</td>\n      <td>-74.0782</td>\n      <td>-73.9857</td>\n      <td>-73.9864</td>\n      <td>-73.959</td>\n      <td>-73.9368</td>\n      <td>-73.8849</td>\n      <td>-73.8156</td>\n      <td>-73.7767</td>\n      <td>-73.7335</td>\n      <td>-73.9207</td>\n      <td>0.055961</td>\n      <td>0.00313163</td>\n      <td>0.648649</td>\n      <td>0.0229141</td>\n    </tr>\n    <tr>\n      <th>dropoff_latitude</th>\n      <td>FieldType.DECIMAL</td>\n      <td>40.5835</td>\n      <td>40.8797</td>\n      <td>7059.0</td>\n      <td>0.0</td>\n      <td>7059.0</td>\n      <td>0.0</td>\n      <td>0.0</td>\n      <td>0.0</td>\n      <td>40.6004</td>\n      <td>40.6955</td>\n      <td>40.6938</td>\n      <td>40.7276</td>\n      <td>40.7582</td>\n      <td>40.7884</td>\n      <td>40.8505</td>\n      <td>40.8679</td>\n      <td>40.8787</td>\n      <td>40.7595</td>\n      <td>0.0504621</td>\n      <td>0.00254642</td>\n      <td>0.0484179</td>\n      <td>-0.0368799</td>\n    </tr>\n    <tr>\n      <th>passengers</th>\n      <td>FieldType.STRING</td>\n      <td>1</td>\n      <td>6</td>\n      <td>7059.0</td>\n      <td>0.0</td>\n      <td>7059.0</td>\n      <td>0.0</td>\n      <td>0.0</td>\n      <td>0.0</td>\n      <td></td>\n      <td></td>\n      <td></td>\n      <td></td>\n      <td></td>\n      <td></td>\n      <td></td>\n      <td></td>\n      <td></td>\n      <td></td>\n      <td></td>\n      <td></td>\n      <td></td>\n      <td></td>\n    </tr>\n    <tr>\n      <th>distance</th>\n      <td>FieldType.DECIMAL</td>\n      <td>0</td>\n      <td>32.34</td>\n      <td>7059.0</td>\n      <td>0.0</td>\n      <td>7059.0</td>\n      <td>0.0</td>\n      <td>0.0</td>\n      <td>0.0</td>\n      <td>0</td>\n      <td>0</td>\n      <td>0</td>\n      <td>0.887981</td>\n      <td>2.00928</td>\n      <td>4.25606</td>\n      <td>10.1154</td>\n      <td>14.6278</td>\n      <td>20.3838</td>\n      <td>3.08739</td>\n      <td>3.29596</td>\n      <td>10.8634</td>\n      <td>1.92426</td>\n      <td>5.0772</td>\n    </tr>\n    <tr>\n      <th>cost</th>\n      <td>FieldType.STRING</td>\n      <td>0</td>\n      <td>90</td>\n      <td>7059.0</td>\n      <td>0.0</td>\n      <td>7059.0</td>\n      <td>0.0</td>\n      <td>0.0</td>\n      <td>0.0</td>\n      <td></td>\n      <td></td>\n      <td></td>\n      <td></td>\n      <td></td>\n      <td></td>\n      <td></td>\n      <td></td>\n      <td></td>\n      <td></td>\n      <td></td>\n      <td></td>\n      <td></td>\n      <td></td>\n    </tr>\n  </tbody>\n</table>",
            "text/plain": "ColumnProfile:\n    column_name: vendor\n    type: FieldType.STRING\n\n    min: 1\n    max: VTS\n    count: 7059.0\n    missing_count: 0.0\n    not_missing_count: 7059.0\n    percent_missing: 0.0\n    error_count: 0.0\n    empty_count: 0.0\n\n\nColumnProfile:\n    column_name: pickup_datetime\n    type: FieldType.STRING\n\n    min: 2009-01-01 20:52:58\n    max: 2013-08-31 23:59:14\n    count: 7059.0\n    missing_count: 0.0\n    not_missing_count: 7059.0\n    percent_missing: 0.0\n    error_count: 0.0\n    empty_count: 0.0\n\n\nColumnProfile:\n    column_name: pickup_date\n    type: FieldType.STRING\n\n    min: 2009-01-01\n    max: 2013-08-31\n    count: 7059.0\n    missing_count: 0.0\n    not_missing_count: 7059.0\n    percent_missing: 0.0\n    error_count: 0.0\n    empty_count: 0.0\n\n\nColumnProfile:\n    column_name: pickup_time\n    type: FieldType.STRING\n\n    min: 00:00:48\n    max: 23:59:48\n    count: 7059.0\n    missing_count: 0.0\n    not_missing_count: 7059.0\n    percent_missing: 0.0\n    error_count: 0.0\n    empty_count: 0.0\n\n\nColumnProfile:\n    column_name: dropoff_datetime\n    type: FieldType.STRING\n\n    min: 2009-01-01 21:14:00\n    max: 2013-09-01 00:25:07\n    count: 7059.0\n    missing_count: 0.0\n    not_missing_count: 7059.0\n    percent_missing: 0.0\n    error_count: 0.0\n    empty_count: 0.0\n\n\nColumnProfile:\n    column_name: dropoff_date\n    type: FieldType.STRING\n\n    min: 2009-01-01\n    max: 2013-09-01\n    count: 7059.0\n    missing_count: 0.0\n    not_missing_count: 7059.0\n    percent_missing: 0.0\n    error_count: 0.0\n    empty_count: 0.0\n\n\nColumnProfile:\n    column_name: dropoff_time\n    type: FieldType.STRING\n\n    min: 00:00:00\n    max: 23:59:45\n    count: 7059.0\n    missing_count: 0.0\n    not_missing_count: 7059.0\n    percent_missing: 0.0\n    error_count: 0.0\n    empty_count: 0.0\n\n\nColumnProfile:\n    column_name: store_forward\n    type: FieldType.STRING\n\n    min: N\n    max: Y\n    count: 7059.0\n    missing_count: 0.0\n    not_missing_count: 7059.0\n    percent_missing: 0.0\n    error_count: 0.0\n    empty_count: 0.0\n\n\nColumnProfile:\n    column_name: pickup_longitude\n    type: FieldType.DECIMAL\n\n    min: -74.07815551757812\n    max: -73.73648071289062\n    count: 7059.0\n    missing_count: 0.0\n    not_missing_count: 7059.0\n    percent_missing: 0.0\n    error_count: 0.0\n    empty_count: 0.0\n\n\n    Quantiles:\n         0.1%: -74.07800554656983\n           1%: -73.9625381253672\n           5%: -73.96271681648763\n          25%: -73.94899418369535\n          50%: -73.92781608686656\n          75%: -73.86568757556734\n          95%: -73.83036085451191\n          99%: -73.82408028185196\n        99.9%: -73.76933835267566\n\n    mean: -73.91386493958264\n    std: 0.04871109408945094\n    variance: 0.002372770687391343\n    skewness: 0.40269738982876896\n    kurtosis: -0.6135155980288367\n\nColumnProfile:\n    column_name: pickup_latitude\n    type: FieldType.DECIMAL\n\n    min: 40.57548522949219\n    max: 40.879852294921875\n    count: 7059.0\n    missing_count: 0.0\n    not_missing_count: 7059.0\n    percent_missing: 0.0\n    error_count: 0.0\n    empty_count: 0.0\n\n\n    Quantiles:\n         0.1%: 40.63325949859619\n           1%: 40.71318882397242\n           5%: 40.71310997009277\n          25%: 40.72136940522559\n          50%: 40.75814734274077\n          75%: 40.80511719469699\n          95%: 40.84884778760839\n          99%: 40.867565543101385\n        99.9%: 40.8777873061498\n\n    mean: 40.76522599299848\n    std: 0.048348486975952946\n    variance: 0.002337576192863892\n    skewness: 0.22808816936950824\n    kurtosis: -0.5988623711401839\n\nColumnProfile:\n    column_name: dropoff_longitude\n    type: FieldType.DECIMAL\n\n    min: -74.08574676513672\n    max: -73.72087097167969\n    count: 7059.0\n    missing_count: 0.0\n    not_missing_count: 7059.0\n    percent_missing: 0.0\n    error_count: 0.0\n    empty_count: 0.0\n\n\n    Quantiles:\n         0.1%: -74.07818688964844\n           1%: -73.98567926468519\n           5%: -73.9863762488732\n          25%: -73.95902368337272\n          50%: -73.93676169016139\n          75%: -73.88494428725468\n          95%: -73.81556715560116\n          99%: -73.77670712575907\n        99.9%: -73.73347627487183\n\n    mean: -73.92071783817232\n    std: 0.05596095716658376\n    variance: 0.003131628727000222\n    skewness: 0.648648946871952\n    kurtosis: 0.022914068468275595\n\nColumnProfile:\n    column_name: dropoff_latitude\n    type: FieldType.DECIMAL\n\n    min: 40.58353042602539\n    max: 40.87973403930664\n    count: 7059.0\n    missing_count: 0.0\n    not_missing_count: 7059.0\n    percent_missing: 0.0\n    error_count: 0.0\n    empty_count: 0.0\n\n\n    Quantiles:\n         0.1%: 40.600360892308224\n           1%: 40.695507700662404\n           5%: 40.69378039042154\n          25%: 40.72760406115935\n          50%: 40.75816282826525\n          75%: 40.788390210071086\n          95%: 40.85051895320416\n          99%: 40.86785722351075\n        99.9%: 40.87870288767134\n\n    mean: 40.7594872258256\n    std: 0.05046209380939558\n    variance: 0.0025464229116282395\n    skewness: 0.048417933848660985\n    kurtosis: -0.0368799343056212\n\nColumnProfile:\n    column_name: passengers\n    type: FieldType.STRING\n\n    min: 1\n    max: 6\n    count: 7059.0\n    missing_count: 0.0\n    not_missing_count: 7059.0\n    percent_missing: 0.0\n    error_count: 0.0\n    empty_count: 0.0\n\n\nColumnProfile:\n    column_name: distance\n    type: FieldType.DECIMAL\n\n    min: 0.0\n    max: 32.34\n    count: 7059.0\n    missing_count: 0.0\n    not_missing_count: 7059.0\n    percent_missing: 0.0\n    error_count: 0.0\n    empty_count: 0.0\n\n\n    Quantiles:\n         0.1%: 0.0\n           1%: 0.0\n           5%: 0.0\n          25%: 0.8879813432835821\n          50%: 2.00928191113577\n          75%: 4.256064516129032\n          95%: 10.115352306852298\n          99%: 14.62776848484848\n        99.9%: 20.383848833333303\n\n    mean: 3.087386315342124\n    std: 3.2959621233744296\n    variance: 10.86336631871888\n    skewness: 1.924264558987612\n    kurtosis: 5.077200079122136\n\nColumnProfile:\n    column_name: cost\n    type: FieldType.STRING\n\n    min: 0\n    max: 90\n    count: 7059.0\n    missing_count: 0.0\n    not_missing_count: 7059.0\n    percent_missing: 0.0\n    error_count: 0.0\n    empty_count: 0.0\n"
          },
          "metadata": {}
        }
      ]
    },
    {
      "metadata": {},
      "cell_type": "markdown",
      "source": "## Transform data"
    },
    {
      "metadata": {},
      "cell_type": "markdown",
      "source": "Split the pickup and drop-off date further into day of week, day of month, and month. To get day of week, use the `derive_column_by_example()` function. This function takes as a parameter an array of example objects that define the input data, and the desired output. The function then automatically determines your desired transformation. For pickup and drop-off time columns, split into hour, minute, and second using the `split_column_by_example()` function with no example parameter.\n\nOnce you have generated these new features, delete the original fields in favor of the newly generated features using `drop_columns()`. Rename all remaining fields to accurate descriptions."
    },
    {
      "metadata": {
        "trusted": true
      },
      "cell_type": "code",
      "source": "tmp_df = (combined_df\n    .derive_column_by_example(\n        source_columns=\"pickup_date\", \n        new_column_name=\"pickup_weekday\", \n        example_data=[(\"2009-01-04\", \"Sunday\"), (\"2013-08-22\", \"Thursday\")]\n    )\n    .derive_column_by_example(\n        source_columns=\"dropoff_date\",\n        new_column_name=\"dropoff_weekday\",\n        example_data=[(\"2013-08-22\", \"Thursday\"), (\"2013-11-03\", \"Sunday\")]\n    )\n          \n    .split_column_by_example(source_column=\"pickup_time\")\n    .split_column_by_example(source_column=\"dropoff_time\")\n    # the following two split_column_by_example calls reference the generated column names from the above two calls\n    .split_column_by_example(source_column=\"pickup_time_1\")\n    .split_column_by_example(source_column=\"dropoff_time_1\")\n    .drop_columns(columns=[\n        \"pickup_date\", \"pickup_time\", \"dropoff_date\", \"dropoff_time\", \n        \"pickup_date_1\", \"dropoff_date_1\", \"pickup_time_1\", \"dropoff_time_1\"\n    ])\n          \n    .rename_columns(column_pairs={\n        \"pickup_date_2\": \"pickup_month\",\n        \"pickup_date_3\": \"pickup_monthday\",\n        \"pickup_time_1_1\": \"pickup_hour\",\n        \"pickup_time_1_2\": \"pickup_minute\",\n        \"pickup_time_2\": \"pickup_second\",\n        \"dropoff_date_2\": \"dropoff_month\",\n        \"dropoff_date_3\": \"dropoff_monthday\",\n        \"dropoff_time_1_1\": \"dropoff_hour\",\n        \"dropoff_time_1_2\": \"dropoff_minute\",\n        \"dropoff_time_2\": \"dropoff_second\"\n    }))\n\ntmp_df.head(5)",
      "execution_count": 19,
      "outputs": [
        {
          "output_type": "execute_result",
          "execution_count": 19,
          "data": {
            "text/html": "<div>\n<style scoped>\n    .dataframe tbody tr th:only-of-type {\n        vertical-align: middle;\n    }\n\n    .dataframe tbody tr th {\n        vertical-align: top;\n    }\n\n    .dataframe thead th {\n        text-align: right;\n    }\n</style>\n<table border=\"1\" class=\"dataframe\">\n  <thead>\n    <tr style=\"text-align: right;\">\n      <th></th>\n      <th>vendor</th>\n      <th>pickup_datetime</th>\n      <th>pickup_weekday</th>\n      <th>pickup_hour</th>\n      <th>pickup_minute</th>\n      <th>pickup_second</th>\n      <th>dropoff_datetime</th>\n      <th>dropoff_weekday</th>\n      <th>dropoff_hour</th>\n      <th>dropoff_minute</th>\n      <th>dropoff_second</th>\n      <th>store_forward</th>\n      <th>pickup_longitude</th>\n      <th>pickup_latitude</th>\n      <th>dropoff_longitude</th>\n      <th>dropoff_latitude</th>\n      <th>passengers</th>\n      <th>distance</th>\n      <th>cost</th>\n    </tr>\n  </thead>\n  <tbody>\n    <tr>\n      <th>0</th>\n      <td>2</td>\n      <td>2013-08-01 17:22:00</td>\n      <td>Thursday</td>\n      <td>17</td>\n      <td>22</td>\n      <td>00</td>\n      <td>2013-08-01 17:22:00</td>\n      <td>Thursday</td>\n      <td>17</td>\n      <td>22</td>\n      <td>00</td>\n      <td>N</td>\n      <td>-73.937767</td>\n      <td>40.758480</td>\n      <td>-73.937767</td>\n      <td>40.758480</td>\n      <td>1</td>\n      <td>0.0</td>\n      <td>2.5</td>\n    </tr>\n    <tr>\n      <th>1</th>\n      <td>2</td>\n      <td>2013-08-01 17:24:00</td>\n      <td>Thursday</td>\n      <td>17</td>\n      <td>24</td>\n      <td>00</td>\n      <td>2013-08-01 17:25:00</td>\n      <td>Thursday</td>\n      <td>17</td>\n      <td>25</td>\n      <td>00</td>\n      <td>N</td>\n      <td>-73.937927</td>\n      <td>40.757843</td>\n      <td>-73.937927</td>\n      <td>40.757843</td>\n      <td>1</td>\n      <td>0.0</td>\n      <td>2.5</td>\n    </tr>\n    <tr>\n      <th>2</th>\n      <td>2</td>\n      <td>2013-08-06 06:51:19</td>\n      <td>Tuesday</td>\n      <td>06</td>\n      <td>51</td>\n      <td>19</td>\n      <td>2013-08-06 06:51:36</td>\n      <td>Tuesday</td>\n      <td>06</td>\n      <td>51</td>\n      <td>36</td>\n      <td>N</td>\n      <td>-73.937721</td>\n      <td>40.758404</td>\n      <td>-73.937721</td>\n      <td>40.758369</td>\n      <td>1</td>\n      <td>0.0</td>\n      <td>3.3</td>\n    </tr>\n    <tr>\n      <th>3</th>\n      <td>2</td>\n      <td>2013-08-06 13:26:34</td>\n      <td>Tuesday</td>\n      <td>13</td>\n      <td>26</td>\n      <td>34</td>\n      <td>2013-08-06 13:26:57</td>\n      <td>Tuesday</td>\n      <td>13</td>\n      <td>26</td>\n      <td>57</td>\n      <td>N</td>\n      <td>-73.937691</td>\n      <td>40.758419</td>\n      <td>-73.937790</td>\n      <td>40.758358</td>\n      <td>1</td>\n      <td>0.0</td>\n      <td>3.3</td>\n    </tr>\n    <tr>\n      <th>4</th>\n      <td>2</td>\n      <td>2013-08-06 13:27:53</td>\n      <td>Tuesday</td>\n      <td>13</td>\n      <td>27</td>\n      <td>53</td>\n      <td>2013-08-06 13:28:08</td>\n      <td>Tuesday</td>\n      <td>13</td>\n      <td>28</td>\n      <td>08</td>\n      <td>N</td>\n      <td>-73.937805</td>\n      <td>40.758396</td>\n      <td>-73.937775</td>\n      <td>40.758450</td>\n      <td>1</td>\n      <td>0.0</td>\n      <td>3.3</td>\n    </tr>\n  </tbody>\n</table>\n</div>",
            "text/plain": "  vendor      pickup_datetime pickup_weekday pickup_hour pickup_minute  \\\n0      2  2013-08-01 17:22:00       Thursday          17            22   \n1      2  2013-08-01 17:24:00       Thursday          17            24   \n2      2  2013-08-06 06:51:19        Tuesday          06            51   \n3      2  2013-08-06 13:26:34        Tuesday          13            26   \n4      2  2013-08-06 13:27:53        Tuesday          13            27   \n\n  pickup_second     dropoff_datetime dropoff_weekday dropoff_hour  \\\n0            00  2013-08-01 17:22:00        Thursday           17   \n1            00  2013-08-01 17:25:00        Thursday           17   \n2            19  2013-08-06 06:51:36         Tuesday           06   \n3            34  2013-08-06 13:26:57         Tuesday           13   \n4            53  2013-08-06 13:28:08         Tuesday           13   \n\n  dropoff_minute dropoff_second store_forward  pickup_longitude  \\\n0             22             00             N        -73.937767   \n1             25             00             N        -73.937927   \n2             51             36             N        -73.937721   \n3             26             57             N        -73.937691   \n4             28             08             N        -73.937805   \n\n   pickup_latitude  dropoff_longitude  dropoff_latitude passengers  distance  \\\n0        40.758480         -73.937767         40.758480          1       0.0   \n1        40.757843         -73.937927         40.757843          1       0.0   \n2        40.758404         -73.937721         40.758369          1       0.0   \n3        40.758419         -73.937790         40.758358          1       0.0   \n4        40.758396         -73.937775         40.758450          1       0.0   \n\n  cost  \n0  2.5  \n1  2.5  \n2  3.3  \n3  3.3  \n4  3.3  "
          },
          "metadata": {}
        }
      ]
    },
    {
      "metadata": {},
      "cell_type": "markdown",
      "source": "From the data above, you see that the pickup and drop-off date and time components produced from the derived transformations are correct. Drop the `pickup_datetime` and `dropoff_datetime` columns as they are no longer needed."
    },
    {
      "metadata": {
        "trusted": true
      },
      "cell_type": "code",
      "source": "tmp_df = tmp_df.drop_columns(columns=[\"pickup_datetime\", \"dropoff_datetime\"])",
      "execution_count": 20,
      "outputs": []
    },
    {
      "metadata": {},
      "cell_type": "markdown",
      "source": "Use the type inference functionality to automatically check the data type of each field, and display the inference results."
    },
    {
      "metadata": {
        "trusted": true
      },
      "cell_type": "code",
      "source": "type_infer = tmp_df.builders.set_column_types()\ntype_infer.learn()\ntype_infer",
      "execution_count": 21,
      "outputs": [
        {
          "output_type": "execute_result",
          "execution_count": 21,
          "data": {
            "text/plain": "Column types conversion candidates:\n'pickup_weekday': [FieldType.STRING],\n'pickup_latitude': [FieldType.DECIMAL],\n'dropoff_longitude': [FieldType.DECIMAL],\n'dropoff_latitude': [FieldType.DECIMAL],\n'passengers': [FieldType.DECIMAL],\n'distance': [FieldType.DECIMAL],\n'cost': [FieldType.DECIMAL],\n'vendor': [FieldType.STRING],\n'pickup_hour': [FieldType.DECIMAL],\n'pickup_minute': [FieldType.DECIMAL],\n'pickup_second': [FieldType.DECIMAL],\n'dropoff_weekday': [FieldType.STRING],\n'dropoff_hour': [FieldType.DECIMAL],\n'dropoff_minute': [FieldType.DECIMAL],\n'dropoff_second': [FieldType.DECIMAL],\n'store_forward': [FieldType.BOOLEAN],\n'pickup_longitude': [FieldType.DECIMAL]"
          },
          "metadata": {}
        }
      ]
    },
    {
      "metadata": {},
      "cell_type": "markdown",
      "source": "The inference results look correct based on the data, now apply the type conversions to the dataflow."
    },
    {
      "metadata": {
        "trusted": true
      },
      "cell_type": "code",
      "source": "tmp_df = type_infer.to_dataflow()\ntmp_df.get_profile()",
      "execution_count": 22,
      "outputs": [
        {
          "output_type": "execute_result",
          "execution_count": 22,
          "data": {
            "text/html": "<table border=\"1\" class=\"dataframe\">\n  <thead>\n    <tr style=\"text-align: right;\">\n      <th></th>\n      <th>Type</th>\n      <th>Min</th>\n      <th>Max</th>\n      <th>Count</th>\n      <th>Missing Count</th>\n      <th>Not Missing Count</th>\n      <th>Percent missing</th>\n      <th>Error Count</th>\n      <th>Empty count</th>\n      <th>0.1% Quantile</th>\n      <th>1% Quantile</th>\n      <th>5% Quantile</th>\n      <th>25% Quantile</th>\n      <th>50% Quantile</th>\n      <th>75% Quantile</th>\n      <th>95% Quantile</th>\n      <th>99% Quantile</th>\n      <th>99.9% Quantile</th>\n      <th>Mean</th>\n      <th>Standard Deviation</th>\n      <th>Variance</th>\n      <th>Skewness</th>\n      <th>Kurtosis</th>\n    </tr>\n  </thead>\n  <tbody>\n    <tr>\n      <th>vendor</th>\n      <td>FieldType.STRING</td>\n      <td>1</td>\n      <td>VTS</td>\n      <td>7059.0</td>\n      <td>0.0</td>\n      <td>7059.0</td>\n      <td>0.0</td>\n      <td>0.0</td>\n      <td>0.0</td>\n      <td></td>\n      <td></td>\n      <td></td>\n      <td></td>\n      <td></td>\n      <td></td>\n      <td></td>\n      <td></td>\n      <td></td>\n      <td></td>\n      <td></td>\n      <td></td>\n      <td></td>\n      <td></td>\n    </tr>\n    <tr>\n      <th>pickup_weekday</th>\n      <td>FieldType.STRING</td>\n      <td>Friday</td>\n      <td>Wednesday</td>\n      <td>7059.0</td>\n      <td>0.0</td>\n      <td>7059.0</td>\n      <td>0.0</td>\n      <td>0.0</td>\n      <td>0.0</td>\n      <td></td>\n      <td></td>\n      <td></td>\n      <td></td>\n      <td></td>\n      <td></td>\n      <td></td>\n      <td></td>\n      <td></td>\n      <td></td>\n      <td></td>\n      <td></td>\n      <td></td>\n      <td></td>\n    </tr>\n    <tr>\n      <th>pickup_hour</th>\n      <td>FieldType.DECIMAL</td>\n      <td>0</td>\n      <td>23</td>\n      <td>7059.0</td>\n      <td>0.0</td>\n      <td>7059.0</td>\n      <td>0.0</td>\n      <td>0.0</td>\n      <td>0.0</td>\n      <td>0</td>\n      <td>3.7504</td>\n      <td>3</td>\n      <td>10</td>\n      <td>16</td>\n      <td>19</td>\n      <td>22.1376</td>\n      <td>23</td>\n      <td>23</td>\n      <td>14.2326</td>\n      <td>6.34926</td>\n      <td>40.3131</td>\n      <td>-0.693335</td>\n      <td>-0.459336</td>\n    </tr>\n    <tr>\n      <th>pickup_minute</th>\n      <td>FieldType.DECIMAL</td>\n      <td>0</td>\n      <td>59</td>\n      <td>7059.0</td>\n      <td>0.0</td>\n      <td>7059.0</td>\n      <td>0.0</td>\n      <td>0.0</td>\n      <td>0.0</td>\n      <td>0</td>\n      <td>5</td>\n      <td>5</td>\n      <td>14</td>\n      <td>29.4903</td>\n      <td>44.8062</td>\n      <td>56.7184</td>\n      <td>59</td>\n      <td>59</td>\n      <td>29.4635</td>\n      <td>17.4396</td>\n      <td>304.14</td>\n      <td>0.00440324</td>\n      <td>-1.20458</td>\n    </tr>\n    <tr>\n      <th>pickup_second</th>\n      <td>FieldType.DECIMAL</td>\n      <td>0</td>\n      <td>59</td>\n      <td>7059.0</td>\n      <td>0.0</td>\n      <td>7059.0</td>\n      <td>0.0</td>\n      <td>0.0</td>\n      <td>0.0</td>\n      <td>0</td>\n      <td>5.02995</td>\n      <td>5</td>\n      <td>14.7086</td>\n      <td>29.9385</td>\n      <td>44.5977</td>\n      <td>56.9191</td>\n      <td>59</td>\n      <td>59</td>\n      <td>29.6225</td>\n      <td>17.3868</td>\n      <td>302.302</td>\n      <td>-0.0227466</td>\n      <td>-1.19409</td>\n    </tr>\n    <tr>\n      <th>dropoff_weekday</th>\n      <td>FieldType.STRING</td>\n      <td>Friday</td>\n      <td>Wednesday</td>\n      <td>7059.0</td>\n      <td>0.0</td>\n      <td>7059.0</td>\n      <td>0.0</td>\n      <td>0.0</td>\n      <td>0.0</td>\n      <td></td>\n      <td></td>\n      <td></td>\n      <td></td>\n      <td></td>\n      <td></td>\n      <td></td>\n      <td></td>\n      <td></td>\n      <td></td>\n      <td></td>\n      <td></td>\n      <td></td>\n      <td></td>\n    </tr>\n    <tr>\n      <th>dropoff_hour</th>\n      <td>FieldType.DECIMAL</td>\n      <td>0</td>\n      <td>23</td>\n      <td>7059.0</td>\n      <td>0.0</td>\n      <td>7059.0</td>\n      <td>0.0</td>\n      <td>0.0</td>\n      <td>0.0</td>\n      <td>0</td>\n      <td>3</td>\n      <td>3</td>\n      <td>10</td>\n      <td>16</td>\n      <td>19</td>\n      <td>22.0764</td>\n      <td>23</td>\n      <td>23</td>\n      <td>14.1815</td>\n      <td>6.45578</td>\n      <td>41.677</td>\n      <td>-0.691001</td>\n      <td>-0.500215</td>\n    </tr>\n    <tr>\n      <th>dropoff_minute</th>\n      <td>FieldType.DECIMAL</td>\n      <td>0</td>\n      <td>59</td>\n      <td>7059.0</td>\n      <td>0.0</td>\n      <td>7059.0</td>\n      <td>0.0</td>\n      <td>0.0</td>\n      <td>0.0</td>\n      <td>0</td>\n      <td>5.14087</td>\n      <td>5</td>\n      <td>14</td>\n      <td>28.9957</td>\n      <td>44.0043</td>\n      <td>56.8986</td>\n      <td>59</td>\n      <td>59</td>\n      <td>29.353</td>\n      <td>17.4241</td>\n      <td>303.598</td>\n      <td>0.0142562</td>\n      <td>-1.21531</td>\n    </tr>\n    <tr>\n      <th>dropoff_second</th>\n      <td>FieldType.DECIMAL</td>\n      <td>0</td>\n      <td>59</td>\n      <td>7059.0</td>\n      <td>0.0</td>\n      <td>7059.0</td>\n      <td>0.0</td>\n      <td>0.0</td>\n      <td>0.0</td>\n      <td>0</td>\n      <td>5</td>\n      <td>5</td>\n      <td>14.8268</td>\n      <td>29.6546</td>\n      <td>45.2547</td>\n      <td>56</td>\n      <td>59</td>\n      <td>59</td>\n      <td>29.7923</td>\n      <td>17.481</td>\n      <td>305.585</td>\n      <td>-0.0281313</td>\n      <td>-1.21965</td>\n    </tr>\n    <tr>\n      <th>store_forward</th>\n      <td>FieldType.BOOLEAN</td>\n      <td>False</td>\n      <td>True</td>\n      <td>7059.0</td>\n      <td>0.0</td>\n      <td>7059.0</td>\n      <td>0.0</td>\n      <td>0.0</td>\n      <td>0.0</td>\n      <td></td>\n      <td></td>\n      <td></td>\n      <td></td>\n      <td></td>\n      <td></td>\n      <td></td>\n      <td></td>\n      <td></td>\n      <td></td>\n      <td></td>\n      <td></td>\n      <td></td>\n      <td></td>\n    </tr>\n    <tr>\n      <th>pickup_longitude</th>\n      <td>FieldType.DECIMAL</td>\n      <td>-74.0782</td>\n      <td>-73.7365</td>\n      <td>7059.0</td>\n      <td>0.0</td>\n      <td>7059.0</td>\n      <td>0.0</td>\n      <td>0.0</td>\n      <td>0.0</td>\n      <td>-74.078</td>\n      <td>-73.9625</td>\n      <td>-73.9627</td>\n      <td>-73.949</td>\n      <td>-73.9278</td>\n      <td>-73.8657</td>\n      <td>-73.8304</td>\n      <td>-73.8241</td>\n      <td>-73.7693</td>\n      <td>-73.9139</td>\n      <td>0.0487111</td>\n      <td>0.00237277</td>\n      <td>0.402697</td>\n      <td>-0.613516</td>\n    </tr>\n    <tr>\n      <th>pickup_latitude</th>\n      <td>FieldType.DECIMAL</td>\n      <td>40.5755</td>\n      <td>40.8799</td>\n      <td>7059.0</td>\n      <td>0.0</td>\n      <td>7059.0</td>\n      <td>0.0</td>\n      <td>0.0</td>\n      <td>0.0</td>\n      <td>40.6333</td>\n      <td>40.7132</td>\n      <td>40.7131</td>\n      <td>40.7214</td>\n      <td>40.7581</td>\n      <td>40.8051</td>\n      <td>40.8488</td>\n      <td>40.8676</td>\n      <td>40.8778</td>\n      <td>40.7652</td>\n      <td>0.0483485</td>\n      <td>0.00233758</td>\n      <td>0.228088</td>\n      <td>-0.598862</td>\n    </tr>\n    <tr>\n      <th>dropoff_longitude</th>\n      <td>FieldType.DECIMAL</td>\n      <td>-74.0857</td>\n      <td>-73.7209</td>\n      <td>7059.0</td>\n      <td>0.0</td>\n      <td>7059.0</td>\n      <td>0.0</td>\n      <td>0.0</td>\n      <td>0.0</td>\n      <td>-74.0782</td>\n      <td>-73.9857</td>\n      <td>-73.9864</td>\n      <td>-73.959</td>\n      <td>-73.9368</td>\n      <td>-73.8849</td>\n      <td>-73.8156</td>\n      <td>-73.7767</td>\n      <td>-73.7335</td>\n      <td>-73.9207</td>\n      <td>0.055961</td>\n      <td>0.00313163</td>\n      <td>0.648649</td>\n      <td>0.0229141</td>\n    </tr>\n    <tr>\n      <th>dropoff_latitude</th>\n      <td>FieldType.DECIMAL</td>\n      <td>40.5835</td>\n      <td>40.8797</td>\n      <td>7059.0</td>\n      <td>0.0</td>\n      <td>7059.0</td>\n      <td>0.0</td>\n      <td>0.0</td>\n      <td>0.0</td>\n      <td>40.6004</td>\n      <td>40.6955</td>\n      <td>40.6938</td>\n      <td>40.7276</td>\n      <td>40.7582</td>\n      <td>40.7884</td>\n      <td>40.8505</td>\n      <td>40.8679</td>\n      <td>40.8787</td>\n      <td>40.7595</td>\n      <td>0.0504621</td>\n      <td>0.00254642</td>\n      <td>0.0484179</td>\n      <td>-0.0368799</td>\n    </tr>\n    <tr>\n      <th>passengers</th>\n      <td>FieldType.DECIMAL</td>\n      <td>1</td>\n      <td>6</td>\n      <td>7059.0</td>\n      <td>0.0</td>\n      <td>7059.0</td>\n      <td>0.0</td>\n      <td>0.0</td>\n      <td>0.0</td>\n      <td>1</td>\n      <td>1</td>\n      <td>1</td>\n      <td>1</td>\n      <td>1</td>\n      <td>5</td>\n      <td>5</td>\n      <td>6</td>\n      <td>6</td>\n      <td>2.32979</td>\n      <td>1.79978</td>\n      <td>3.2392</td>\n      <td>0.834099</td>\n      <td>-1.11111</td>\n    </tr>\n    <tr>\n      <th>distance</th>\n      <td>FieldType.DECIMAL</td>\n      <td>0</td>\n      <td>32.34</td>\n      <td>7059.0</td>\n      <td>0.0</td>\n      <td>7059.0</td>\n      <td>0.0</td>\n      <td>0.0</td>\n      <td>0.0</td>\n      <td>0</td>\n      <td>0</td>\n      <td>0</td>\n      <td>0.887981</td>\n      <td>2.00928</td>\n      <td>4.25606</td>\n      <td>10.1154</td>\n      <td>14.6278</td>\n      <td>20.3838</td>\n      <td>3.08739</td>\n      <td>3.29596</td>\n      <td>10.8634</td>\n      <td>1.92426</td>\n      <td>5.0772</td>\n    </tr>\n    <tr>\n      <th>cost</th>\n      <td>FieldType.DECIMAL</td>\n      <td>0</td>\n      <td>444</td>\n      <td>7059.0</td>\n      <td>0.0</td>\n      <td>7059.0</td>\n      <td>0.0</td>\n      <td>0.0</td>\n      <td>0.0</td>\n      <td>0</td>\n      <td>3.00921</td>\n      <td>3</td>\n      <td>5.99304</td>\n      <td>9.50189</td>\n      <td>16.5888</td>\n      <td>33.4665</td>\n      <td>52</td>\n      <td>75.5235</td>\n      <td>12.9112</td>\n      <td>11.6447</td>\n      <td>135.599</td>\n      <td>8.6842</td>\n      <td>269.818</td>\n    </tr>\n  </tbody>\n</table>",
            "text/plain": "ColumnProfile:\n    column_name: vendor\n    type: FieldType.STRING\n\n    min: 1\n    max: VTS\n    count: 7059.0\n    missing_count: 0.0\n    not_missing_count: 7059.0\n    percent_missing: 0.0\n    error_count: 0.0\n    empty_count: 0.0\n\n\nColumnProfile:\n    column_name: pickup_weekday\n    type: FieldType.STRING\n\n    min: Friday\n    max: Wednesday\n    count: 7059.0\n    missing_count: 0.0\n    not_missing_count: 7059.0\n    percent_missing: 0.0\n    error_count: 0.0\n    empty_count: 0.0\n\n\nColumnProfile:\n    column_name: pickup_hour\n    type: FieldType.DECIMAL\n\n    min: 0.0\n    max: 23.0\n    count: 7059.0\n    missing_count: 0.0\n    not_missing_count: 7059.0\n    percent_missing: 0.0\n    error_count: 0.0\n    empty_count: 0.0\n\n\n    Quantiles:\n         0.1%: 0.0\n           1%: 3.750397877984086\n           5%: 3.0\n          25%: 10.0\n          50%: 16.0\n          75%: 19.0\n          95%: 22.13761391880694\n          99%: 23.0\n        99.9%: 23.0\n\n    mean: 14.232610851395394\n    std: 6.3492619547979405\n    variance: 40.313127370644565\n    skewness: -0.6933346236330169\n    kurtosis: -0.45933637654018833\n\nColumnProfile:\n    column_name: pickup_minute\n    type: FieldType.DECIMAL\n\n    min: 0.0\n    max: 59.0\n    count: 7059.0\n    missing_count: 0.0\n    not_missing_count: 7059.0\n    percent_missing: 0.0\n    error_count: 0.0\n    empty_count: 0.0\n\n\n    Quantiles:\n         0.1%: 0.0\n           1%: 5.0\n           5%: 5.0\n          25%: 14.0\n          50%: 29.490296220633297\n          75%: 44.80621661000486\n          95%: 56.71842751842749\n          99%: 59.0\n        99.9%: 59.0\n\n    mean: 29.463521745289782\n    std: 17.43961511160089\n    variance: 304.1401752407781\n    skewness: 0.004403235186436642\n    kurtosis: -1.2045825872291442\n\nColumnProfile:\n    column_name: pickup_second\n    type: FieldType.DECIMAL\n\n    min: 0.0\n    max: 59.0\n    count: 7059.0\n    missing_count: 0.0\n    not_missing_count: 7059.0\n    percent_missing: 0.0\n    error_count: 0.0\n    empty_count: 0.0\n\n\n    Quantiles:\n         0.1%: 0.0\n           1%: 5.029946524064173\n           5%: 5.0\n          25%: 14.708638545087142\n          50%: 29.93852663016426\n          75%: 44.59765625\n          95%: 56.9190909090909\n          99%: 59.0\n        99.9%: 59.0\n\n    mean: 29.62246777163907\n    std: 17.386831494248195\n    variance: 302.30190940938087\n    skewness: -0.022746584878602084\n    kurtosis: -1.194086022369568\n\nColumnProfile:\n    column_name: dropoff_weekday\n    type: FieldType.STRING\n\n    min: Friday\n    max: Wednesday\n    count: 7059.0\n    missing_count: 0.0\n    not_missing_count: 7059.0\n    percent_missing: 0.0\n    error_count: 0.0\n    empty_count: 0.0\n\n\nColumnProfile:\n    column_name: dropoff_hour\n    type: FieldType.DECIMAL\n\n    min: 0.0\n    max: 23.0\n    count: 7059.0\n    missing_count: 0.0\n    not_missing_count: 7059.0\n    percent_missing: 0.0\n    error_count: 0.0\n    empty_count: 0.0\n\n\n    Quantiles:\n         0.1%: 0.0\n           1%: 3.0\n           5%: 3.0\n          25%: 10.0\n          50%: 16.0\n          75%: 19.0\n          95%: 22.076415094339602\n          99%: 23.0\n        99.9%: 23.0\n\n    mean: 14.181470463238407\n    std: 6.455775577121015\n    variance: 41.67703830215217\n    skewness: -0.6910013185430696\n    kurtosis: -0.5002151925128597\n\nColumnProfile:\n    column_name: dropoff_minute\n    type: FieldType.DECIMAL\n\n    min: 0.0\n    max: 59.0\n    count: 7059.0\n    missing_count: 0.0\n    not_missing_count: 7059.0\n    percent_missing: 0.0\n    error_count: 0.0\n    empty_count: 0.0\n\n\n    Quantiles:\n         0.1%: 0.0\n           1%: 5.140868530636528\n           5%: 5.0\n          25%: 14.0\n          50%: 28.995725034199726\n          75%: 44.00428921568627\n          95%: 56.89859981933154\n          99%: 59.0\n        99.9%: 59.0\n\n    mean: 29.353024507720626\n    std: 17.424053976460392\n    variance: 303.59765697460523\n    skewness: 0.014256204213822449\n    kurtosis: -1.2153056342997897\n\nColumnProfile:\n    column_name: dropoff_second\n    type: FieldType.DECIMAL\n\n    min: 0.0\n    max: 59.0\n    count: 7059.0\n    missing_count: 0.0\n    not_missing_count: 7059.0\n    percent_missing: 0.0\n    error_count: 0.0\n    empty_count: 0.0\n\n\n    Quantiles:\n         0.1%: 0.0\n           1%: 5.0\n           5%: 5.0\n          25%: 14.826806314511233\n          50%: 29.654560810810807\n          75%: 45.25471698113208\n          95%: 56.0\n          99%: 59.0\n        99.9%: 59.0\n\n    mean: 29.79232185862021\n    std: 17.481000267086447\n    variance: 305.58537033787644\n    skewness: -0.028131321936678208\n    kurtosis: -1.2196460943795095\n\nColumnProfile:\n    column_name: store_forward\n    type: FieldType.BOOLEAN\n\n    min: False\n    max: True\n    count: 7059.0\n    missing_count: 0.0\n    not_missing_count: 7059.0\n    percent_missing: 0.0\n    error_count: 0.0\n    empty_count: 0.0\n\n\nColumnProfile:\n    column_name: pickup_longitude\n    type: FieldType.DECIMAL\n\n    min: -74.07815551757812\n    max: -73.73648071289062\n    count: 7059.0\n    missing_count: 0.0\n    not_missing_count: 7059.0\n    percent_missing: 0.0\n    error_count: 0.0\n    empty_count: 0.0\n\n\n    Quantiles:\n         0.1%: -74.07800554656983\n           1%: -73.9625381253672\n           5%: -73.96271681648763\n          25%: -73.94899418369535\n          50%: -73.92781608686656\n          75%: -73.86568757556734\n          95%: -73.83036085451191\n          99%: -73.82408028185196\n        99.9%: -73.76933835267566\n\n    mean: -73.91386493958264\n    std: 0.04871109408945094\n    variance: 0.002372770687391343\n    skewness: 0.40269738982876896\n    kurtosis: -0.6135155980288367\n\nColumnProfile:\n    column_name: pickup_latitude\n    type: FieldType.DECIMAL\n\n    min: 40.57548522949219\n    max: 40.879852294921875\n    count: 7059.0\n    missing_count: 0.0\n    not_missing_count: 7059.0\n    percent_missing: 0.0\n    error_count: 0.0\n    empty_count: 0.0\n\n\n    Quantiles:\n         0.1%: 40.63325949859619\n           1%: 40.71318882397242\n           5%: 40.71310997009277\n          25%: 40.72136940522559\n          50%: 40.75814734274077\n          75%: 40.80511719469699\n          95%: 40.84884778760839\n          99%: 40.867565543101385\n        99.9%: 40.8777873061498\n\n    mean: 40.76522599299848\n    std: 0.048348486975952946\n    variance: 0.002337576192863892\n    skewness: 0.22808816936950824\n    kurtosis: -0.5988623711401839\n\nColumnProfile:\n    column_name: dropoff_longitude\n    type: FieldType.DECIMAL\n\n    min: -74.08574676513672\n    max: -73.72087097167969\n    count: 7059.0\n    missing_count: 0.0\n    not_missing_count: 7059.0\n    percent_missing: 0.0\n    error_count: 0.0\n    empty_count: 0.0\n\n\n    Quantiles:\n         0.1%: -74.07818688964844\n           1%: -73.98567926468519\n           5%: -73.9863762488732\n          25%: -73.95902368337272\n          50%: -73.93676169016139\n          75%: -73.88494428725468\n          95%: -73.81556715560116\n          99%: -73.77670712575907\n        99.9%: -73.73347627487183\n\n    mean: -73.92071783817232\n    std: 0.05596095716658376\n    variance: 0.003131628727000222\n    skewness: 0.648648946871952\n    kurtosis: 0.022914068468275595\n\nColumnProfile:\n    column_name: dropoff_latitude\n    type: FieldType.DECIMAL\n\n    min: 40.58353042602539\n    max: 40.87973403930664\n    count: 7059.0\n    missing_count: 0.0\n    not_missing_count: 7059.0\n    percent_missing: 0.0\n    error_count: 0.0\n    empty_count: 0.0\n\n\n    Quantiles:\n         0.1%: 40.600360892308224\n           1%: 40.695507700662404\n           5%: 40.69378039042154\n          25%: 40.72760406115935\n          50%: 40.75816282826525\n          75%: 40.788390210071086\n          95%: 40.85051895320416\n          99%: 40.86785722351075\n        99.9%: 40.87870288767134\n\n    mean: 40.7594872258256\n    std: 0.05046209380939558\n    variance: 0.0025464229116282395\n    skewness: 0.048417933848660985\n    kurtosis: -0.0368799343056212\n\nColumnProfile:\n    column_name: passengers\n    type: FieldType.DECIMAL\n\n    min: 1.0\n    max: 6.0\n    count: 7059.0\n    missing_count: 0.0\n    not_missing_count: 7059.0\n    percent_missing: 0.0\n    error_count: 0.0\n    empty_count: 0.0\n\n\n    Quantiles:\n         0.1%: 1.0\n           1%: 1.0\n           5%: 1.0\n          25%: 1.0\n          50%: 1.0\n          75%: 5.0\n          95%: 5.0\n          99%: 6.0\n        99.9%: 6.0\n\n    mean: 2.3297917552061156\n    std: 1.7997766302118896\n    variance: 3.239195918656865\n    skewness: 0.8340985645144754\n    kurtosis: -1.1111097095315299\n\nColumnProfile:\n    column_name: distance\n    type: FieldType.DECIMAL\n\n    min: 0.0\n    max: 32.34\n    count: 7059.0\n    missing_count: 0.0\n    not_missing_count: 7059.0\n    percent_missing: 0.0\n    error_count: 0.0\n    empty_count: 0.0\n\n\n    Quantiles:\n         0.1%: 0.0\n           1%: 0.0\n           5%: 0.0\n          25%: 0.8879813432835821\n          50%: 2.00928191113577\n          75%: 4.256064516129032\n          95%: 10.115352306852298\n          99%: 14.62776848484848\n        99.9%: 20.383848833333303\n\n    mean: 3.087386315342124\n    std: 3.2959621233744296\n    variance: 10.86336631871888\n    skewness: 1.924264558987612\n    kurtosis: 5.077200079122136\n\nColumnProfile:\n    column_name: cost\n    type: FieldType.DECIMAL\n\n    min: 0.0\n    max: 444.0\n    count: 7059.0\n    missing_count: 0.0\n    not_missing_count: 7059.0\n    percent_missing: 0.0\n    error_count: 0.0\n    empty_count: 0.0\n\n\n    Quantiles:\n         0.1%: 0.0\n           1%: 3.0092075271667116\n           5%: 3.0\n          25%: 5.993042763157894\n          50%: 9.501893129770993\n          75%: 16.588812067115406\n          95%: 33.46652499999999\n          99%: 52.0\n        99.9%: 75.52346428571352\n\n    mean: 12.911225386032\n    std: 11.64471948001604\n    variance: 135.599491768265\n    skewness: 8.684200777604197\n    kurtosis: 269.81754443324434"
          },
          "metadata": {}
        }
      ]
    },
    {
      "metadata": {},
      "cell_type": "markdown",
      "source": "Before packaging the dataflow, perform two final filters on the data set. To eliminate incorrect data points, filter the dataflow on records where both the `cost` and `distance` are greater than zero."
    },
    {
      "metadata": {
        "trusted": true
      },
      "cell_type": "code",
      "source": "tmp_df = tmp_df.filter(dprep.col(\"distance\") > 0)\ntmp_df = tmp_df.filter(dprep.col(\"cost\") > 0)",
      "execution_count": 23,
      "outputs": []
    },
    {
      "metadata": {},
      "cell_type": "markdown",
      "source": "At this point, you have a fully transformed and prepared dataflow object to use in a machine learning model. The DataPrep SDK includes object serialization functionality, which is used as follows."
    },
    {
      "metadata": {
        "trusted": true
      },
      "cell_type": "code",
      "source": "import os\nfile_path = os.path.join(os.getcwd(), \"dflows.dprep\")\n\ndflow_prepared = tmp_df\npackage = dprep.Package([dflow_prepared])\npackage.save(file_path)",
      "execution_count": 24,
      "outputs": [
        {
          "output_type": "execute_result",
          "execution_count": 24,
          "data": {
            "text/plain": "Package\n  name: None\n  path: /home/nbuser/library/Module_2_Get Started with AzureML/tutorials/dflows.dprep\n  dataflows: [\n    Dataflow {\n      name: dataflow\n      steps: 31\n    },\n  ]"
          },
          "metadata": {}
        }
      ]
    },
    {
      "metadata": {},
      "cell_type": "markdown",
      "source": "## Clean up resources"
    },
    {
      "metadata": {},
      "cell_type": "markdown",
      "source": "Delete the file `dflows.dprep` (whether you are running locally or in Azure Notebooks) in your current directory if you do not wish to continue with part two of the tutorial. If you continue on to part two, you will need the `dflows.dprep` file in the current directory."
    },
    {
      "metadata": {},
      "cell_type": "markdown",
      "source": "## Next steps"
    },
    {
      "metadata": {},
      "cell_type": "markdown",
      "source": "In this Azure Machine Learning Data Prep SDK tutorial, you:\n\n> * Set up your development environment\n> * Loaded and cleansed data sets\n> * Used smart transforms to predict your logic based on an example\n> * Merged and packaged datasets for machine learning training\n\nYou are ready to use this training data in the next part of the tutorial series:\n\n\n> [Tutorial #2: Train regression model](regression-part2-automated-ml.ipynb)"
    }
  ],
  "metadata": {
    "authors": [
      {
        "name": "cforbe"
      }
    ],
    "kernelspec": {
      "name": "python36",
      "display_name": "Python 3.6",
      "language": "python"
    },
    "language_info": {
      "mimetype": "text/x-python",
      "nbconvert_exporter": "python",
      "name": "python",
      "pygments_lexer": "ipython3",
      "version": "3.6.6",
      "file_extension": ".py",
      "codemirror_mode": {
        "version": 3,
        "name": "ipython"
      }
    },
    "msauthor": "trbye"
  },
  "nbformat": 4,
  "nbformat_minor": 2
}